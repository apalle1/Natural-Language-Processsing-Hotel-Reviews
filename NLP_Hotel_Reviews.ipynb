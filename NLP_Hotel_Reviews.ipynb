{
  "nbformat": 4,
  "nbformat_minor": 0,
  "metadata": {
    "colab": {
      "name": "NLP-Hotel-Reviews.ipynb",
      "provenance": [],
      "collapsed_sections": []
    },
    "kernelspec": {
      "name": "python3",
      "display_name": "Python 3"
    },
    "accelerator": "GPU"
  },
  "cells": [
    {
      "cell_type": "code",
      "metadata": {
        "id": "umk5KNC4jKu1",
        "colab_type": "code",
        "colab": {
          "base_uri": "https://localhost:8080/",
          "height": 271
        },
        "outputId": "8fca4e8a-d49b-4948-edc6-045ebe67c823"
      },
      "source": [
        "import sys\n",
        "#print(sys.version)\n",
        "#!pip install twython\n",
        "#!pip install tqdm\n",
        "\n",
        "import matplotlib.pyplot as plt\n",
        "import seaborn as sns\n",
        "%matplotlib inline\n",
        "\n",
        "#Data Packages\n",
        "import math\n",
        "import pandas as pd \n",
        "import numpy as np\n",
        "\n",
        "#Progress bar\n",
        "from tqdm import tqdm\n",
        "\n",
        "#Counter\n",
        "from collections import Counter\n",
        "\n",
        "#Operation\n",
        "import operator\n",
        "\n",
        "#Natural Language Processing Packages\n",
        "import re # regex expressions\n",
        "import nltk # natural lang\n",
        "\n",
        "## Download Resources\n",
        "nltk.download(\"vader_lexicon\") \n",
        "nltk.download(\"stopwords\")\n",
        "nltk.download(\"averaged_perceptron_tagger\")\n",
        "nltk.download(\"wordnet\")\n",
        "\n",
        "from nltk.sentiment import SentimentAnalyzer\n",
        "from nltk.sentiment.vader import SentimentIntensityAnalyzer \n",
        "from nltk.sentiment.util import * \n",
        "from nltk import tokenize\n",
        "from nltk.corpus import stopwords\n",
        "from nltk.tag import PerceptronTagger\n",
        "from nltk.data import find\n",
        "\n",
        "## Machine Learning\n",
        "import sklearn\n",
        "import sklearn.metrics as metrics"
      ],
      "execution_count": 1,
      "outputs": [
        {
          "output_type": "stream",
          "text": [
            "/usr/local/lib/python3.6/dist-packages/statsmodels/tools/_testing.py:19: FutureWarning: pandas.util.testing is deprecated. Use the functions in the public API at pandas.testing instead.\n",
            "  import pandas.util.testing as tm\n"
          ],
          "name": "stderr"
        },
        {
          "output_type": "stream",
          "text": [
            "[nltk_data] Downloading package vader_lexicon to /root/nltk_data...\n",
            "[nltk_data]   Package vader_lexicon is already up-to-date!\n",
            "[nltk_data] Downloading package stopwords to /root/nltk_data...\n",
            "[nltk_data]   Package stopwords is already up-to-date!\n",
            "[nltk_data] Downloading package averaged_perceptron_tagger to\n",
            "[nltk_data]     /root/nltk_data...\n",
            "[nltk_data]   Package averaged_perceptron_tagger is already up-to-\n",
            "[nltk_data]       date!\n",
            "[nltk_data] Downloading package wordnet to /root/nltk_data...\n",
            "[nltk_data]   Package wordnet is already up-to-date!\n"
          ],
          "name": "stdout"
        },
        {
          "output_type": "stream",
          "text": [
            "/usr/local/lib/python3.6/dist-packages/nltk/twitter/__init__.py:20: UserWarning: The twython library has not been installed. Some functionality from the twitter package will not be available.\n",
            "  warnings.warn(\"The twython library has not been installed. \"\n"
          ],
          "name": "stderr"
        }
      ]
    },
    {
      "cell_type": "markdown",
      "metadata": {
        "id": "MVR5GJnJlkoo",
        "colab_type": "text"
      },
      "source": [
        "# 1) Preprocessing"
      ]
    },
    {
      "cell_type": "code",
      "metadata": {
        "id": "Wog87wfzlb2F",
        "colab_type": "code",
        "colab": {}
      },
      "source": [
        "def evalSentences(sentences, to_df=False, columns=[]):\n",
        "\n",
        "  sid = SentimentIntensityAnalyzer()\n",
        "  pdlist = []\n",
        "  if to_df:\n",
        "    for sentence in tqdm(sentences):\n",
        "      ss = sid.polarity_scores(sentence)\n",
        "      pdlist.append([sentence]+[ss['compound']])\n",
        "    reviewDf = pd.DataFrame(pdlist)\n",
        "    reviewDf.columns = columns\n",
        "    return reviewDf\n",
        "  else:\n",
        "    for sentence in tqdm(sentences):\n",
        "      print(sentence)\n",
        "      ss = sid.polarity_scores(sentence)\n",
        "      #print(ss)\n",
        "      #print(type(ss))\n",
        "      for k in sorted(ss):\n",
        "        print('{0}: {1}, '.format(k, ss[k]), end='')\n",
        "      print()"
      ],
      "execution_count": 2,
      "outputs": []
    },
    {
      "cell_type": "code",
      "metadata": {
        "id": "59aIjjxrlrPG",
        "colab_type": "code",
        "colab": {
          "base_uri": "https://localhost:8080/",
          "height": 334
        },
        "outputId": "aa2cc30f-23fb-4ead-b4a9-0f9469bd40ba"
      },
      "source": [
        "# Example sentences\n",
        "sentences = [\"VADER is not smart, handsome, and funny .\",\n",
        "             \"VADER is not smart and  handsome and funny and happy and good .\",\n",
        "             \"VADER is not smart, but handsome, and funny\",\n",
        "             \"VADER is smart.\",\n",
        "             \"Professor Scott is a great professor with excellent teaching skills and research ability\",\n",
        "             \"Eldan is a good programmer, he is very good at python and Java\",\n",
        "             \"George is a good programmer, he is good at Java and C++ but not doing that well in python\",\n",
        "             \"MIEXXX is such a boring course, the projects are too long to finish\",\n",
        "             \"MIE451 is a very intersting course which taught by a great professor and very useful knowledge\"]\n",
        "\n",
        "# Vader has list of lexicons, and each lexicon is given a score from -4 to 4\n",
        "evalSentences(sentences)"
      ],
      "execution_count": 3,
      "outputs": [
        {
          "output_type": "stream",
          "text": [
            "100%|██████████| 9/9 [00:00<00:00, 1031.19it/s]"
          ],
          "name": "stderr"
        },
        {
          "output_type": "stream",
          "text": [
            "VADER is not smart, handsome, and funny .\n",
            "compound: -0.2467, neg: 0.415, neu: 0.339, pos: 0.246, \n",
            "VADER is not smart and  handsome and funny and happy and good .\n",
            "compound: 0.6822, neg: 0.228, neu: 0.327, pos: 0.444, \n",
            "VADER is not smart, but handsome, and funny\n",
            "compound: -0.057, neg: 0.364, neu: 0.359, pos: 0.277, \n",
            "VADER is smart.\n",
            "compound: 0.4019, neg: 0.0, neu: 0.426, pos: 0.574, \n",
            "Professor Scott is a great professor with excellent teaching skills and research ability\n",
            "compound: 0.8779, neg: 0.0, neu: 0.471, pos: 0.529, \n",
            "Eldan is a good programmer, he is very good at python and Java\n",
            "compound: 0.7003, neg: 0.0, neu: 0.633, pos: 0.367, \n",
            "George is a good programmer, he is good at Java and C++ but not doing that well in python\n",
            "compound: 0.1727, neg: 0.105, neu: 0.71, pos: 0.185, \n",
            "MIEXXX is such a boring course, the projects are too long to finish\n",
            "compound: -0.3182, neg: 0.173, neu: 0.827, pos: 0.0, \n",
            "MIE451 is a very intersting course which taught by a great professor and very useful knowledge\n",
            "compound: 0.807, neg: 0.0, neu: 0.622, pos: 0.378, \n"
          ],
          "name": "stdout"
        },
        {
          "output_type": "stream",
          "text": [
            "\n"
          ],
          "name": "stderr"
        }
      ]
    },
    {
      "cell_type": "markdown",
      "metadata": {
        "id": "F1KzKfAYqZMV",
        "colab_type": "text"
      },
      "source": [
        "# Crawl & Parse Tripadvisor\n",
        "\n",
        "Tripadvisor is an online travel research company, where we go to praise, criticize and make hotel reservations. Tripadvisor has tons of information regarding hotels. This can be extremely useful to understand reviews of hotels in a city, analyze price changes with season, and lot more. In this article, we will analyze real hotel review data crawled from the Tripadvisor website to automatically identify positive and negative keywords and phrases associated with hotels and to better understand characteristics of data analysis tools, extracting explanatory review summaries, and human reviewing behavior.\n",
        "\n",
        "In an effort to understand hotel guests reviews, I crawled the TripAdvisor website for the hotels in the city of Niagara Falls. I for 18130 reviews from 69 hotels. To use the Tripadvisor crawler, download the Python files from\n",
        "[here](https://github.com/aesuli/trip-advisor-crawler). First run the crawler trip-advisor-crawler.py from the command with a city selection and then parse all crawled html file into csv using parser.py. If we search the hotel reviews of city Niagara Falls on Tripadvisor, we can observe that the web address is https://www.tripadvisor.com/Hotels-g154998-Niagara_Falls_Ontario-Hotels.html. From the web address, we can find two important pieces of information for the command line invocation. First, the domain is 'com'. And second, the city code of the Niagara Falls is 154998 on Tripadvisor. To download the reviews, we will also need to specify the local path for the files. In my case, the location is the \"data\" folder. Then we can extract the reviews using the following command line:\n",
        "\n",
        "`python trip−advisor−crawler.py −o data ca:154998`\n",
        "\n",
        "The downloaded reviews are in html format. We need to process the data into the csv format so that we can easily load it into Python. Fortunately, we do not need to write the code ourself. Run the following command line after extraction from previous step:\n",
        "\n",
        "`python parser.py −d data −o reviews.csv`\n",
        "\n",
        "We stop crawling the hotels within the city after 10 hours (i.e., run your crawler overnight). Be aware that there are two additional things we need to do if we stop crawling manually or the file cannot be parsed due to an incomplete crawl:\n",
        "\n",
        "• In ids.txt file, delete the last hotel’s reviews entirely (all reviews for that hotel).\n",
        "\n",
        "• In the data folders, delete the folder of the same hotel entirely.\n"
      ]
    },
    {
      "cell_type": "code",
      "metadata": {
        "id": "ZE3NSRMYH35Y",
        "colab_type": "code",
        "colab": {
          "base_uri": "https://localhost:8080/",
          "height": 33
        },
        "outputId": "18def1b7-46ab-463e-a613-526a30571f41"
      },
      "source": [
        "# Mount google drive\n",
        "from google.colab import drive\n",
        "drive.mount('/content/gdrive')"
      ],
      "execution_count": 4,
      "outputs": [
        {
          "output_type": "stream",
          "text": [
            "Drive already mounted at /content/gdrive; to attempt to forcibly remount, call drive.mount(\"/content/gdrive\", force_remount=True).\n"
          ],
          "name": "stdout"
        }
      ]
    },
    {
      "cell_type": "code",
      "metadata": {
        "id": "WPjPE0jDmCCt",
        "colab_type": "code",
        "colab": {}
      },
      "source": [
        "# Read in from pandas\n",
        "hotelDf = pd.read_csv('/content/gdrive/My Drive/Advanced Topics/Hotel Reviews/reviews.csv', header=None)\n",
        "hotelDf.columns=['filePath','hotelName','reviewColumn','ratingScore','groundTruth']"
      ],
      "execution_count": 5,
      "outputs": []
    },
    {
      "cell_type": "code",
      "metadata": {
        "id": "1stlGNglmTZF",
        "colab_type": "code",
        "colab": {
          "base_uri": "https://localhost:8080/",
          "height": 196
        },
        "outputId": "924a92d6-c005-4803-e15a-dd75365af7b3"
      },
      "source": [
        "hotelDf.head()"
      ],
      "execution_count": 6,
      "outputs": [
        {
          "output_type": "execute_result",
          "data": {
            "text/html": [
              "<div>\n",
              "<style scoped>\n",
              "    .dataframe tbody tr th:only-of-type {\n",
              "        vertical-align: middle;\n",
              "    }\n",
              "\n",
              "    .dataframe tbody tr th {\n",
              "        vertical-align: top;\n",
              "    }\n",
              "\n",
              "    .dataframe thead th {\n",
              "        text-align: right;\n",
              "    }\n",
              "</style>\n",
              "<table border=\"1\" class=\"dataframe\">\n",
              "  <thead>\n",
              "    <tr style=\"text-align: right;\">\n",
              "      <th></th>\n",
              "      <th>filePath</th>\n",
              "      <th>hotelName</th>\n",
              "      <th>reviewColumn</th>\n",
              "      <th>ratingScore</th>\n",
              "      <th>groundTruth</th>\n",
              "    </tr>\n",
              "  </thead>\n",
              "  <tbody>\n",
              "    <tr>\n",
              "      <th>0</th>\n",
              "      <td>data\\ca\\154998\\1012890\\114958586.html</td>\n",
              "      <td>E-Lodge Near the Falls</td>\n",
              "      <td>\"my husband son and I came for Canada Day.  We...</td>\n",
              "      <td>4</td>\n",
              "      <td>positive</td>\n",
              "    </tr>\n",
              "    <tr>\n",
              "      <th>1</th>\n",
              "      <td>data\\ca\\154998\\1012890\\115635091.html</td>\n",
              "      <td>E-Lodge Near the Falls</td>\n",
              "      <td>\"Smashing!! We were welcomed to the Motel by e...</td>\n",
              "      <td>5</td>\n",
              "      <td>positive</td>\n",
              "    </tr>\n",
              "    <tr>\n",
              "      <th>2</th>\n",
              "      <td>data\\ca\\154998\\1012890\\179991947.html</td>\n",
              "      <td>E-Lodge Near the Falls</td>\n",
              "      <td>\"We chose this hotel as we had a car and did n...</td>\n",
              "      <td>2</td>\n",
              "      <td>negative</td>\n",
              "    </tr>\n",
              "    <tr>\n",
              "      <th>3</th>\n",
              "      <td>data\\ca\\154998\\1012890\\204581030.html</td>\n",
              "      <td>E-Lodge Near the Falls</td>\n",
              "      <td>\"Very affordable rooms in the Niagara Falls ar...</td>\n",
              "      <td>4</td>\n",
              "      <td>positive</td>\n",
              "    </tr>\n",
              "    <tr>\n",
              "      <th>4</th>\n",
              "      <td>data\\ca\\154998\\1012890\\294800654.html</td>\n",
              "      <td>E-Lodge Near the Falls</td>\n",
              "      <td>\"I booked this hotel online, without having se...</td>\n",
              "      <td>1</td>\n",
              "      <td>negative</td>\n",
              "    </tr>\n",
              "  </tbody>\n",
              "</table>\n",
              "</div>"
            ],
            "text/plain": [
              "                                filePath  ... groundTruth\n",
              "0  data\\ca\\154998\\1012890\\114958586.html  ...    positive\n",
              "1  data\\ca\\154998\\1012890\\115635091.html  ...    positive\n",
              "2  data\\ca\\154998\\1012890\\179991947.html  ...    negative\n",
              "3  data\\ca\\154998\\1012890\\204581030.html  ...    positive\n",
              "4  data\\ca\\154998\\1012890\\294800654.html  ...    negative\n",
              "\n",
              "[5 rows x 5 columns]"
            ]
          },
          "metadata": {
            "tags": []
          },
          "execution_count": 6
        }
      ]
    },
    {
      "cell_type": "code",
      "metadata": {
        "id": "nTm2m2nvJey5",
        "colab_type": "code",
        "colab": {
          "base_uri": "https://localhost:8080/",
          "height": 33
        },
        "outputId": "e07fe7f7-bef8-4421-8036-626d99fd3c80"
      },
      "source": [
        "hotelDf.shape"
      ],
      "execution_count": 7,
      "outputs": [
        {
          "output_type": "execute_result",
          "data": {
            "text/plain": [
              "(18131, 5)"
            ]
          },
          "metadata": {
            "tags": []
          },
          "execution_count": 7
        }
      ]
    },
    {
      "cell_type": "code",
      "metadata": {
        "id": "gVMO1KDsdx8C",
        "colab_type": "code",
        "colab": {}
      },
      "source": [
        "reviews = hotelDf['reviewColumn'].values "
      ],
      "execution_count": 8,
      "outputs": []
    },
    {
      "cell_type": "code",
      "metadata": {
        "id": "veQyzscYdyeQ",
        "colab_type": "code",
        "colab": {
          "base_uri": "https://localhost:8080/",
          "height": 213
        },
        "outputId": "12880c94-74cd-4104-f3ba-3524a037170f"
      },
      "source": [
        "reviewDF = evalSentences(reviews, to_df=True, columns=['reviewCol','vader'])\n",
        "reviewDF.head()"
      ],
      "execution_count": 9,
      "outputs": [
        {
          "output_type": "stream",
          "text": [
            "100%|██████████| 18131/18131 [00:27<00:00, 663.44it/s]\n"
          ],
          "name": "stderr"
        },
        {
          "output_type": "execute_result",
          "data": {
            "text/html": [
              "<div>\n",
              "<style scoped>\n",
              "    .dataframe tbody tr th:only-of-type {\n",
              "        vertical-align: middle;\n",
              "    }\n",
              "\n",
              "    .dataframe tbody tr th {\n",
              "        vertical-align: top;\n",
              "    }\n",
              "\n",
              "    .dataframe thead th {\n",
              "        text-align: right;\n",
              "    }\n",
              "</style>\n",
              "<table border=\"1\" class=\"dataframe\">\n",
              "  <thead>\n",
              "    <tr style=\"text-align: right;\">\n",
              "      <th></th>\n",
              "      <th>reviewCol</th>\n",
              "      <th>vader</th>\n",
              "    </tr>\n",
              "  </thead>\n",
              "  <tbody>\n",
              "    <tr>\n",
              "      <th>0</th>\n",
              "      <td>\"my husband son and I came for Canada Day.  We...</td>\n",
              "      <td>0.9017</td>\n",
              "    </tr>\n",
              "    <tr>\n",
              "      <th>1</th>\n",
              "      <td>\"Smashing!! We were welcomed to the Motel by e...</td>\n",
              "      <td>0.9114</td>\n",
              "    </tr>\n",
              "    <tr>\n",
              "      <th>2</th>\n",
              "      <td>\"We chose this hotel as we had a car and did n...</td>\n",
              "      <td>0.5951</td>\n",
              "    </tr>\n",
              "    <tr>\n",
              "      <th>3</th>\n",
              "      <td>\"Very affordable rooms in the Niagara Falls ar...</td>\n",
              "      <td>0.0129</td>\n",
              "    </tr>\n",
              "    <tr>\n",
              "      <th>4</th>\n",
              "      <td>\"I booked this hotel online, without having se...</td>\n",
              "      <td>-0.7219</td>\n",
              "    </tr>\n",
              "  </tbody>\n",
              "</table>\n",
              "</div>"
            ],
            "text/plain": [
              "                                           reviewCol   vader\n",
              "0  \"my husband son and I came for Canada Day.  We...  0.9017\n",
              "1  \"Smashing!! We were welcomed to the Motel by e...  0.9114\n",
              "2  \"We chose this hotel as we had a car and did n...  0.5951\n",
              "3  \"Very affordable rooms in the Niagara Falls ar...  0.0129\n",
              "4  \"I booked this hotel online, without having se... -0.7219"
            ]
          },
          "metadata": {
            "tags": []
          },
          "execution_count": 9
        }
      ]
    },
    {
      "cell_type": "markdown",
      "metadata": {
        "id": "SY_qj9n3jySl",
        "colab_type": "text"
      },
      "source": [
        "*A counter is a container that stores elements as dictionary keys, and their counts are stored as dictionary values.*\n",
        "\n",
        "```\n",
        "from collections import Counter\n",
        " \n",
        "myList = [1,1,2,3,4,5,3,2,3,4,2,1,2,3]\n",
        "\n",
        "print(Counter(myList))\n",
        "\n",
        "print(Counter(myList).items())\n",
        "\n",
        "print(Counter(myList).keys())\n",
        "\n",
        "print(Counter(myList).values())\n",
        "```\n",
        "\n",
        "*Create and Update Counters - An empty Counter can be constructed with no arguments and populated via the update() method. The count values are increased based on the new data, rather than replaced. In the below example, the count for a goes from 3 to 4.*\n",
        "\n",
        "```\n",
        "from collections import Counter\n",
        "\n",
        "c = Counter()\n",
        "print ('Initial :', c)\n",
        "\n",
        "c.update('abcdaab')\n",
        "print ('Sequence:', c)\n",
        "\n",
        "c.update({'a':1, 'd':5})\n",
        "print ('Dict:', c)\n",
        "```\n",
        "\n",
        "*Most Common Words - Use most_common() to produce a sequence of the n most frequently encountered keys and their respective values. The below example counts the letters appearing in all of the words in the system dictionary to produce a frequency distribution, then prints the two most common letters.*\n",
        "\n",
        "```\n",
        "c = Counter()\n",
        "print ('Initial :', c)\n",
        " \n",
        "c.update('abcdaab')\n",
        "print ('Sequence:', c)\n",
        " \n",
        "c.update('abcdaab')\n",
        "print ('Dict:', c)\n",
        "\n",
        "print ('Most Common:', c.most_common(2)) \n",
        "```\n",
        "\n",
        "*Use of List Comprehensions*\n",
        "\n",
        "```\n",
        "# https://stackoverflow.com/questions/4260280/if-else-in-a-list-comprehension\n",
        "\n",
        "In general,\n",
        "\n",
        "[f(x) if condition else g(x) for x in sequence]\n",
        "\n",
        "And, for list comprehensions with if conditions only,\n",
        "\n",
        "[f(x) for x in sequence if condition]\n",
        "```"
      ]
    },
    {
      "cell_type": "code",
      "metadata": {
        "id": "6X8EgWU_WjEB",
        "colab_type": "code",
        "colab": {}
      },
      "source": [
        "def dataFrameTransformation(hotelDf, reviewDF, k=500):\n",
        "  reviews = reviewDF['reviewCol'].values\n",
        "  from nltk.corpus import stopwords\n",
        "  stop = set(stopwords.words('english'))\n",
        "\n",
        "  counter = Counter()\n",
        "  for review in reviews:\n",
        "    counter.update([word.lower() \n",
        "                    for word \n",
        "                    in re.findall(r'\\w+', review) \n",
        "                    if word.lower() not in stop and len(word) > 2])\n",
        "  topk = counter.most_common(k)        \n",
        "\n",
        "  freqReview = []\n",
        "\n",
        "  for i in range(len(reviews)):\n",
        "    tempCounter = Counter([word.lower() for word in re.findall(r'\\w+',reviews[i])])\n",
        "    topkinReview = [1 if tempCounter[word] > 0 else 0 for (word,wordCount) in topk]\n",
        "    freqReview.append(topkinReview)\n",
        "      \n",
        "  freqReviewDf = pd.DataFrame(freqReview)\n",
        "  dfName = []\n",
        "  for c in topk:\n",
        "    dfName.append(c[0])\n",
        "  freqReviewDf.columns = dfName\n",
        "  finalreviewDf = reviewDF.join(freqReviewDf)\n",
        "  finaldf = hotelDf[['hotelName','ratingScore','groundTruth']].join(finalreviewDf)\n",
        "  return topk, finaldf"
      ],
      "execution_count": 10,
      "outputs": []
    },
    {
      "cell_type": "code",
      "metadata": {
        "id": "s6CPVFC0WjJK",
        "colab_type": "code",
        "colab": {}
      },
      "source": [
        "topk, finaldf = dataFrameTransformation(hotelDf, reviewDF, k=500)"
      ],
      "execution_count": 11,
      "outputs": []
    },
    {
      "cell_type": "code",
      "metadata": {
        "id": "eXX2dr9qYD0v",
        "colab_type": "code",
        "colab": {
          "base_uri": "https://localhost:8080/",
          "height": 268
        },
        "outputId": "611e86b9-28aa-4145-de15-c6270db609e7"
      },
      "source": [
        "topk[0:15]"
      ],
      "execution_count": 12,
      "outputs": [
        {
          "output_type": "execute_result",
          "data": {
            "text/plain": [
              "[('room', 29702),\n",
              " ('hotel', 25347),\n",
              " ('falls', 22254),\n",
              " ('view', 13200),\n",
              " ('great', 10265),\n",
              " ('stay', 9975),\n",
              " ('would', 8946),\n",
              " ('staff', 8210),\n",
              " ('clean', 7660),\n",
              " ('one', 7224),\n",
              " ('night', 7209),\n",
              " ('good', 7171),\n",
              " ('rooms', 6972),\n",
              " ('nice', 6914),\n",
              " ('niagara', 6397)]"
            ]
          },
          "metadata": {
            "tags": []
          },
          "execution_count": 12
        }
      ]
    },
    {
      "cell_type": "code",
      "metadata": {
        "id": "RC666YwxWjN4",
        "colab_type": "code",
        "colab": {
          "base_uri": "https://localhost:8080/",
          "height": 597
        },
        "outputId": "072cc5f6-03b3-4df2-d051-c2fe7044edfc"
      },
      "source": [
        "finaldf.head()"
      ],
      "execution_count": 13,
      "outputs": [
        {
          "output_type": "execute_result",
          "data": {
            "text/html": [
              "<div>\n",
              "<style scoped>\n",
              "    .dataframe tbody tr th:only-of-type {\n",
              "        vertical-align: middle;\n",
              "    }\n",
              "\n",
              "    .dataframe tbody tr th {\n",
              "        vertical-align: top;\n",
              "    }\n",
              "\n",
              "    .dataframe thead th {\n",
              "        text-align: right;\n",
              "    }\n",
              "</style>\n",
              "<table border=\"1\" class=\"dataframe\">\n",
              "  <thead>\n",
              "    <tr style=\"text-align: right;\">\n",
              "      <th></th>\n",
              "      <th>hotelName</th>\n",
              "      <th>ratingScore</th>\n",
              "      <th>groundTruth</th>\n",
              "      <th>reviewCol</th>\n",
              "      <th>vader</th>\n",
              "      <th>room</th>\n",
              "      <th>hotel</th>\n",
              "      <th>falls</th>\n",
              "      <th>view</th>\n",
              "      <th>great</th>\n",
              "      <th>stay</th>\n",
              "      <th>would</th>\n",
              "      <th>staff</th>\n",
              "      <th>clean</th>\n",
              "      <th>one</th>\n",
              "      <th>night</th>\n",
              "      <th>good</th>\n",
              "      <th>rooms</th>\n",
              "      <th>nice</th>\n",
              "      <th>niagara</th>\n",
              "      <th>parking</th>\n",
              "      <th>stayed</th>\n",
              "      <th>floor</th>\n",
              "      <th>breakfast</th>\n",
              "      <th>quot</th>\n",
              "      <th>get</th>\n",
              "      <th>time</th>\n",
              "      <th>also</th>\n",
              "      <th>location</th>\n",
              "      <th>service</th>\n",
              "      <th>nthe</th>\n",
              "      <th>could</th>\n",
              "      <th>day</th>\n",
              "      <th>well</th>\n",
              "      <th>friendly</th>\n",
              "      <th>area</th>\n",
              "      <th>check</th>\n",
              "      <th>back</th>\n",
              "      <th>walk</th>\n",
              "      <th>like</th>\n",
              "      <th>...</th>\n",
              "      <th>dollars</th>\n",
              "      <th>show</th>\n",
              "      <th>rainbow</th>\n",
              "      <th>entire</th>\n",
              "      <th>business</th>\n",
              "      <th>sitting</th>\n",
              "      <th>complimentary</th>\n",
              "      <th>skyline</th>\n",
              "      <th>river</th>\n",
              "      <th>ended</th>\n",
              "      <th>chose</th>\n",
              "      <th>order</th>\n",
              "      <th>travel</th>\n",
              "      <th>ceiling</th>\n",
              "      <th>others</th>\n",
              "      <th>change</th>\n",
              "      <th>shuttle</th>\n",
              "      <th>non</th>\n",
              "      <th>believe</th>\n",
              "      <th>waiting</th>\n",
              "      <th>microwave</th>\n",
              "      <th>crowne</th>\n",
              "      <th>head</th>\n",
              "      <th>local</th>\n",
              "      <th>poor</th>\n",
              "      <th>point</th>\n",
              "      <th>nthere</th>\n",
              "      <th>past</th>\n",
              "      <th>self</th>\n",
              "      <th>noverall</th>\n",
              "      <th>older</th>\n",
              "      <th>families</th>\n",
              "      <th>tell</th>\n",
              "      <th>cleaned</th>\n",
              "      <th>fall</th>\n",
              "      <th>week</th>\n",
              "      <th>rather</th>\n",
              "      <th>safe</th>\n",
              "      <th>light</th>\n",
              "      <th>four</th>\n",
              "    </tr>\n",
              "  </thead>\n",
              "  <tbody>\n",
              "    <tr>\n",
              "      <th>0</th>\n",
              "      <td>E-Lodge Near the Falls</td>\n",
              "      <td>4</td>\n",
              "      <td>positive</td>\n",
              "      <td>\"my husband son and I came for Canada Day.  We...</td>\n",
              "      <td>0.9017</td>\n",
              "      <td>1</td>\n",
              "      <td>1</td>\n",
              "      <td>1</td>\n",
              "      <td>0</td>\n",
              "      <td>0</td>\n",
              "      <td>1</td>\n",
              "      <td>0</td>\n",
              "      <td>1</td>\n",
              "      <td>0</td>\n",
              "      <td>0</td>\n",
              "      <td>0</td>\n",
              "      <td>1</td>\n",
              "      <td>0</td>\n",
              "      <td>0</td>\n",
              "      <td>0</td>\n",
              "      <td>0</td>\n",
              "      <td>1</td>\n",
              "      <td>0</td>\n",
              "      <td>0</td>\n",
              "      <td>0</td>\n",
              "      <td>0</td>\n",
              "      <td>0</td>\n",
              "      <td>0</td>\n",
              "      <td>0</td>\n",
              "      <td>1</td>\n",
              "      <td>0</td>\n",
              "      <td>0</td>\n",
              "      <td>1</td>\n",
              "      <td>0</td>\n",
              "      <td>0</td>\n",
              "      <td>1</td>\n",
              "      <td>0</td>\n",
              "      <td>0</td>\n",
              "      <td>1</td>\n",
              "      <td>0</td>\n",
              "      <td>...</td>\n",
              "      <td>0</td>\n",
              "      <td>0</td>\n",
              "      <td>0</td>\n",
              "      <td>0</td>\n",
              "      <td>0</td>\n",
              "      <td>0</td>\n",
              "      <td>0</td>\n",
              "      <td>0</td>\n",
              "      <td>0</td>\n",
              "      <td>0</td>\n",
              "      <td>0</td>\n",
              "      <td>0</td>\n",
              "      <td>0</td>\n",
              "      <td>0</td>\n",
              "      <td>0</td>\n",
              "      <td>0</td>\n",
              "      <td>0</td>\n",
              "      <td>0</td>\n",
              "      <td>0</td>\n",
              "      <td>0</td>\n",
              "      <td>0</td>\n",
              "      <td>0</td>\n",
              "      <td>0</td>\n",
              "      <td>0</td>\n",
              "      <td>0</td>\n",
              "      <td>0</td>\n",
              "      <td>0</td>\n",
              "      <td>0</td>\n",
              "      <td>0</td>\n",
              "      <td>0</td>\n",
              "      <td>0</td>\n",
              "      <td>0</td>\n",
              "      <td>0</td>\n",
              "      <td>0</td>\n",
              "      <td>0</td>\n",
              "      <td>0</td>\n",
              "      <td>0</td>\n",
              "      <td>0</td>\n",
              "      <td>0</td>\n",
              "      <td>0</td>\n",
              "    </tr>\n",
              "    <tr>\n",
              "      <th>1</th>\n",
              "      <td>E-Lodge Near the Falls</td>\n",
              "      <td>5</td>\n",
              "      <td>positive</td>\n",
              "      <td>\"Smashing!! We were welcomed to the Motel by e...</td>\n",
              "      <td>0.9114</td>\n",
              "      <td>0</td>\n",
              "      <td>0</td>\n",
              "      <td>0</td>\n",
              "      <td>0</td>\n",
              "      <td>0</td>\n",
              "      <td>0</td>\n",
              "      <td>1</td>\n",
              "      <td>0</td>\n",
              "      <td>0</td>\n",
              "      <td>0</td>\n",
              "      <td>0</td>\n",
              "      <td>0</td>\n",
              "      <td>0</td>\n",
              "      <td>0</td>\n",
              "      <td>0</td>\n",
              "      <td>0</td>\n",
              "      <td>0</td>\n",
              "      <td>0</td>\n",
              "      <td>0</td>\n",
              "      <td>0</td>\n",
              "      <td>0</td>\n",
              "      <td>0</td>\n",
              "      <td>0</td>\n",
              "      <td>0</td>\n",
              "      <td>0</td>\n",
              "      <td>0</td>\n",
              "      <td>0</td>\n",
              "      <td>0</td>\n",
              "      <td>0</td>\n",
              "      <td>1</td>\n",
              "      <td>0</td>\n",
              "      <td>0</td>\n",
              "      <td>0</td>\n",
              "      <td>0</td>\n",
              "      <td>0</td>\n",
              "      <td>...</td>\n",
              "      <td>0</td>\n",
              "      <td>0</td>\n",
              "      <td>0</td>\n",
              "      <td>0</td>\n",
              "      <td>0</td>\n",
              "      <td>0</td>\n",
              "      <td>0</td>\n",
              "      <td>0</td>\n",
              "      <td>0</td>\n",
              "      <td>0</td>\n",
              "      <td>0</td>\n",
              "      <td>0</td>\n",
              "      <td>0</td>\n",
              "      <td>0</td>\n",
              "      <td>0</td>\n",
              "      <td>0</td>\n",
              "      <td>0</td>\n",
              "      <td>0</td>\n",
              "      <td>0</td>\n",
              "      <td>0</td>\n",
              "      <td>0</td>\n",
              "      <td>0</td>\n",
              "      <td>0</td>\n",
              "      <td>0</td>\n",
              "      <td>0</td>\n",
              "      <td>0</td>\n",
              "      <td>0</td>\n",
              "      <td>0</td>\n",
              "      <td>0</td>\n",
              "      <td>0</td>\n",
              "      <td>0</td>\n",
              "      <td>0</td>\n",
              "      <td>0</td>\n",
              "      <td>0</td>\n",
              "      <td>0</td>\n",
              "      <td>0</td>\n",
              "      <td>0</td>\n",
              "      <td>0</td>\n",
              "      <td>0</td>\n",
              "      <td>0</td>\n",
              "    </tr>\n",
              "    <tr>\n",
              "      <th>2</th>\n",
              "      <td>E-Lodge Near the Falls</td>\n",
              "      <td>2</td>\n",
              "      <td>negative</td>\n",
              "      <td>\"We chose this hotel as we had a car and did n...</td>\n",
              "      <td>0.5951</td>\n",
              "      <td>0</td>\n",
              "      <td>1</td>\n",
              "      <td>1</td>\n",
              "      <td>0</td>\n",
              "      <td>0</td>\n",
              "      <td>0</td>\n",
              "      <td>1</td>\n",
              "      <td>0</td>\n",
              "      <td>0</td>\n",
              "      <td>0</td>\n",
              "      <td>0</td>\n",
              "      <td>0</td>\n",
              "      <td>1</td>\n",
              "      <td>0</td>\n",
              "      <td>0</td>\n",
              "      <td>1</td>\n",
              "      <td>0</td>\n",
              "      <td>0</td>\n",
              "      <td>0</td>\n",
              "      <td>0</td>\n",
              "      <td>1</td>\n",
              "      <td>0</td>\n",
              "      <td>0</td>\n",
              "      <td>0</td>\n",
              "      <td>0</td>\n",
              "      <td>0</td>\n",
              "      <td>0</td>\n",
              "      <td>0</td>\n",
              "      <td>0</td>\n",
              "      <td>0</td>\n",
              "      <td>0</td>\n",
              "      <td>0</td>\n",
              "      <td>0</td>\n",
              "      <td>0</td>\n",
              "      <td>0</td>\n",
              "      <td>...</td>\n",
              "      <td>0</td>\n",
              "      <td>0</td>\n",
              "      <td>0</td>\n",
              "      <td>0</td>\n",
              "      <td>0</td>\n",
              "      <td>0</td>\n",
              "      <td>0</td>\n",
              "      <td>0</td>\n",
              "      <td>0</td>\n",
              "      <td>0</td>\n",
              "      <td>1</td>\n",
              "      <td>0</td>\n",
              "      <td>0</td>\n",
              "      <td>0</td>\n",
              "      <td>0</td>\n",
              "      <td>0</td>\n",
              "      <td>0</td>\n",
              "      <td>0</td>\n",
              "      <td>0</td>\n",
              "      <td>0</td>\n",
              "      <td>0</td>\n",
              "      <td>0</td>\n",
              "      <td>0</td>\n",
              "      <td>0</td>\n",
              "      <td>0</td>\n",
              "      <td>0</td>\n",
              "      <td>0</td>\n",
              "      <td>0</td>\n",
              "      <td>0</td>\n",
              "      <td>0</td>\n",
              "      <td>0</td>\n",
              "      <td>0</td>\n",
              "      <td>0</td>\n",
              "      <td>0</td>\n",
              "      <td>0</td>\n",
              "      <td>0</td>\n",
              "      <td>0</td>\n",
              "      <td>0</td>\n",
              "      <td>0</td>\n",
              "      <td>0</td>\n",
              "    </tr>\n",
              "    <tr>\n",
              "      <th>3</th>\n",
              "      <td>E-Lodge Near the Falls</td>\n",
              "      <td>4</td>\n",
              "      <td>positive</td>\n",
              "      <td>\"Very affordable rooms in the Niagara Falls ar...</td>\n",
              "      <td>0.0129</td>\n",
              "      <td>0</td>\n",
              "      <td>0</td>\n",
              "      <td>1</td>\n",
              "      <td>0</td>\n",
              "      <td>0</td>\n",
              "      <td>0</td>\n",
              "      <td>0</td>\n",
              "      <td>0</td>\n",
              "      <td>0</td>\n",
              "      <td>0</td>\n",
              "      <td>0</td>\n",
              "      <td>0</td>\n",
              "      <td>1</td>\n",
              "      <td>0</td>\n",
              "      <td>1</td>\n",
              "      <td>0</td>\n",
              "      <td>0</td>\n",
              "      <td>0</td>\n",
              "      <td>1</td>\n",
              "      <td>0</td>\n",
              "      <td>0</td>\n",
              "      <td>0</td>\n",
              "      <td>0</td>\n",
              "      <td>0</td>\n",
              "      <td>0</td>\n",
              "      <td>0</td>\n",
              "      <td>0</td>\n",
              "      <td>0</td>\n",
              "      <td>0</td>\n",
              "      <td>0</td>\n",
              "      <td>1</td>\n",
              "      <td>0</td>\n",
              "      <td>0</td>\n",
              "      <td>0</td>\n",
              "      <td>0</td>\n",
              "      <td>...</td>\n",
              "      <td>0</td>\n",
              "      <td>0</td>\n",
              "      <td>0</td>\n",
              "      <td>0</td>\n",
              "      <td>0</td>\n",
              "      <td>0</td>\n",
              "      <td>0</td>\n",
              "      <td>0</td>\n",
              "      <td>0</td>\n",
              "      <td>0</td>\n",
              "      <td>0</td>\n",
              "      <td>0</td>\n",
              "      <td>0</td>\n",
              "      <td>0</td>\n",
              "      <td>0</td>\n",
              "      <td>0</td>\n",
              "      <td>0</td>\n",
              "      <td>0</td>\n",
              "      <td>0</td>\n",
              "      <td>0</td>\n",
              "      <td>0</td>\n",
              "      <td>0</td>\n",
              "      <td>0</td>\n",
              "      <td>0</td>\n",
              "      <td>0</td>\n",
              "      <td>0</td>\n",
              "      <td>0</td>\n",
              "      <td>0</td>\n",
              "      <td>0</td>\n",
              "      <td>0</td>\n",
              "      <td>0</td>\n",
              "      <td>0</td>\n",
              "      <td>0</td>\n",
              "      <td>0</td>\n",
              "      <td>0</td>\n",
              "      <td>0</td>\n",
              "      <td>0</td>\n",
              "      <td>0</td>\n",
              "      <td>0</td>\n",
              "      <td>0</td>\n",
              "    </tr>\n",
              "    <tr>\n",
              "      <th>4</th>\n",
              "      <td>E-Lodge Near the Falls</td>\n",
              "      <td>1</td>\n",
              "      <td>negative</td>\n",
              "      <td>\"I booked this hotel online, without having se...</td>\n",
              "      <td>-0.7219</td>\n",
              "      <td>1</td>\n",
              "      <td>1</td>\n",
              "      <td>1</td>\n",
              "      <td>0</td>\n",
              "      <td>0</td>\n",
              "      <td>1</td>\n",
              "      <td>0</td>\n",
              "      <td>0</td>\n",
              "      <td>1</td>\n",
              "      <td>1</td>\n",
              "      <td>1</td>\n",
              "      <td>0</td>\n",
              "      <td>0</td>\n",
              "      <td>0</td>\n",
              "      <td>1</td>\n",
              "      <td>0</td>\n",
              "      <td>0</td>\n",
              "      <td>0</td>\n",
              "      <td>0</td>\n",
              "      <td>0</td>\n",
              "      <td>0</td>\n",
              "      <td>1</td>\n",
              "      <td>0</td>\n",
              "      <td>0</td>\n",
              "      <td>0</td>\n",
              "      <td>1</td>\n",
              "      <td>1</td>\n",
              "      <td>1</td>\n",
              "      <td>1</td>\n",
              "      <td>0</td>\n",
              "      <td>0</td>\n",
              "      <td>0</td>\n",
              "      <td>1</td>\n",
              "      <td>0</td>\n",
              "      <td>1</td>\n",
              "      <td>...</td>\n",
              "      <td>0</td>\n",
              "      <td>0</td>\n",
              "      <td>0</td>\n",
              "      <td>0</td>\n",
              "      <td>0</td>\n",
              "      <td>0</td>\n",
              "      <td>0</td>\n",
              "      <td>0</td>\n",
              "      <td>0</td>\n",
              "      <td>0</td>\n",
              "      <td>0</td>\n",
              "      <td>0</td>\n",
              "      <td>0</td>\n",
              "      <td>0</td>\n",
              "      <td>0</td>\n",
              "      <td>0</td>\n",
              "      <td>0</td>\n",
              "      <td>0</td>\n",
              "      <td>0</td>\n",
              "      <td>0</td>\n",
              "      <td>0</td>\n",
              "      <td>0</td>\n",
              "      <td>0</td>\n",
              "      <td>0</td>\n",
              "      <td>0</td>\n",
              "      <td>0</td>\n",
              "      <td>0</td>\n",
              "      <td>0</td>\n",
              "      <td>0</td>\n",
              "      <td>0</td>\n",
              "      <td>0</td>\n",
              "      <td>0</td>\n",
              "      <td>0</td>\n",
              "      <td>0</td>\n",
              "      <td>0</td>\n",
              "      <td>0</td>\n",
              "      <td>0</td>\n",
              "      <td>0</td>\n",
              "      <td>0</td>\n",
              "      <td>0</td>\n",
              "    </tr>\n",
              "  </tbody>\n",
              "</table>\n",
              "<p>5 rows × 505 columns</p>\n",
              "</div>"
            ],
            "text/plain": [
              "                hotelName  ratingScore groundTruth  ... safe  light  four\n",
              "0  E-Lodge Near the Falls            4    positive  ...    0      0     0\n",
              "1  E-Lodge Near the Falls            5    positive  ...    0      0     0\n",
              "2  E-Lodge Near the Falls            2    negative  ...    0      0     0\n",
              "3  E-Lodge Near the Falls            4    positive  ...    0      0     0\n",
              "4  E-Lodge Near the Falls            1    negative  ...    0      0     0\n",
              "\n",
              "[5 rows x 505 columns]"
            ]
          },
          "metadata": {
            "tags": []
          },
          "execution_count": 13
        }
      ]
    },
    {
      "cell_type": "markdown",
      "metadata": {
        "id": "_HxOju_PYMDi",
        "colab_type": "text"
      },
      "source": [
        "**Analysis**\n",
        "\n",
        "The TopK is the list of 500 most frequent words. we can see that as expected the words room, hotel, stay, staff appear becuase irrespective of the type of the review these words appear. So I will consider them as stop words in further analysis."
      ]
    },
    {
      "cell_type": "markdown",
      "metadata": {
        "id": "PLP_DldwywK8",
        "colab_type": "text"
      },
      "source": [
        "# Q1 Sentiment Analysis and Aggregation\n",
        "\n",
        "(a) Compute average Vader sentiment and average ground truth rating per hotel.\n",
        "\n",
        "(b) Rank hotels by\n",
        "\n",
        "(i) Average Ground Truth Sentiment\n",
        "\n",
        "(ii) Average Vader Compound Sentiment Score\n",
        "\n",
        "Show both top-5 and bottom-5 for both ranking methods. Do they agree or are there interesting differences?"
      ]
    },
    {
      "cell_type": "code",
      "metadata": {
        "id": "mC7HYPU9WjMU",
        "colab_type": "code",
        "colab": {
          "base_uri": "https://localhost:8080/",
          "height": 552
        },
        "outputId": "39d84a82-4eb6-4e56-f5b5-7a7e1cef8915"
      },
      "source": [
        "# List of hotels\n",
        "hotelNames = finaldf['hotelName'].unique()\n",
        "hotelNames"
      ],
      "execution_count": 14,
      "outputs": [
        {
          "output_type": "execute_result",
          "data": {
            "text/plain": [
              "array(['E-Lodge Near the Falls', 'Rainbow Bed and Breakfast',\n",
              "       'River Rapids Inn', 'Always Inn Bed &amp; Breakfast',\n",
              "       'Blue Gables Bed &amp; Breakfast',\n",
              "       'Crowne Plaza Niagara Falls - Fallsview', 'Falcon Inn',\n",
              "       'Rainbow Motor Inn', 'Trillium Bed &amp; Breakfast', 'Oasis Motel',\n",
              "       'Sharp Motel', 'Wenxin Bed &amp; Breakfast', 'The Highlander Inn',\n",
              "       'Golf Inn', 'Sunrise Inn', 'Crystal Inn on the Parkway',\n",
              "       'The Falls Family Lodge', 'Riverview Motel', 'Space Motel',\n",
              "       'A1StarInn Motel', 'Lundy&#39;s Motel',\n",
              "       'Grand Memories Hotel &amp; Suites',\n",
              "       'Niagara&#39;s Emerald Falls Bed &amp; Breakfast',\n",
              "       'Scottish Inns - Near the Falls &amp; Casino', 'Ascot Manor',\n",
              "       'Rockwell Resort', 'Fullerton Manor Inn', 'Milan Garden Inn',\n",
              "       'Serene Niagara Inn', 'Two Rivers Bed &amp; Breakfast',\n",
              "       'The Cobbled Path Bed &amp; Breakfast', 'Three Diamond Inn',\n",
              "       'River Road Fireside Hotel', 'Best Western Plus Cairn Croft Hotel',\n",
              "       'Carriage House Motor Lodge', 'Susan&#39;s Villa',\n",
              "       'Vittoria Hotel and Suites', 'The Rex Motel', 'Glengate Hotel',\n",
              "       'Holiday Inn Niagara Falls - By The Falls',\n",
              "       'Niagara Falls Marriott Fallsview Hotel &amp; Spa',\n",
              "       'Travelodge Hotel Niagara Falls Fallsview',\n",
              "       'Thriftlodge Niagara Falls at the Falls',\n",
              "       'Old Stone Inn Boutique Hotel',\n",
              "       'Travelodge by Wyndham Niagara Falls by the Falls',\n",
              "       'Ramada by Wyndham Niagara Falls/Fallsview', 'Surfside Inn',\n",
              "       '7 Nights Stay', 'Lion&#39;s Head Bed &amp; Breakfast',\n",
              "       'Niagara Falls Marriott on the Falls',\n",
              "       'Skyline Hotel &amp; Waterpark', 'Niagara Lodge &amp; Suites',\n",
              "       'Econo Lodge By the Falls', 'Comfort Inn Lundy&#39;s Lane',\n",
              "       '7 Days Inn Niagara Falls', 'Rodeway Inn Fallsview',\n",
              "       'Sheraton on the Falls Hotel', 'Admiral Inn by the Falls'],\n",
              "      dtype=object)"
            ]
          },
          "metadata": {
            "tags": []
          },
          "execution_count": 14
        }
      ]
    },
    {
      "cell_type": "code",
      "metadata": {
        "id": "DztR-tyCy9Dg",
        "colab_type": "code",
        "colab": {}
      },
      "source": [
        "def getHotelRank(df, measure='ratingScore'):\n",
        "  #Rank the hotel by ground truth rating score\n",
        "  hotelRating = []\n",
        "  for hotel in hotelNames:\n",
        "    itemDf = df.loc[df['hotelName']==hotel]\n",
        "    hotelRating.append([hotel,itemDf[measure].mean()])\n",
        "  hotelRatingDfGt = pd.DataFrame(hotelRating)\n",
        "  hotelRatingDfGt.columns=['hotelName','avgRatingScore']\n",
        "  hotelRatingDfGt = hotelRatingDfGt.sort_values('avgRatingScore',ascending=0)\n",
        "  return hotelRatingDfGt"
      ],
      "execution_count": 15,
      "outputs": []
    },
    {
      "cell_type": "code",
      "metadata": {
        "id": "hQBm0crby9JT",
        "colab_type": "code",
        "colab": {}
      },
      "source": [
        "hotelRatingDfGt = getHotelRank(finaldf)"
      ],
      "execution_count": 16,
      "outputs": []
    },
    {
      "cell_type": "code",
      "metadata": {
        "id": "VpSt3WHfy9Qc",
        "colab_type": "code",
        "colab": {}
      },
      "source": [
        "def getHotelRankvader(df, measure='ratingScore'):\n",
        "  #Rank the hotel by ground truth rating score\n",
        "  hotelRating = []\n",
        "  for hotel in hotelNames:\n",
        "      itemDf = df.loc[df['hotelName']==hotel]\n",
        "      hotelRating.append([hotel,itemDf[measure].mean()])\n",
        "  hotelRatingDfGt = pd.DataFrame(hotelRating)\n",
        "  hotelRatingDfGt.columns=['hotelName','avgvadersentiment']\n",
        "  hotelRatingDfGt = hotelRatingDfGt.sort_values('avgvadersentiment',ascending=0)\n",
        "  return hotelRatingDfGt"
      ],
      "execution_count": 17,
      "outputs": []
    },
    {
      "cell_type": "code",
      "metadata": {
        "id": "-m8JLicRGe5d",
        "colab_type": "code",
        "colab": {}
      },
      "source": [
        "hotelRatingDfVd = getHotelRankvader(finaldf, measure='vader')"
      ],
      "execution_count": 18,
      "outputs": []
    },
    {
      "cell_type": "code",
      "metadata": {
        "id": "-HR0NVb-HIm2",
        "colab_type": "code",
        "colab": {
          "base_uri": "https://localhost:8080/",
          "height": 196
        },
        "outputId": "1e505492-838c-470d-be7b-75d84021ba6d"
      },
      "source": [
        "hotelRatingDfGt.head(5)"
      ],
      "execution_count": 19,
      "outputs": [
        {
          "output_type": "execute_result",
          "data": {
            "text/html": [
              "<div>\n",
              "<style scoped>\n",
              "    .dataframe tbody tr th:only-of-type {\n",
              "        vertical-align: middle;\n",
              "    }\n",
              "\n",
              "    .dataframe tbody tr th {\n",
              "        vertical-align: top;\n",
              "    }\n",
              "\n",
              "    .dataframe thead th {\n",
              "        text-align: right;\n",
              "    }\n",
              "</style>\n",
              "<table border=\"1\" class=\"dataframe\">\n",
              "  <thead>\n",
              "    <tr style=\"text-align: right;\">\n",
              "      <th></th>\n",
              "      <th>hotelName</th>\n",
              "      <th>avgRatingScore</th>\n",
              "    </tr>\n",
              "  </thead>\n",
              "  <tbody>\n",
              "    <tr>\n",
              "      <th>10</th>\n",
              "      <td>Sharp Motel</td>\n",
              "      <td>5.000000</td>\n",
              "    </tr>\n",
              "    <tr>\n",
              "      <th>28</th>\n",
              "      <td>Serene Niagara Inn</td>\n",
              "      <td>5.000000</td>\n",
              "    </tr>\n",
              "    <tr>\n",
              "      <th>24</th>\n",
              "      <td>Ascot Manor</td>\n",
              "      <td>5.000000</td>\n",
              "    </tr>\n",
              "    <tr>\n",
              "      <th>11</th>\n",
              "      <td>Wenxin Bed &amp;amp; Breakfast</td>\n",
              "      <td>5.000000</td>\n",
              "    </tr>\n",
              "    <tr>\n",
              "      <th>29</th>\n",
              "      <td>Two Rivers Bed &amp;amp; Breakfast</td>\n",
              "      <td>4.921739</td>\n",
              "    </tr>\n",
              "  </tbody>\n",
              "</table>\n",
              "</div>"
            ],
            "text/plain": [
              "                         hotelName  avgRatingScore\n",
              "10                     Sharp Motel        5.000000\n",
              "28              Serene Niagara Inn        5.000000\n",
              "24                     Ascot Manor        5.000000\n",
              "11      Wenxin Bed &amp; Breakfast        5.000000\n",
              "29  Two Rivers Bed &amp; Breakfast        4.921739"
            ]
          },
          "metadata": {
            "tags": []
          },
          "execution_count": 19
        }
      ]
    },
    {
      "cell_type": "code",
      "metadata": {
        "id": "Vsi5C8tqHJI8",
        "colab_type": "code",
        "colab": {
          "base_uri": "https://localhost:8080/",
          "height": 196
        },
        "outputId": "39f4e3c6-ef5d-402e-cb7f-dff8ee6b34eb"
      },
      "source": [
        "hotelRatingDfVd.head(5)"
      ],
      "execution_count": 20,
      "outputs": [
        {
          "output_type": "execute_result",
          "data": {
            "text/html": [
              "<div>\n",
              "<style scoped>\n",
              "    .dataframe tbody tr th:only-of-type {\n",
              "        vertical-align: middle;\n",
              "    }\n",
              "\n",
              "    .dataframe tbody tr th {\n",
              "        vertical-align: top;\n",
              "    }\n",
              "\n",
              "    .dataframe thead th {\n",
              "        text-align: right;\n",
              "    }\n",
              "</style>\n",
              "<table border=\"1\" class=\"dataframe\">\n",
              "  <thead>\n",
              "    <tr style=\"text-align: right;\">\n",
              "      <th></th>\n",
              "      <th>hotelName</th>\n",
              "      <th>avgvadersentiment</th>\n",
              "    </tr>\n",
              "  </thead>\n",
              "  <tbody>\n",
              "    <tr>\n",
              "      <th>28</th>\n",
              "      <td>Serene Niagara Inn</td>\n",
              "      <td>0.981600</td>\n",
              "    </tr>\n",
              "    <tr>\n",
              "      <th>11</th>\n",
              "      <td>Wenxin Bed &amp;amp; Breakfast</td>\n",
              "      <td>0.976900</td>\n",
              "    </tr>\n",
              "    <tr>\n",
              "      <th>10</th>\n",
              "      <td>Sharp Motel</td>\n",
              "      <td>0.964700</td>\n",
              "    </tr>\n",
              "    <tr>\n",
              "      <th>29</th>\n",
              "      <td>Two Rivers Bed &amp;amp; Breakfast</td>\n",
              "      <td>0.960105</td>\n",
              "    </tr>\n",
              "    <tr>\n",
              "      <th>25</th>\n",
              "      <td>Rockwell Resort</td>\n",
              "      <td>0.955780</td>\n",
              "    </tr>\n",
              "  </tbody>\n",
              "</table>\n",
              "</div>"
            ],
            "text/plain": [
              "                         hotelName  avgvadersentiment\n",
              "28              Serene Niagara Inn           0.981600\n",
              "11      Wenxin Bed &amp; Breakfast           0.976900\n",
              "10                     Sharp Motel           0.964700\n",
              "29  Two Rivers Bed &amp; Breakfast           0.960105\n",
              "25                 Rockwell Resort           0.955780"
            ]
          },
          "metadata": {
            "tags": []
          },
          "execution_count": 20
        }
      ]
    },
    {
      "cell_type": "code",
      "metadata": {
        "id": "EAmkZ9DNHJOv",
        "colab_type": "code",
        "colab": {
          "base_uri": "https://localhost:8080/",
          "height": 196
        },
        "outputId": "0ae9b056-d571-4538-eacb-6011acd8d4e7"
      },
      "source": [
        "hotelRatingDfGt.tail(5)"
      ],
      "execution_count": 21,
      "outputs": [
        {
          "output_type": "execute_result",
          "data": {
            "text/html": [
              "<div>\n",
              "<style scoped>\n",
              "    .dataframe tbody tr th:only-of-type {\n",
              "        vertical-align: middle;\n",
              "    }\n",
              "\n",
              "    .dataframe tbody tr th {\n",
              "        vertical-align: top;\n",
              "    }\n",
              "\n",
              "    .dataframe thead th {\n",
              "        text-align: right;\n",
              "    }\n",
              "</style>\n",
              "<table border=\"1\" class=\"dataframe\">\n",
              "  <thead>\n",
              "    <tr style=\"text-align: right;\">\n",
              "      <th></th>\n",
              "      <th>hotelName</th>\n",
              "      <th>avgRatingScore</th>\n",
              "    </tr>\n",
              "  </thead>\n",
              "  <tbody>\n",
              "    <tr>\n",
              "      <th>9</th>\n",
              "      <td>Oasis Motel</td>\n",
              "      <td>1.800000</td>\n",
              "    </tr>\n",
              "    <tr>\n",
              "      <th>57</th>\n",
              "      <td>Admiral Inn by the Falls</td>\n",
              "      <td>1.787500</td>\n",
              "    </tr>\n",
              "    <tr>\n",
              "      <th>51</th>\n",
              "      <td>Niagara Lodge &amp;amp; Suites</td>\n",
              "      <td>1.752381</td>\n",
              "    </tr>\n",
              "    <tr>\n",
              "      <th>21</th>\n",
              "      <td>Grand Memories Hotel &amp;amp; Suites</td>\n",
              "      <td>1.666667</td>\n",
              "    </tr>\n",
              "    <tr>\n",
              "      <th>7</th>\n",
              "      <td>Rainbow Motor Inn</td>\n",
              "      <td>1.605263</td>\n",
              "    </tr>\n",
              "  </tbody>\n",
              "</table>\n",
              "</div>"
            ],
            "text/plain": [
              "                            hotelName  avgRatingScore\n",
              "9                         Oasis Motel        1.800000\n",
              "57           Admiral Inn by the Falls        1.787500\n",
              "51         Niagara Lodge &amp; Suites        1.752381\n",
              "21  Grand Memories Hotel &amp; Suites        1.666667\n",
              "7                   Rainbow Motor Inn        1.605263"
            ]
          },
          "metadata": {
            "tags": []
          },
          "execution_count": 21
        }
      ]
    },
    {
      "cell_type": "code",
      "metadata": {
        "id": "ZCOIdVd5HJSy",
        "colab_type": "code",
        "colab": {
          "base_uri": "https://localhost:8080/",
          "height": 196
        },
        "outputId": "d35ea5e0-0b9b-4ffd-b0b5-fec16c72e729"
      },
      "source": [
        "hotelRatingDfVd.tail(5)"
      ],
      "execution_count": 22,
      "outputs": [
        {
          "output_type": "execute_result",
          "data": {
            "text/html": [
              "<div>\n",
              "<style scoped>\n",
              "    .dataframe tbody tr th:only-of-type {\n",
              "        vertical-align: middle;\n",
              "    }\n",
              "\n",
              "    .dataframe tbody tr th {\n",
              "        vertical-align: top;\n",
              "    }\n",
              "\n",
              "    .dataframe thead th {\n",
              "        text-align: right;\n",
              "    }\n",
              "</style>\n",
              "<table border=\"1\" class=\"dataframe\">\n",
              "  <thead>\n",
              "    <tr style=\"text-align: right;\">\n",
              "      <th></th>\n",
              "      <th>hotelName</th>\n",
              "      <th>avgvadersentiment</th>\n",
              "    </tr>\n",
              "  </thead>\n",
              "  <tbody>\n",
              "    <tr>\n",
              "      <th>51</th>\n",
              "      <td>Niagara Lodge &amp;amp; Suites</td>\n",
              "      <td>-0.006416</td>\n",
              "    </tr>\n",
              "    <tr>\n",
              "      <th>57</th>\n",
              "      <td>Admiral Inn by the Falls</td>\n",
              "      <td>-0.037961</td>\n",
              "    </tr>\n",
              "    <tr>\n",
              "      <th>7</th>\n",
              "      <td>Rainbow Motor Inn</td>\n",
              "      <td>-0.073824</td>\n",
              "    </tr>\n",
              "    <tr>\n",
              "      <th>21</th>\n",
              "      <td>Grand Memories Hotel &amp;amp; Suites</td>\n",
              "      <td>-0.092778</td>\n",
              "    </tr>\n",
              "    <tr>\n",
              "      <th>13</th>\n",
              "      <td>Golf Inn</td>\n",
              "      <td>-0.264833</td>\n",
              "    </tr>\n",
              "  </tbody>\n",
              "</table>\n",
              "</div>"
            ],
            "text/plain": [
              "                            hotelName  avgvadersentiment\n",
              "51         Niagara Lodge &amp; Suites          -0.006416\n",
              "57           Admiral Inn by the Falls          -0.037961\n",
              "7                   Rainbow Motor Inn          -0.073824\n",
              "21  Grand Memories Hotel &amp; Suites          -0.092778\n",
              "13                           Golf Inn          -0.264833"
            ]
          },
          "metadata": {
            "tags": []
          },
          "execution_count": 22
        }
      ]
    },
    {
      "cell_type": "code",
      "metadata": {
        "id": "NKxf0mNJN56r",
        "colab_type": "code",
        "colab": {
          "base_uri": "https://localhost:8080/",
          "height": 386
        },
        "outputId": "7b096f9e-4d58-4c31-cfae-fbadb7c72c5d"
      },
      "source": [
        "finaldf[finaldf['hotelName'] == 'Golf Inn']"
      ],
      "execution_count": 23,
      "outputs": [
        {
          "output_type": "execute_result",
          "data": {
            "text/html": [
              "<div>\n",
              "<style scoped>\n",
              "    .dataframe tbody tr th:only-of-type {\n",
              "        vertical-align: middle;\n",
              "    }\n",
              "\n",
              "    .dataframe tbody tr th {\n",
              "        vertical-align: top;\n",
              "    }\n",
              "\n",
              "    .dataframe thead th {\n",
              "        text-align: right;\n",
              "    }\n",
              "</style>\n",
              "<table border=\"1\" class=\"dataframe\">\n",
              "  <thead>\n",
              "    <tr style=\"text-align: right;\">\n",
              "      <th></th>\n",
              "      <th>hotelName</th>\n",
              "      <th>ratingScore</th>\n",
              "      <th>groundTruth</th>\n",
              "      <th>reviewCol</th>\n",
              "      <th>vader</th>\n",
              "      <th>room</th>\n",
              "      <th>hotel</th>\n",
              "      <th>falls</th>\n",
              "      <th>view</th>\n",
              "      <th>great</th>\n",
              "      <th>stay</th>\n",
              "      <th>would</th>\n",
              "      <th>staff</th>\n",
              "      <th>clean</th>\n",
              "      <th>one</th>\n",
              "      <th>night</th>\n",
              "      <th>good</th>\n",
              "      <th>rooms</th>\n",
              "      <th>nice</th>\n",
              "      <th>niagara</th>\n",
              "      <th>parking</th>\n",
              "      <th>stayed</th>\n",
              "      <th>floor</th>\n",
              "      <th>breakfast</th>\n",
              "      <th>quot</th>\n",
              "      <th>get</th>\n",
              "      <th>time</th>\n",
              "      <th>also</th>\n",
              "      <th>location</th>\n",
              "      <th>service</th>\n",
              "      <th>nthe</th>\n",
              "      <th>could</th>\n",
              "      <th>day</th>\n",
              "      <th>well</th>\n",
              "      <th>friendly</th>\n",
              "      <th>area</th>\n",
              "      <th>check</th>\n",
              "      <th>back</th>\n",
              "      <th>walk</th>\n",
              "      <th>like</th>\n",
              "      <th>...</th>\n",
              "      <th>dollars</th>\n",
              "      <th>show</th>\n",
              "      <th>rainbow</th>\n",
              "      <th>entire</th>\n",
              "      <th>business</th>\n",
              "      <th>sitting</th>\n",
              "      <th>complimentary</th>\n",
              "      <th>skyline</th>\n",
              "      <th>river</th>\n",
              "      <th>ended</th>\n",
              "      <th>chose</th>\n",
              "      <th>order</th>\n",
              "      <th>travel</th>\n",
              "      <th>ceiling</th>\n",
              "      <th>others</th>\n",
              "      <th>change</th>\n",
              "      <th>shuttle</th>\n",
              "      <th>non</th>\n",
              "      <th>believe</th>\n",
              "      <th>waiting</th>\n",
              "      <th>microwave</th>\n",
              "      <th>crowne</th>\n",
              "      <th>head</th>\n",
              "      <th>local</th>\n",
              "      <th>poor</th>\n",
              "      <th>point</th>\n",
              "      <th>nthere</th>\n",
              "      <th>past</th>\n",
              "      <th>self</th>\n",
              "      <th>noverall</th>\n",
              "      <th>older</th>\n",
              "      <th>families</th>\n",
              "      <th>tell</th>\n",
              "      <th>cleaned</th>\n",
              "      <th>fall</th>\n",
              "      <th>week</th>\n",
              "      <th>rather</th>\n",
              "      <th>safe</th>\n",
              "      <th>light</th>\n",
              "      <th>four</th>\n",
              "    </tr>\n",
              "  </thead>\n",
              "  <tbody>\n",
              "    <tr>\n",
              "      <th>1505</th>\n",
              "      <td>Golf Inn</td>\n",
              "      <td>1</td>\n",
              "      <td>negative</td>\n",
              "      <td>\"After nearly 40 years of travelling, I finall...</td>\n",
              "      <td>-0.9319</td>\n",
              "      <td>1</td>\n",
              "      <td>0</td>\n",
              "      <td>0</td>\n",
              "      <td>0</td>\n",
              "      <td>0</td>\n",
              "      <td>1</td>\n",
              "      <td>1</td>\n",
              "      <td>0</td>\n",
              "      <td>0</td>\n",
              "      <td>1</td>\n",
              "      <td>1</td>\n",
              "      <td>0</td>\n",
              "      <td>1</td>\n",
              "      <td>0</td>\n",
              "      <td>0</td>\n",
              "      <td>0</td>\n",
              "      <td>0</td>\n",
              "      <td>0</td>\n",
              "      <td>0</td>\n",
              "      <td>1</td>\n",
              "      <td>1</td>\n",
              "      <td>1</td>\n",
              "      <td>0</td>\n",
              "      <td>0</td>\n",
              "      <td>0</td>\n",
              "      <td>0</td>\n",
              "      <td>1</td>\n",
              "      <td>0</td>\n",
              "      <td>0</td>\n",
              "      <td>0</td>\n",
              "      <td>0</td>\n",
              "      <td>0</td>\n",
              "      <td>0</td>\n",
              "      <td>0</td>\n",
              "      <td>1</td>\n",
              "      <td>...</td>\n",
              "      <td>0</td>\n",
              "      <td>0</td>\n",
              "      <td>0</td>\n",
              "      <td>0</td>\n",
              "      <td>0</td>\n",
              "      <td>0</td>\n",
              "      <td>0</td>\n",
              "      <td>0</td>\n",
              "      <td>0</td>\n",
              "      <td>0</td>\n",
              "      <td>0</td>\n",
              "      <td>0</td>\n",
              "      <td>0</td>\n",
              "      <td>0</td>\n",
              "      <td>0</td>\n",
              "      <td>0</td>\n",
              "      <td>0</td>\n",
              "      <td>0</td>\n",
              "      <td>0</td>\n",
              "      <td>0</td>\n",
              "      <td>0</td>\n",
              "      <td>0</td>\n",
              "      <td>0</td>\n",
              "      <td>0</td>\n",
              "      <td>0</td>\n",
              "      <td>0</td>\n",
              "      <td>0</td>\n",
              "      <td>0</td>\n",
              "      <td>0</td>\n",
              "      <td>0</td>\n",
              "      <td>0</td>\n",
              "      <td>0</td>\n",
              "      <td>0</td>\n",
              "      <td>0</td>\n",
              "      <td>0</td>\n",
              "      <td>0</td>\n",
              "      <td>0</td>\n",
              "      <td>0</td>\n",
              "      <td>0</td>\n",
              "      <td>0</td>\n",
              "    </tr>\n",
              "    <tr>\n",
              "      <th>1506</th>\n",
              "      <td>Golf Inn</td>\n",
              "      <td>1</td>\n",
              "      <td>negative</td>\n",
              "      <td>\"omg i cant even explain it all. i dont know h...</td>\n",
              "      <td>-0.7710</td>\n",
              "      <td>0</td>\n",
              "      <td>0</td>\n",
              "      <td>0</td>\n",
              "      <td>0</td>\n",
              "      <td>0</td>\n",
              "      <td>1</td>\n",
              "      <td>1</td>\n",
              "      <td>0</td>\n",
              "      <td>1</td>\n",
              "      <td>1</td>\n",
              "      <td>1</td>\n",
              "      <td>0</td>\n",
              "      <td>0</td>\n",
              "      <td>0</td>\n",
              "      <td>0</td>\n",
              "      <td>0</td>\n",
              "      <td>0</td>\n",
              "      <td>0</td>\n",
              "      <td>0</td>\n",
              "      <td>0</td>\n",
              "      <td>1</td>\n",
              "      <td>0</td>\n",
              "      <td>0</td>\n",
              "      <td>0</td>\n",
              "      <td>1</td>\n",
              "      <td>0</td>\n",
              "      <td>0</td>\n",
              "      <td>0</td>\n",
              "      <td>1</td>\n",
              "      <td>0</td>\n",
              "      <td>0</td>\n",
              "      <td>0</td>\n",
              "      <td>1</td>\n",
              "      <td>0</td>\n",
              "      <td>1</td>\n",
              "      <td>...</td>\n",
              "      <td>0</td>\n",
              "      <td>0</td>\n",
              "      <td>0</td>\n",
              "      <td>0</td>\n",
              "      <td>0</td>\n",
              "      <td>0</td>\n",
              "      <td>0</td>\n",
              "      <td>0</td>\n",
              "      <td>0</td>\n",
              "      <td>0</td>\n",
              "      <td>0</td>\n",
              "      <td>0</td>\n",
              "      <td>0</td>\n",
              "      <td>0</td>\n",
              "      <td>0</td>\n",
              "      <td>0</td>\n",
              "      <td>0</td>\n",
              "      <td>0</td>\n",
              "      <td>0</td>\n",
              "      <td>0</td>\n",
              "      <td>0</td>\n",
              "      <td>0</td>\n",
              "      <td>0</td>\n",
              "      <td>0</td>\n",
              "      <td>0</td>\n",
              "      <td>0</td>\n",
              "      <td>0</td>\n",
              "      <td>0</td>\n",
              "      <td>0</td>\n",
              "      <td>0</td>\n",
              "      <td>0</td>\n",
              "      <td>0</td>\n",
              "      <td>0</td>\n",
              "      <td>0</td>\n",
              "      <td>0</td>\n",
              "      <td>0</td>\n",
              "      <td>0</td>\n",
              "      <td>0</td>\n",
              "      <td>0</td>\n",
              "      <td>0</td>\n",
              "    </tr>\n",
              "    <tr>\n",
              "      <th>1507</th>\n",
              "      <td>Golf Inn</td>\n",
              "      <td>5</td>\n",
              "      <td>positive</td>\n",
              "      <td>\"This is a motel for people with great sense o...</td>\n",
              "      <td>0.9084</td>\n",
              "      <td>1</td>\n",
              "      <td>0</td>\n",
              "      <td>0</td>\n",
              "      <td>0</td>\n",
              "      <td>1</td>\n",
              "      <td>0</td>\n",
              "      <td>0</td>\n",
              "      <td>0</td>\n",
              "      <td>0</td>\n",
              "      <td>0</td>\n",
              "      <td>1</td>\n",
              "      <td>0</td>\n",
              "      <td>0</td>\n",
              "      <td>0</td>\n",
              "      <td>0</td>\n",
              "      <td>0</td>\n",
              "      <td>0</td>\n",
              "      <td>0</td>\n",
              "      <td>0</td>\n",
              "      <td>0</td>\n",
              "      <td>0</td>\n",
              "      <td>1</td>\n",
              "      <td>1</td>\n",
              "      <td>0</td>\n",
              "      <td>0</td>\n",
              "      <td>0</td>\n",
              "      <td>0</td>\n",
              "      <td>0</td>\n",
              "      <td>1</td>\n",
              "      <td>0</td>\n",
              "      <td>0</td>\n",
              "      <td>0</td>\n",
              "      <td>0</td>\n",
              "      <td>0</td>\n",
              "      <td>0</td>\n",
              "      <td>...</td>\n",
              "      <td>0</td>\n",
              "      <td>0</td>\n",
              "      <td>0</td>\n",
              "      <td>0</td>\n",
              "      <td>0</td>\n",
              "      <td>0</td>\n",
              "      <td>0</td>\n",
              "      <td>0</td>\n",
              "      <td>0</td>\n",
              "      <td>0</td>\n",
              "      <td>0</td>\n",
              "      <td>0</td>\n",
              "      <td>0</td>\n",
              "      <td>0</td>\n",
              "      <td>1</td>\n",
              "      <td>0</td>\n",
              "      <td>0</td>\n",
              "      <td>0</td>\n",
              "      <td>0</td>\n",
              "      <td>0</td>\n",
              "      <td>0</td>\n",
              "      <td>0</td>\n",
              "      <td>0</td>\n",
              "      <td>0</td>\n",
              "      <td>0</td>\n",
              "      <td>0</td>\n",
              "      <td>0</td>\n",
              "      <td>0</td>\n",
              "      <td>0</td>\n",
              "      <td>0</td>\n",
              "      <td>0</td>\n",
              "      <td>0</td>\n",
              "      <td>0</td>\n",
              "      <td>0</td>\n",
              "      <td>0</td>\n",
              "      <td>0</td>\n",
              "      <td>0</td>\n",
              "      <td>0</td>\n",
              "      <td>0</td>\n",
              "      <td>0</td>\n",
              "    </tr>\n",
              "  </tbody>\n",
              "</table>\n",
              "<p>3 rows × 505 columns</p>\n",
              "</div>"
            ],
            "text/plain": [
              "     hotelName  ratingScore groundTruth  ... safe  light  four\n",
              "1505  Golf Inn            1    negative  ...    0      0     0\n",
              "1506  Golf Inn            1    negative  ...    0      0     0\n",
              "1507  Golf Inn            5    positive  ...    0      0     0\n",
              "\n",
              "[3 rows x 505 columns]"
            ]
          },
          "metadata": {
            "tags": []
          },
          "execution_count": 23
        }
      ]
    },
    {
      "cell_type": "markdown",
      "metadata": {
        "id": "mCDJwh0HHyjB",
        "colab_type": "text"
      },
      "source": [
        "From the results above we can see that the absolute ranking is different but in both top 5 (Id: 10,28,11,29) and bottom 5 (Id: 51,57,7,21) there are four hotels in common means they almost have same relative ranking.\n",
        "\n",
        "Reasons:\n",
        "\n",
        "1. Vader sentiment score is purely based on words used by the user and each user eventhough uses the same word \"best\" they can rate differently because the word best is different to them both.\n",
        "\n",
        "2. If the number of reviews for a hotel are small then its ranking in both list could be different. In my case the vader predicted the most negative review for \"Golf Inn\" hotel and we can see that the hotel has only three review."
      ]
    },
    {
      "cell_type": "markdown",
      "metadata": {
        "id": "cMur8UWjQeXq",
        "colab_type": "text"
      },
      "source": [
        "# Q2. Frequency Analysis\n",
        "\n",
        "(a) Use term frequency of the words for (i) positive reviews and (ii) negative with ground truth\n",
        "sentiment to rank the top-50 most frequent non-stopwords in the review collection. Do you\n",
        "note anything interesting and/or locale-specific about these top-ranked words?\n",
        "\n",
        "(b) Repeat this analysis for the top-50 noun phrases and note any interesting results."
      ]
    },
    {
      "cell_type": "code",
      "metadata": {
        "id": "U03XMEZgHJMF",
        "colab_type": "code",
        "colab": {}
      },
      "source": [
        "#We are only intereseted in this three column for overall analysis\n",
        "itemAnalysisDf = finaldf[['reviewCol','groundTruth','vader']]"
      ],
      "execution_count": 24,
      "outputs": []
    },
    {
      "cell_type": "code",
      "metadata": {
        "id": "Q0bZpqjoRuG-",
        "colab_type": "code",
        "colab": {
          "base_uri": "https://localhost:8080/",
          "height": 196
        },
        "outputId": "dcf3c0ff-818f-4212-dc7c-231be819c635"
      },
      "source": [
        "itemAnalysisDf.head()"
      ],
      "execution_count": 25,
      "outputs": [
        {
          "output_type": "execute_result",
          "data": {
            "text/html": [
              "<div>\n",
              "<style scoped>\n",
              "    .dataframe tbody tr th:only-of-type {\n",
              "        vertical-align: middle;\n",
              "    }\n",
              "\n",
              "    .dataframe tbody tr th {\n",
              "        vertical-align: top;\n",
              "    }\n",
              "\n",
              "    .dataframe thead th {\n",
              "        text-align: right;\n",
              "    }\n",
              "</style>\n",
              "<table border=\"1\" class=\"dataframe\">\n",
              "  <thead>\n",
              "    <tr style=\"text-align: right;\">\n",
              "      <th></th>\n",
              "      <th>reviewCol</th>\n",
              "      <th>groundTruth</th>\n",
              "      <th>vader</th>\n",
              "    </tr>\n",
              "  </thead>\n",
              "  <tbody>\n",
              "    <tr>\n",
              "      <th>0</th>\n",
              "      <td>\"my husband son and I came for Canada Day.  We...</td>\n",
              "      <td>positive</td>\n",
              "      <td>0.9017</td>\n",
              "    </tr>\n",
              "    <tr>\n",
              "      <th>1</th>\n",
              "      <td>\"Smashing!! We were welcomed to the Motel by e...</td>\n",
              "      <td>positive</td>\n",
              "      <td>0.9114</td>\n",
              "    </tr>\n",
              "    <tr>\n",
              "      <th>2</th>\n",
              "      <td>\"We chose this hotel as we had a car and did n...</td>\n",
              "      <td>negative</td>\n",
              "      <td>0.5951</td>\n",
              "    </tr>\n",
              "    <tr>\n",
              "      <th>3</th>\n",
              "      <td>\"Very affordable rooms in the Niagara Falls ar...</td>\n",
              "      <td>positive</td>\n",
              "      <td>0.0129</td>\n",
              "    </tr>\n",
              "    <tr>\n",
              "      <th>4</th>\n",
              "      <td>\"I booked this hotel online, without having se...</td>\n",
              "      <td>negative</td>\n",
              "      <td>-0.7219</td>\n",
              "    </tr>\n",
              "  </tbody>\n",
              "</table>\n",
              "</div>"
            ],
            "text/plain": [
              "                                           reviewCol groundTruth   vader\n",
              "0  \"my husband son and I came for Canada Day.  We...    positive  0.9017\n",
              "1  \"Smashing!! We were welcomed to the Motel by e...    positive  0.9114\n",
              "2  \"We chose this hotel as we had a car and did n...    negative  0.5951\n",
              "3  \"Very affordable rooms in the Niagara Falls ar...    positive  0.0129\n",
              "4  \"I booked this hotel online, without having se...    negative -0.7219"
            ]
          },
          "metadata": {
            "tags": []
          },
          "execution_count": 25
        }
      ]
    },
    {
      "cell_type": "code",
      "metadata": {
        "id": "6GWkr1aPRxWz",
        "colab_type": "code",
        "colab": {}
      },
      "source": [
        "def getTopK(df, k, label_value, label_column='groundTruth', operation=operator.eq, value_column='reviewCol'):\n",
        "  from nltk.corpus import stopwords\n",
        "  stop = set(stopwords.words('english'))\n",
        "\n",
        "  stop.add('room')\n",
        "  stop.add('hotel')\n",
        "  stop.add('stay')\n",
        "  stop.add('staff')\n",
        "  stop.add('rooms')\n",
        "  counter = Counter()\n",
        "  for review in df[operation(df[label_column],label_value)][value_column]:\n",
        "    counter.update([word.lower() \n",
        "                    for word \n",
        "                    in re.findall(r'\\w+', review) \n",
        "                    if word.lower() not in stop and len(word) > 2])\n",
        "  topk = counter.most_common(k)\n",
        "  return topk"
      ],
      "execution_count": 26,
      "outputs": []
    },
    {
      "cell_type": "code",
      "metadata": {
        "id": "VFsLUs_rSCbS",
        "colab_type": "code",
        "colab": {}
      },
      "source": [
        "topkGroundPos = getTopK(df=itemAnalysisDf, k=50, label_value='positive')"
      ],
      "execution_count": 27,
      "outputs": []
    },
    {
      "cell_type": "code",
      "metadata": {
        "id": "r8ucmOtmSCeT",
        "colab_type": "code",
        "colab": {
          "base_uri": "https://localhost:8080/",
          "height": 184
        },
        "outputId": "9062fedb-2a7b-45c3-c3b1-f0f63485f318"
      },
      "source": [
        "topkGroundPos[0:10]"
      ],
      "execution_count": 28,
      "outputs": [
        {
          "output_type": "execute_result",
          "data": {
            "text/plain": [
              "[('falls', 18057),\n",
              " ('view', 10324),\n",
              " ('great', 8534),\n",
              " ('clean', 5823),\n",
              " ('would', 5488),\n",
              " ('nice', 5088),\n",
              " ('niagara', 5070),\n",
              " ('good', 4964),\n",
              " ('night', 4424),\n",
              " ('one', 4386)]"
            ]
          },
          "metadata": {
            "tags": []
          },
          "execution_count": 28
        }
      ]
    },
    {
      "cell_type": "code",
      "metadata": {
        "id": "Amxlw9n2SHl4",
        "colab_type": "code",
        "colab": {}
      },
      "source": [
        "topkGroundNeg = getTopK(df=itemAnalysisDf, k=50, label_value='negative')"
      ],
      "execution_count": 29,
      "outputs": []
    },
    {
      "cell_type": "code",
      "metadata": {
        "id": "psvp5vVmSHsy",
        "colab_type": "code",
        "colab": {
          "base_uri": "https://localhost:8080/",
          "height": 184
        },
        "outputId": "38d89c4c-b6ca-4507-d5de-0bef65d10d17"
      },
      "source": [
        "topkGroundNeg[0:10]"
      ],
      "execution_count": 30,
      "outputs": [
        {
          "output_type": "execute_result",
          "data": {
            "text/plain": [
              "[('falls', 4197),\n",
              " ('would', 3458),\n",
              " ('quot', 3018),\n",
              " ('view', 2876),\n",
              " ('one', 2838),\n",
              " ('night', 2785),\n",
              " ('get', 2300),\n",
              " ('parking', 2280),\n",
              " ('good', 2207),\n",
              " ('could', 1897)]"
            ]
          },
          "metadata": {
            "tags": []
          },
          "execution_count": 30
        }
      ]
    },
    {
      "cell_type": "code",
      "metadata": {
        "id": "D-jypNKWSHwb",
        "colab_type": "code",
        "colab": {
          "base_uri": "https://localhost:8080/",
          "height": 853
        },
        "outputId": "74437621-90d3-4352-aa5a-44329ac3805f"
      },
      "source": [
        "pos = dict(topkGroundPos)\n",
        "neg = dict(topkGroundNeg)\n",
        "neg.update(pos)\n",
        "#len(neg)\n",
        "pos"
      ],
      "execution_count": 31,
      "outputs": [
        {
          "output_type": "execute_result",
          "data": {
            "text/plain": [
              "{'also': 3467,\n",
              " 'amazing': 2154,\n",
              " 'amp': 2059,\n",
              " 'area': 3192,\n",
              " 'back': 2547,\n",
              " 'bed': 2259,\n",
              " 'best': 2168,\n",
              " 'breakfast': 4279,\n",
              " 'check': 2496,\n",
              " 'clean': 5823,\n",
              " 'comfortable': 2931,\n",
              " 'could': 2652,\n",
              " 'day': 2913,\n",
              " 'desk': 2081,\n",
              " 'excellent': 2043,\n",
              " 'falls': 18057,\n",
              " 'fallsview': 2291,\n",
              " 'floor': 4286,\n",
              " 'food': 2144,\n",
              " 'free': 2228,\n",
              " 'friendly': 3578,\n",
              " 'front': 2173,\n",
              " 'get': 3453,\n",
              " 'good': 4964,\n",
              " 'great': 8534,\n",
              " 'helpful': 2609,\n",
              " 'like': 2146,\n",
              " 'location': 3582,\n",
              " 'niagara': 5070,\n",
              " 'nice': 5088,\n",
              " 'night': 4424,\n",
              " 'nthe': 3102,\n",
              " 'one': 4386,\n",
              " 'parking': 3881,\n",
              " 'place': 2471,\n",
              " 'pool': 2255,\n",
              " 'quot': 2807,\n",
              " 'really': 2368,\n",
              " 'recommend': 2210,\n",
              " 'restaurant': 2665,\n",
              " 'right': 2192,\n",
              " 'see': 2152,\n",
              " 'service': 3221,\n",
              " 'stayed': 4257,\n",
              " 'time': 3467,\n",
              " 'two': 2575,\n",
              " 'view': 10324,\n",
              " 'walk': 3105,\n",
              " 'well': 3348,\n",
              " 'would': 5488}"
            ]
          },
          "metadata": {
            "tags": []
          },
          "execution_count": 31
        }
      ]
    },
    {
      "cell_type": "markdown",
      "metadata": {
        "id": "yZRZdfNEXS77",
        "colab_type": "text"
      },
      "source": [
        "If we compare the top 50 words in both lists, we can see there are 35 words in common. It means people use the same words in both positive and negative reviews or complain and care about the same things. \n",
        "For example the words \"location\",\"parking\" and \"breakfast\" appears in both lists.\n",
        "\n",
        "We can also see some locale specific words like \"niagara\", \"falls\" because the hotels are in the city of Niagara falls. Similarly for the top negative words the word \"falls\" appears."
      ]
    },
    {
      "cell_type": "markdown",
      "metadata": {
        "id": "UOzFK6Miaoca",
        "colab_type": "text"
      },
      "source": [
        "\n",
        "**1) POS-Tag**\n",
        "\n",
        "```\n",
        "from nltk.tokenize import word_tokenize\n",
        "text = word_tokenize(\"And now for something completely different\")\n",
        "nltk.pos_tag(text)\n",
        "```\n",
        "\n",
        "**2)** Stemming and Lemmatization are **Text Normalization** techniques in the field of Natural Language Processing that are used to prepare text, words, and documents for further processing. Languages we speak and write are made up of several words often derived from one another. When a language contains words that are derived from another word as their use in the speech changes is called **Inflected Language**. In grammar, inflection is the modification of a word to express different grammatical categories such as tense, case, voice, aspect, person, number, gender, and mood. \n",
        "\n",
        "\n",
        "**Stemming**\n",
        "\n",
        "Stemming is the process of reducing inflection in words to their root forms such as mapping a group of words to the same stem even if the stem itself is not a valid word in the language. So stemming a word or sentence may result in words that are not actual words. Stems are created by removing the suffixes or prefixes used with a word.\n",
        "\n",
        "\n",
        "**Lemmatization** \n",
        "\n",
        "Lemmatization, unlike Stemming, reduces the inflected words properly ensuring that the root word belongs to the language. For example, runs, running, ran are all forms of the word run, therefore run is the lemma of all these words. Because lemmatization returns an actual word of the language, it is used where it is necessary to get valid words. Python NLTK provides WordNet Lemmatizer that uses the WordNet Database to lookup lemmas of words. Lemmatization uses\n",
        "POS tags to improve stemming. You need to provide the context in which you want to lemmatize that is the parts-of-speech (POS). This is done by giving the value for pos parameter in wordnet_lemmatizer.lemmatize.\n",
        "\n",
        "**3) Chunking**\n",
        "\n",
        "Chunking is a process of extracting phrases from unstructured text. Sometimes simple tokens may not represent the actual meaning of the text, and this is where phrases can be good source of information. Chunking  is a task that follows Part-Of-Speech Tagging and that adds more structure to the sentence. The result is a grouping of the words in \"chunks\".\n",
        "\n",
        "**Noun Phrase Chunking**\n",
        "\n",
        "NP-chunking is one of the most useful sources of information for and can be done on part-of-speech tagged words. This is one of the motivations for performing part-of-speech tagging. We demonstrate this approach using an example sentence that has been part-of-speech tagged. In order to create an NP-chunker, we will first define a *chunk grammar*, consisting of rules that indicate how sentences should be chunked. In this case, we will define a simple grammar with a single regular-expression rule. This rule says that an NP chunk should be formed whenever the chunker finds an optional determiner (DT) followed by any number of adjectives (JJ) and then a noun (NN). Using this grammar, we create a *chunk parser*, and test it on our example sentence. The result is a *tree*, which we can either print, or display graphically.\n",
        "\n",
        "**Example - 1**\n",
        "\n",
        "```\n",
        "sentence = [(\"the\", \"DT\"), (\"little\", \"JJ\"), (\"yellow\", \"JJ\"), (\"dog\", \"NN\"), (\"barked\", \"VBD\"), (\"at\", \"IN\"),  (\"the\", \"DT\"), (\"cat\", \"NN\")]\n",
        "\n",
        "grammar = \"NP: {<DT>?<JJ>*<NN>}\"\n",
        "\n",
        "cp = nltk.RegexpParser(grammar)\n",
        "result = cp.parse(sentence)\n",
        "print(result)\n",
        "```\n",
        "\n",
        "**Example - 2**\n",
        "\n",
        "```\n",
        "# Example of a simple regular expression based NP chunker.\n",
        "import nltk\n",
        "nltk.download('punkt')\n",
        "\n",
        "sentence = \"the little yellow dog barked at the cat\"\n",
        "\n",
        "# POS tag the sentence\n",
        "tagged = nltk.pos_tag(nltk.word_tokenize(sentence))\n",
        "\n",
        "# Define your grammar using regular expressions\n",
        "grammar = ('''NP: {<DT>?<JJ>*<NN>}''')\n",
        "\n",
        "chunkParser = nltk.RegexpParser(grammar)\n",
        "tree = chunkParser.parse(tagged)\n",
        "print(tree)\n",
        "```\n",
        "\n",
        "The POS tagger in the NLTK library outputs specific tags for certain words. The list of POS tags is as follows, with examples of what each POS stands for.\n",
        "\n",
        "```\n",
        "CC coordinating conjunction\n",
        "CD cardinal digit\n",
        "DT determiner\n",
        "EX existential there (like: “there is” … think of it like “there exists”)\n",
        "FW foreign word\n",
        "IN preposition/subordinating conjunction\n",
        "JJ adjective ‘big’\n",
        "JJR adjective, comparative ‘bigger’\n",
        "JJS adjective, superlative ‘biggest’\n",
        "LS list marker 1)\n",
        "MD modal could, will\n",
        "NN noun, singular ‘desk’\n",
        "NNS noun plural ‘desks’\n",
        "NNP proper noun, singular ‘Harrison’\n",
        "NNPS proper noun, plural ‘Americans’\n",
        "PDT predeterminer ‘all the kids’\n",
        "POS possessive ending parent’s\n",
        "PRP personal pronoun I, he, she\n",
        "PRP$ possessive pronoun my, his, hers\n",
        "RB adverb very, silently,\n",
        "RBR adverb, comparative better\n",
        "RBS adverb, superlative best\n",
        "RP particle give up\n",
        "TO, to go ‘to’ the store.\n",
        "UH interjection, errrrrrrrm\n",
        "VB verb, base form take\n",
        "VBD verb, past tense, took\n",
        "VBG verb, gerund/present participle taking\n",
        "VBN verb, past participle is taken\n",
        "VBP verb, sing. present, known-3d take\n",
        "VBZ verb, 3rd person sing. present takes\n",
        "WDT wh-determiner which\n",
        "WP wh-pronoun who, what\n",
        "WP$ possessive wh-pronoun whose\n",
        "WRB wh-adverb where, when\n",
        "```\n",
        "\n",
        "\n",
        "https://www.nltk.org/book/ch07.html\n",
        "\n",
        "https://medium.com/greyatom/learning-pos-tagging-chunking-in-nlp-85f7f811a8cb\n",
        "\n",
        "https://www.datacamp.com/community/tutorials/stemming-lemmatization-python\n"
      ]
    },
    {
      "cell_type": "code",
      "metadata": {
        "id": "_jW_ZWYuSNDI",
        "colab_type": "code",
        "colab": {}
      },
      "source": [
        "from nltk.corpus import stopwords\n",
        "from nltk.corpus import wordnet as wn\n",
        "\n",
        "stopwords = stopwords.words('english')\n",
        "lemmatizer = nltk.WordNetLemmatizer()\n",
        "stemmer = nltk.stem.porter.PorterStemmer()\n",
        "\n",
        "# generator, generate leaves one by one\n",
        "def leaves(tree):\n",
        "  \"\"\"Finds NP (nounphrase) leaf nodes of a chunk tree.\"\"\"\n",
        "  for subtree in tree.subtrees(filter = lambda t: t.label()=='NP' or t.label()=='JJ' or t.label()=='RB'):\n",
        "      yield subtree.leaves()\n",
        "\n",
        "# stemming, lematizing, lower case... \n",
        "# Lemmatization is basically Stemming with POS\n",
        "# WordNet Lematization Stems using POS\n",
        "def normalise(word, pos):\n",
        "  \"\"\"Normalises words to lowercase and lemmatizes and stems it.\"\"\"\n",
        "  word = word.lower()\n",
        "  pos = pos[0]\n",
        "  wn_tags = {'N':wn.NOUN, 'J':wn.ADJ, 'V':wn.VERB, 'R':wn.ADV}\n",
        "  stemmed_tokens = []\n",
        "  try:\n",
        "    pos = wn_tags[pos]\n",
        "    word = lemmatizer.lemmatize(word, pos=pos)\n",
        "  except:\n",
        "    word = stemmer.stem(word)\n",
        "    \n",
        "  return word\n",
        "\n",
        "# stop-words and length control\n",
        "def acceptable_word(word):\n",
        "  \"\"\"Checks conditions for acceptable word: length, stopword.\"\"\"\n",
        "  accepted = bool(2 <= len(word) <= 40 and word.lower() not in stopwords)\n",
        "  return accepted\n",
        "\n",
        "# generator, create item once a time\n",
        "def get_terms(tree):\n",
        "  for leaf in leaves(tree):\n",
        "    #print(leaf)\n",
        "    term = [normalise(w,t) for w,t in leaf if acceptable_word(w) ]\n",
        "    #print(term)\n",
        "    # Phrase only\n",
        "    if len(term)>1:\n",
        "      yield term\n",
        "\n",
        "# Flatten phrase lists to get tokens for analysis\n",
        "def flatten(npTokenList):\n",
        "  finalList =[]\n",
        "  for phrase in npTokenList:\n",
        "    token = ''\n",
        "    for word in phrase:\n",
        "      token += word + ' '\n",
        "    finalList.append(token.rstrip())\n",
        "  return finalList"
      ],
      "execution_count": 32,
      "outputs": []
    },
    {
      "cell_type": "code",
      "metadata": {
        "id": "XzNfiNXfSNBO",
        "colab_type": "code",
        "colab": {}
      },
      "source": [
        "def newDataFrameTransformation(hotelDf, reviewDF, k=500):\n",
        "  reviews = reviewDF['reviewCol'].values\n",
        "\n",
        "  # Top-k frequent terms\n",
        "  counter = Counter()\n",
        "  for review in reviews:\n",
        "    counter.update(flatten([word\n",
        "                            for word\n",
        "                            in get_terms(chunker.parse(nltk.pos_tag(re.findall(r'\\w+', review))))]))\n",
        "  topk = counter.most_common(k)        \n",
        "\n",
        "  #Find out if a particular review has the word from topk list\n",
        "  freqReview = []\n",
        "  for i in range(len(reviews)):\n",
        "    tempCounter = Counter(flatten([word\n",
        "                                   for word\n",
        "                                   in get_terms(chunker.parse(nltk.pos_tag(re.findall(r'\\w+',reviews[i]))))]))\n",
        "    topkinReview = [1 if tempCounter[word] > 0 else 0 for (word,wordCount) in topk]\n",
        "    freqReview.append(topkinReview)\n",
        "      \n",
        "  #Prepare freqReviewDf\n",
        "  freqReviewDf = pd.DataFrame(freqReview)\n",
        "  dfName = []\n",
        "  for c in topk:\n",
        "    dfName.append(c[0])\n",
        "  freqReviewDf.columns = dfName\n",
        "  finalreviewDf = reviewDF.join(freqReviewDf)\n",
        "  finaldf = hotelDf[['hotelName','ratingScore','groundTruth']].join(finalreviewDf)\n",
        "  return topk, finaldf"
      ],
      "execution_count": 33,
      "outputs": []
    },
    {
      "cell_type": "code",
      "metadata": {
        "id": "ZVTH2nOpEQ03",
        "colab_type": "code",
        "colab": {}
      },
      "source": [
        "grammar = r\"\"\"\n",
        "    NBAR:\n",
        "        {<NN.*|JJ>*<NN.*>}  # Nouns and Adjectives, terminated with Nouns\n",
        "        \n",
        "    NP:\n",
        "        {<NBAR>}\n",
        "        {<NBAR><IN><NBAR>}  # Above, connected with in/of/etc...\n",
        "\"\"\""
      ],
      "execution_count": 34,
      "outputs": []
    },
    {
      "cell_type": "code",
      "metadata": {
        "id": "JPItiIBeITYF",
        "colab_type": "code",
        "colab": {
          "base_uri": "https://localhost:8080/",
          "height": 52
        },
        "outputId": "60b3508e-6b4e-4292-ec40-ced71de0cf75"
      },
      "source": [
        "reviewDF['reviewCol'][3]"
      ],
      "execution_count": 35,
      "outputs": [
        {
          "output_type": "execute_result",
          "data": {
            "application/vnd.google.colaboratory.intrinsic": {
              "type": "string"
            },
            "text/plain": [
              "'\"Very affordable rooms in the Niagara Falls area. Queen beds with fair size bathroom with tub. Just outside of the tourist area. No breakfast included but walking distance to Tim Hortons. Quick drive to all the other restaurants. '"
            ]
          },
          "metadata": {
            "tags": []
          },
          "execution_count": 35
        }
      ]
    },
    {
      "cell_type": "code",
      "metadata": {
        "id": "m6YXaNvTLFph",
        "colab_type": "code",
        "colab": {
          "base_uri": "https://localhost:8080/",
          "height": 652
        },
        "outputId": "80489e5c-0f07-4fa2-ae7b-083a61495777"
      },
      "source": [
        "re.findall(r'\\w+', reviewDF['reviewCol'][3])"
      ],
      "execution_count": 36,
      "outputs": [
        {
          "output_type": "execute_result",
          "data": {
            "text/plain": [
              "['Very',\n",
              " 'affordable',\n",
              " 'rooms',\n",
              " 'in',\n",
              " 'the',\n",
              " 'Niagara',\n",
              " 'Falls',\n",
              " 'area',\n",
              " 'Queen',\n",
              " 'beds',\n",
              " 'with',\n",
              " 'fair',\n",
              " 'size',\n",
              " 'bathroom',\n",
              " 'with',\n",
              " 'tub',\n",
              " 'Just',\n",
              " 'outside',\n",
              " 'of',\n",
              " 'the',\n",
              " 'tourist',\n",
              " 'area',\n",
              " 'No',\n",
              " 'breakfast',\n",
              " 'included',\n",
              " 'but',\n",
              " 'walking',\n",
              " 'distance',\n",
              " 'to',\n",
              " 'Tim',\n",
              " 'Hortons',\n",
              " 'Quick',\n",
              " 'drive',\n",
              " 'to',\n",
              " 'all',\n",
              " 'the',\n",
              " 'other',\n",
              " 'restaurants']"
            ]
          },
          "metadata": {
            "tags": []
          },
          "execution_count": 36
        }
      ]
    },
    {
      "cell_type": "code",
      "metadata": {
        "id": "VJLVYydaLJXR",
        "colab_type": "code",
        "colab": {
          "base_uri": "https://localhost:8080/",
          "height": 652
        },
        "outputId": "e67e7f23-c182-4011-def0-b8d279dc3e6e"
      },
      "source": [
        "nltk.pos_tag(re.findall(r'\\w+', reviewDF['reviewCol'][3]))"
      ],
      "execution_count": 37,
      "outputs": [
        {
          "output_type": "execute_result",
          "data": {
            "text/plain": [
              "[('Very', 'RB'),\n",
              " ('affordable', 'JJ'),\n",
              " ('rooms', 'NNS'),\n",
              " ('in', 'IN'),\n",
              " ('the', 'DT'),\n",
              " ('Niagara', 'NNP'),\n",
              " ('Falls', 'NNP'),\n",
              " ('area', 'NN'),\n",
              " ('Queen', 'NNP'),\n",
              " ('beds', 'VBZ'),\n",
              " ('with', 'IN'),\n",
              " ('fair', 'JJ'),\n",
              " ('size', 'NN'),\n",
              " ('bathroom', 'NN'),\n",
              " ('with', 'IN'),\n",
              " ('tub', 'NN'),\n",
              " ('Just', 'NNP'),\n",
              " ('outside', 'IN'),\n",
              " ('of', 'IN'),\n",
              " ('the', 'DT'),\n",
              " ('tourist', 'NN'),\n",
              " ('area', 'NN'),\n",
              " ('No', 'NNP'),\n",
              " ('breakfast', 'NN'),\n",
              " ('included', 'VBD'),\n",
              " ('but', 'CC'),\n",
              " ('walking', 'VBG'),\n",
              " ('distance', 'NN'),\n",
              " ('to', 'TO'),\n",
              " ('Tim', 'NNP'),\n",
              " ('Hortons', 'NNP'),\n",
              " ('Quick', 'NNP'),\n",
              " ('drive', 'NN'),\n",
              " ('to', 'TO'),\n",
              " ('all', 'PDT'),\n",
              " ('the', 'DT'),\n",
              " ('other', 'JJ'),\n",
              " ('restaurants', 'NNS')]"
            ]
          },
          "metadata": {
            "tags": []
          },
          "execution_count": 37
        }
      ]
    },
    {
      "cell_type": "code",
      "metadata": {
        "id": "jkStkL5qLLew",
        "colab_type": "code",
        "colab": {
          "base_uri": "https://localhost:8080/",
          "height": 435
        },
        "outputId": "b1e5dd87-9ba5-4266-c589-1d65fa7e0f26"
      },
      "source": [
        "chunker = nltk.RegexpParser(grammar)\n",
        "tree = (chunker.parse(nltk.pos_tag(re.findall(r'\\w+', reviewDF['reviewCol'][3]))))\n",
        "print(tree)"
      ],
      "execution_count": 38,
      "outputs": [
        {
          "output_type": "stream",
          "text": [
            "(S\n",
            "  Very/RB\n",
            "  (NP (NBAR affordable/JJ rooms/NNS))\n",
            "  in/IN\n",
            "  the/DT\n",
            "  (NP (NBAR Niagara/NNP Falls/NNP area/NN Queen/NNP))\n",
            "  beds/VBZ\n",
            "  with/IN\n",
            "  (NP (NBAR fair/JJ size/NN bathroom/NN))\n",
            "  with/IN\n",
            "  (NP (NBAR tub/NN Just/NNP))\n",
            "  outside/IN\n",
            "  of/IN\n",
            "  the/DT\n",
            "  (NP (NBAR tourist/NN area/NN No/NNP breakfast/NN))\n",
            "  included/VBD\n",
            "  but/CC\n",
            "  walking/VBG\n",
            "  (NP (NBAR distance/NN))\n",
            "  to/TO\n",
            "  (NP (NBAR Tim/NNP Hortons/NNP Quick/NNP drive/NN))\n",
            "  to/TO\n",
            "  all/PDT\n",
            "  the/DT\n",
            "  (NP (NBAR other/JJ restaurants/NNS)))\n"
          ],
          "name": "stdout"
        }
      ]
    },
    {
      "cell_type": "code",
      "metadata": {
        "id": "PZv4BzKnqtk2",
        "colab_type": "code",
        "colab": {
          "base_uri": "https://localhost:8080/",
          "height": 33
        },
        "outputId": "dc4b9b49-d0da-4b96-c829-cd42d83d81b8"
      },
      "source": [
        "get_terms(chunker.parse(nltk.pos_tag(re.findall(r'\\w+', reviewDF['reviewCol'][111]))))"
      ],
      "execution_count": 39,
      "outputs": [
        {
          "output_type": "execute_result",
          "data": {
            "text/plain": [
              "<generator object get_terms at 0x7f8dcedfb308>"
            ]
          },
          "metadata": {
            "tags": []
          },
          "execution_count": 39
        }
      ]
    },
    {
      "cell_type": "code",
      "metadata": {
        "id": "B_qfGXp_qtqF",
        "colab_type": "code",
        "colab": {
          "base_uri": "https://localhost:8080/",
          "height": 569
        },
        "outputId": "910a677e-17d7-45fb-fc96-57b70fad8394"
      },
      "source": [
        "([word for word in get_terms(chunker.parse(nltk.pos_tag(re.findall(r'\\w+', reviewDF['reviewCol'][111]))))])"
      ],
      "execution_count": 40,
      "outputs": [
        {
          "output_type": "execute_result",
          "data": {
            "text/plain": [
              "[['first', 'experience'],\n",
              " ['awesome', 'nfirst', 'impression', 'john'],\n",
              " ['chris', 'warm'],\n",
              " ['land', 'john'],\n",
              " ['detailed', 'breakdown'],\n",
              " ['free', 'water'],\n",
              " ['nthe', 'house'],\n",
              " ['beautiful', 'look'],\n",
              " ['visit', 'allowed'],\n",
              " ['nhouse', 'room'],\n",
              " ['lighthouse', 'room'],\n",
              " ['new', 'year'],\n",
              " ['different', 'room'],\n",
              " ['comfortable', 'convenient'],\n",
              " ['first', 'day'],\n",
              " ['home', 'fry'],\n",
              " ['personal', 'favorite', 'ntreatment', 'stay', 'analysis'],\n",
              " ['great', 'john'],\n",
              " ['bank', 'machine'],\n",
              " ['extra', 'pillow'],\n",
              " ['last', 'day'],\n",
              " ['solid', 'direction'],\n",
              " ['wine', 'tour', 'fall'],\n",
              " ['new', 'year', 'walking'],\n",
              " ['cab', 'driver'],\n",
              " ['dollar', 'fare'],\n",
              " ['horseshoe', 'fall'],\n",
              " ['regular', 'pace'],\n",
              " ['busy', 'john'],\n",
              " ['great', 'enjoyable', 'stay'],\n",
              " ['unforgettable', 'experience'],\n",
              " ['funny', 'story'],\n",
              " ['amp', 'nthanks']]"
            ]
          },
          "metadata": {
            "tags": []
          },
          "execution_count": 40
        }
      ]
    },
    {
      "cell_type": "code",
      "metadata": {
        "id": "70iPSjbfqtog",
        "colab_type": "code",
        "colab": {
          "base_uri": "https://localhost:8080/",
          "height": 569
        },
        "outputId": "f9d88eda-d269-4552-f070-18bc2f8e75f7"
      },
      "source": [
        "(flatten([word for word in get_terms(chunker.parse(nltk.pos_tag(re.findall(r'\\w+', reviewDF['reviewCol'][111]))))]))"
      ],
      "execution_count": 41,
      "outputs": [
        {
          "output_type": "execute_result",
          "data": {
            "text/plain": [
              "['first experience',\n",
              " 'awesome nfirst impression john',\n",
              " 'chris warm',\n",
              " 'land john',\n",
              " 'detailed breakdown',\n",
              " 'free water',\n",
              " 'nthe house',\n",
              " 'beautiful look',\n",
              " 'visit allowed',\n",
              " 'nhouse room',\n",
              " 'lighthouse room',\n",
              " 'new year',\n",
              " 'different room',\n",
              " 'comfortable convenient',\n",
              " 'first day',\n",
              " 'home fry',\n",
              " 'personal favorite ntreatment stay analysis',\n",
              " 'great john',\n",
              " 'bank machine',\n",
              " 'extra pillow',\n",
              " 'last day',\n",
              " 'solid direction',\n",
              " 'wine tour fall',\n",
              " 'new year walking',\n",
              " 'cab driver',\n",
              " 'dollar fare',\n",
              " 'horseshoe fall',\n",
              " 'regular pace',\n",
              " 'busy john',\n",
              " 'great enjoyable stay',\n",
              " 'unforgettable experience',\n",
              " 'funny story',\n",
              " 'amp nthanks']"
            ]
          },
          "metadata": {
            "tags": []
          },
          "execution_count": 41
        }
      ]
    },
    {
      "cell_type": "code",
      "metadata": {
        "id": "SbWYevjRqwx7",
        "colab_type": "code",
        "colab": {}
      },
      "source": [
        "topk_phrase, finaldf_phrase = newDataFrameTransformation(hotelDf, reviewDF)"
      ],
      "execution_count": 42,
      "outputs": []
    },
    {
      "cell_type": "code",
      "metadata": {
        "id": "S8hyySl6TXKR",
        "colab_type": "code",
        "colab": {}
      },
      "source": [
        "def getTopKphrase(df, k, label_value, label_column='groundTruth', operation=operator.eq, value_column='reviewCol'):\n",
        "  #stop = set(stopwords.words('english'))\n",
        "\n",
        "  counter = Counter()\n",
        "  for review in df.loc[operation(df[label_column],label_value)][value_column]:\n",
        "    counter.update(flatten([word\n",
        "                            for word in get_terms(chunker.parse(nltk.pos_tag(re.findall(r'\\w+', review))))]))\n",
        "  topk = counter.most_common(k)  \n",
        "\n",
        "  return topk"
      ],
      "execution_count": 43,
      "outputs": []
    },
    {
      "cell_type": "code",
      "metadata": {
        "id": "sIGLRL_Bwsoh",
        "colab_type": "code",
        "colab": {}
      },
      "source": [
        "topkGroundPosphrase = getTopKphrase(df=finaldf_phrase, k=50, label_value='positive')"
      ],
      "execution_count": 44,
      "outputs": []
    },
    {
      "cell_type": "code",
      "metadata": {
        "id": "0pnsHaVgxf9r",
        "colab_type": "code",
        "colab": {
          "base_uri": "https://localhost:8080/",
          "height": 853
        },
        "outputId": "ab8f460a-b8ba-4c7b-b426-db70dd4de2b3"
      },
      "source": [
        "topkGroundPosphrase"
      ],
      "execution_count": 45,
      "outputs": [
        {
          "output_type": "execute_result",
          "data": {
            "text/plain": [
              "[('niagara fall', 2106),\n",
              " ('clifton hill', 782),\n",
              " ('front desk', 756),\n",
              " ('great view', 687),\n",
              " ('fallsview room', 425),\n",
              " ('american fall', 409),\n",
              " ('horseshoe fall', 370),\n",
              " ('minute walk', 369),\n",
              " ('breakfast buffet', 348),\n",
              " ('great location', 337),\n",
              " ('amazing view', 334),\n",
              " ('water park', 280),\n",
              " ('short walk', 275),\n",
              " ('nthe room', 270),\n",
              " ('hotel room', 270),\n",
              " ('hot tub', 266),\n",
              " ('hotel staff', 264),\n",
              " ('falls view room', 262),\n",
              " ('great place', 255),\n",
              " ('first time', 253),\n",
              " ('canadian side', 250),\n",
              " ('great time', 245),\n",
              " ('fall view', 243),\n",
              " ('nthe hotel', 232),\n",
              " ('room service', 231),\n",
              " ('marriott fallsview', 209),\n",
              " ('queen bed', 207),\n",
              " ('spectacular view', 207),\n",
              " ('rainbow bridge', 198),\n",
              " ('great hotel', 195),\n",
              " ('great stay', 190),\n",
              " ('fall view room', 186),\n",
              " ('crowne plaza', 183),\n",
              " ('beautiful view', 183),\n",
              " ('valet parking', 182),\n",
              " ('indoor pool', 176),\n",
              " ('front desk staff', 175),\n",
              " ('night stay', 174),\n",
              " ('canadian fall', 174),\n",
              " ('buffet breakfast', 173),\n",
              " ('parking lot', 166),\n",
              " ('fantastic view', 161),\n",
              " ('fallsview casino', 151),\n",
              " ('nice hotel', 150),\n",
              " ('ceiling window', 149),\n",
              " ('pool area', 148),\n",
              " ('next time', 143),\n",
              " ('free wifi', 140),\n",
              " ('top floor', 139),\n",
              " ('good view', 136)]"
            ]
          },
          "metadata": {
            "tags": []
          },
          "execution_count": 45
        }
      ]
    },
    {
      "cell_type": "code",
      "metadata": {
        "id": "xii9HSNPxf7H",
        "colab_type": "code",
        "colab": {}
      },
      "source": [
        "topkGroundNegphrase = getTopKphrase(df=itemAnalysisDf, k=50, label_value='negative')"
      ],
      "execution_count": 46,
      "outputs": []
    },
    {
      "cell_type": "code",
      "metadata": {
        "id": "xNXsPfuwxjTN",
        "colab_type": "code",
        "colab": {
          "base_uri": "https://localhost:8080/",
          "height": 853
        },
        "outputId": "5aa487fe-e57f-49a3-b1b6-c3ec6b76ab45"
      },
      "source": [
        "topkGroundNegphrase"
      ],
      "execution_count": 47,
      "outputs": [
        {
          "output_type": "execute_result",
          "data": {
            "text/plain": [
              "[('front desk', 846),\n",
              " ('niagara fall', 580),\n",
              " ('clifton hill', 273),\n",
              " ('great view', 182),\n",
              " ('parking lot', 159),\n",
              " ('hotel room', 152),\n",
              " ('water park', 152),\n",
              " ('hot tub', 150),\n",
              " ('nthe room', 148),\n",
              " ('next day', 148),\n",
              " ('credit card', 134),\n",
              " ('customer service', 133),\n",
              " ('night stay', 114),\n",
              " ('star hotel', 109),\n",
              " ('next morning', 107),\n",
              " ('front desk staff', 107),\n",
              " ('fallsview room', 102),\n",
              " ('great location', 98),\n",
              " ('queen bed', 95),\n",
              " ('resort fee', 94),\n",
              " ('good thing', 92),\n",
              " ('next time', 91),\n",
              " ('first night', 90),\n",
              " ('crowne plaza', 90),\n",
              " ('nthe hotel', 89),\n",
              " ('minute walk', 88),\n",
              " ('pool area', 88),\n",
              " ('indoor pool', 80),\n",
              " ('hot water', 78),\n",
              " ('room service', 77),\n",
              " ('parking fee', 77),\n",
              " ('free parking', 75),\n",
              " ('hotel staff', 74),\n",
              " ('falls view room', 73),\n",
              " ('breakfast buffet', 73),\n",
              " ('first time', 73),\n",
              " ('double bed', 69),\n",
              " ('american fall', 69),\n",
              " ('coffee maker', 69),\n",
              " ('good view', 64),\n",
              " ('free wifi', 64),\n",
              " ('fall view', 63),\n",
              " ('nice hotel', 63),\n",
              " ('nice view', 61),\n",
              " ('short walk', 61),\n",
              " ('valet parking', 61),\n",
              " ('free breakfast', 59),\n",
              " ('good deal', 58),\n",
              " ('holiday inn', 57),\n",
              " ('good location', 56)]"
            ]
          },
          "metadata": {
            "tags": []
          },
          "execution_count": 47
        }
      ]
    },
    {
      "cell_type": "code",
      "metadata": {
        "id": "HwTyHnNC0fwF",
        "colab_type": "code",
        "colab": {
          "base_uri": "https://localhost:8080/",
          "height": 569
        },
        "outputId": "033565bb-ec99-423d-dd2f-56d983f3b588"
      },
      "source": [
        "lista = set([i[0] for i in topkGroundPosphrase])\n",
        "listb = set([i[0] for i in topkGroundNegphrase])\n",
        "lista.intersection(listb), len(lista.intersection(listb))"
      ],
      "execution_count": 48,
      "outputs": [
        {
          "output_type": "execute_result",
          "data": {
            "text/plain": [
              "({'american fall',\n",
              "  'breakfast buffet',\n",
              "  'clifton hill',\n",
              "  'crowne plaza',\n",
              "  'fall view',\n",
              "  'falls view room',\n",
              "  'fallsview room',\n",
              "  'first time',\n",
              "  'free wifi',\n",
              "  'front desk',\n",
              "  'front desk staff',\n",
              "  'good view',\n",
              "  'great location',\n",
              "  'great view',\n",
              "  'hot tub',\n",
              "  'hotel room',\n",
              "  'hotel staff',\n",
              "  'indoor pool',\n",
              "  'minute walk',\n",
              "  'next time',\n",
              "  'niagara fall',\n",
              "  'nice hotel',\n",
              "  'night stay',\n",
              "  'nthe hotel',\n",
              "  'nthe room',\n",
              "  'parking lot',\n",
              "  'pool area',\n",
              "  'queen bed',\n",
              "  'room service',\n",
              "  'short walk',\n",
              "  'valet parking',\n",
              "  'water park'},\n",
              " 32)"
            ]
          },
          "metadata": {
            "tags": []
          },
          "execution_count": 48
        }
      ]
    },
    {
      "cell_type": "markdown",
      "metadata": {
        "id": "4Y3taFv0xtGY",
        "colab_type": "text"
      },
      "source": [
        "If we compare the top 50 word in both lists we can see there are 31 phrases in common. It means people use the same words in both positive and negative reviews or complain and care about the same things. For example the words \"front desk\",\"front desk staff\" and \"breakfast buffet\" appears in both lists.\n",
        "\n",
        "Also the frequency of phrases is very less than the words because no two people use the same phrase. We can also see locale specific phrases. For example in pos phrases \"niagara fall\", \"great view\", \"fall view room\", \"horseshoe fall\" becuase the hotels are in windsor and this city has river front and has the ambassdor bridge.\n",
        "\n",
        "Simlarly for the top negative words the words \"front desk\",\"front desk staff, 23\" make more sense beucase the people complain about them. And also the \"holdiay inn\" and \"hamptoprint(lista.intersection(listb))\n",
        "ninn\" words refer to the hotels with same name in windsor"
      ]
    },
    {
      "cell_type": "markdown",
      "metadata": {
        "id": "Pi6swiEzA5JJ",
        "colab_type": "text"
      },
      "source": [
        "# Q3 Mutual Information\n",
        "\n",
        "(a) Use mutual information (MI) with ground truth sentiment to rank the top-50 most sentiment-bearing non-stopwords in the review collection. Do you note anything interesting and/or locale-specific about these top-ranked words?\n",
        "\n",
        "(b) Repeat this analysis for the top-50 noun phrases and note any interesting results."
      ]
    },
    {
      "cell_type": "code",
      "metadata": {
        "id": "_5SWvsOtxkyO",
        "colab_type": "code",
        "colab": {}
      },
      "source": [
        "# get Top K mutual information terms from the dataframe\n",
        "def getMI(topk, df, label_column='groundTruth'):\n",
        "  miScore = []\n",
        "  for word in topk:\n",
        "    miScore.append([word[0]]+[metrics.mutual_info_score(df[label_column], df[word[0]])])\n",
        "  miScoredf = pd.DataFrame(miScore).sort_values(1,ascending=0)\n",
        "  miScoredf.columns = ['Word','MI Score']\n",
        "  return miScoredf"
      ],
      "execution_count": 49,
      "outputs": []
    },
    {
      "cell_type": "code",
      "metadata": {
        "id": "Pq_YclPvxk4z",
        "colab_type": "code",
        "colab": {}
      },
      "source": [
        "midf = [[50,50],[50,50]]\n",
        "midf = pd.DataFrame(midf)\n",
        "midf.columns = ['X','Y']"
      ],
      "execution_count": 50,
      "outputs": []
    },
    {
      "cell_type": "code",
      "metadata": {
        "id": "ooqfUta9Eu3E",
        "colab_type": "code",
        "colab": {
          "base_uri": "https://localhost:8080/",
          "height": 107
        },
        "outputId": "4d6eef94-eaa0-4628-f49b-7335bdb13c5e"
      },
      "source": [
        "midf"
      ],
      "execution_count": 51,
      "outputs": [
        {
          "output_type": "execute_result",
          "data": {
            "text/html": [
              "<div>\n",
              "<style scoped>\n",
              "    .dataframe tbody tr th:only-of-type {\n",
              "        vertical-align: middle;\n",
              "    }\n",
              "\n",
              "    .dataframe tbody tr th {\n",
              "        vertical-align: top;\n",
              "    }\n",
              "\n",
              "    .dataframe thead th {\n",
              "        text-align: right;\n",
              "    }\n",
              "</style>\n",
              "<table border=\"1\" class=\"dataframe\">\n",
              "  <thead>\n",
              "    <tr style=\"text-align: right;\">\n",
              "      <th></th>\n",
              "      <th>X</th>\n",
              "      <th>Y</th>\n",
              "    </tr>\n",
              "  </thead>\n",
              "  <tbody>\n",
              "    <tr>\n",
              "      <th>0</th>\n",
              "      <td>50</td>\n",
              "      <td>50</td>\n",
              "    </tr>\n",
              "    <tr>\n",
              "      <th>1</th>\n",
              "      <td>50</td>\n",
              "      <td>50</td>\n",
              "    </tr>\n",
              "  </tbody>\n",
              "</table>\n",
              "</div>"
            ],
            "text/plain": [
              "    X   Y\n",
              "0  50  50\n",
              "1  50  50"
            ]
          },
          "metadata": {
            "tags": []
          },
          "execution_count": 51
        }
      ]
    },
    {
      "cell_type": "code",
      "metadata": {
        "id": "en6c7SqAEu6P",
        "colab_type": "code",
        "colab": {
          "base_uri": "https://localhost:8080/",
          "height": 33
        },
        "outputId": "5d57c525-d73d-46b9-b320-bd9035673315"
      },
      "source": [
        "metrics.mutual_info_score(midf['X'], midf['Y'])"
      ],
      "execution_count": 52,
      "outputs": [
        {
          "output_type": "execute_result",
          "data": {
            "text/plain": [
              "0.0"
            ]
          },
          "metadata": {
            "tags": []
          },
          "execution_count": 52
        }
      ]
    },
    {
      "cell_type": "code",
      "metadata": {
        "id": "FmciM3GNEvBV",
        "colab_type": "code",
        "colab": {}
      },
      "source": [
        "midf = [[100,0],[0,100]]\n",
        "midf = pd.DataFrame(midf)\n",
        "midf.columns = ['X','Y']"
      ],
      "execution_count": 53,
      "outputs": []
    },
    {
      "cell_type": "code",
      "metadata": {
        "id": "J9F0hfoxE0J_",
        "colab_type": "code",
        "colab": {
          "base_uri": "https://localhost:8080/",
          "height": 107
        },
        "outputId": "1596ebed-1acc-4a8c-9f09-40848006e2ca"
      },
      "source": [
        "midf"
      ],
      "execution_count": 54,
      "outputs": [
        {
          "output_type": "execute_result",
          "data": {
            "text/html": [
              "<div>\n",
              "<style scoped>\n",
              "    .dataframe tbody tr th:only-of-type {\n",
              "        vertical-align: middle;\n",
              "    }\n",
              "\n",
              "    .dataframe tbody tr th {\n",
              "        vertical-align: top;\n",
              "    }\n",
              "\n",
              "    .dataframe thead th {\n",
              "        text-align: right;\n",
              "    }\n",
              "</style>\n",
              "<table border=\"1\" class=\"dataframe\">\n",
              "  <thead>\n",
              "    <tr style=\"text-align: right;\">\n",
              "      <th></th>\n",
              "      <th>X</th>\n",
              "      <th>Y</th>\n",
              "    </tr>\n",
              "  </thead>\n",
              "  <tbody>\n",
              "    <tr>\n",
              "      <th>0</th>\n",
              "      <td>100</td>\n",
              "      <td>0</td>\n",
              "    </tr>\n",
              "    <tr>\n",
              "      <th>1</th>\n",
              "      <td>0</td>\n",
              "      <td>100</td>\n",
              "    </tr>\n",
              "  </tbody>\n",
              "</table>\n",
              "</div>"
            ],
            "text/plain": [
              "     X    Y\n",
              "0  100    0\n",
              "1    0  100"
            ]
          },
          "metadata": {
            "tags": []
          },
          "execution_count": 54
        }
      ]
    },
    {
      "cell_type": "code",
      "metadata": {
        "id": "3XENIT1AE1o_",
        "colab_type": "code",
        "colab": {
          "base_uri": "https://localhost:8080/",
          "height": 33
        },
        "outputId": "10a25d7f-faa3-46df-eebb-e9abcbc5ffe6"
      },
      "source": [
        "metrics.mutual_info_score(midf['X'], midf['Y'])\n"
      ],
      "execution_count": 55,
      "outputs": [
        {
          "output_type": "execute_result",
          "data": {
            "text/plain": [
              "0.6931471805599453"
            ]
          },
          "metadata": {
            "tags": []
          },
          "execution_count": 55
        }
      ]
    },
    {
      "cell_type": "code",
      "metadata": {
        "id": "iHYKhKMhE3Yf",
        "colab_type": "code",
        "colab": {
          "base_uri": "https://localhost:8080/",
          "height": 33
        },
        "outputId": "598387f9-e5a6-45ac-bf2d-ab8ca74780db"
      },
      "source": [
        "math.log(2)"
      ],
      "execution_count": 56,
      "outputs": [
        {
          "output_type": "execute_result",
          "data": {
            "text/plain": [
              "0.6931471805599453"
            ]
          },
          "metadata": {
            "tags": []
          },
          "execution_count": 56
        }
      ]
    },
    {
      "cell_type": "code",
      "metadata": {
        "id": "5l-BZC8LE8MR",
        "colab_type": "code",
        "colab": {}
      },
      "source": [
        "midf = [[0,0],[100,100]]\n",
        "midf = pd.DataFrame(midf)\n",
        "midf.columns = ['X','Y']"
      ],
      "execution_count": 57,
      "outputs": []
    },
    {
      "cell_type": "code",
      "metadata": {
        "id": "_Rwe92SAE9m6",
        "colab_type": "code",
        "colab": {
          "base_uri": "https://localhost:8080/",
          "height": 107
        },
        "outputId": "7f96a0b8-a0b1-41d8-e3da-97dcf04381bb"
      },
      "source": [
        "midf"
      ],
      "execution_count": 58,
      "outputs": [
        {
          "output_type": "execute_result",
          "data": {
            "text/html": [
              "<div>\n",
              "<style scoped>\n",
              "    .dataframe tbody tr th:only-of-type {\n",
              "        vertical-align: middle;\n",
              "    }\n",
              "\n",
              "    .dataframe tbody tr th {\n",
              "        vertical-align: top;\n",
              "    }\n",
              "\n",
              "    .dataframe thead th {\n",
              "        text-align: right;\n",
              "    }\n",
              "</style>\n",
              "<table border=\"1\" class=\"dataframe\">\n",
              "  <thead>\n",
              "    <tr style=\"text-align: right;\">\n",
              "      <th></th>\n",
              "      <th>X</th>\n",
              "      <th>Y</th>\n",
              "    </tr>\n",
              "  </thead>\n",
              "  <tbody>\n",
              "    <tr>\n",
              "      <th>0</th>\n",
              "      <td>0</td>\n",
              "      <td>0</td>\n",
              "    </tr>\n",
              "    <tr>\n",
              "      <th>1</th>\n",
              "      <td>100</td>\n",
              "      <td>100</td>\n",
              "    </tr>\n",
              "  </tbody>\n",
              "</table>\n",
              "</div>"
            ],
            "text/plain": [
              "     X    Y\n",
              "0    0    0\n",
              "1  100  100"
            ]
          },
          "metadata": {
            "tags": []
          },
          "execution_count": 58
        }
      ]
    },
    {
      "cell_type": "code",
      "metadata": {
        "id": "FFbG_v9sE_U5",
        "colab_type": "code",
        "colab": {
          "base_uri": "https://localhost:8080/",
          "height": 33
        },
        "outputId": "2ad79a96-c029-4843-b72f-008116c9cf94"
      },
      "source": [
        "metrics.mutual_info_score(midf['X'], midf['Y'])"
      ],
      "execution_count": 59,
      "outputs": [
        {
          "output_type": "execute_result",
          "data": {
            "text/plain": [
              "0.6931471805599453"
            ]
          },
          "metadata": {
            "tags": []
          },
          "execution_count": 59
        }
      ]
    },
    {
      "cell_type": "code",
      "metadata": {
        "id": "CU33BQZgFh6q",
        "colab_type": "code",
        "colab": {}
      },
      "source": [
        "miScoredf = getMI(topk, finaldf)"
      ],
      "execution_count": 60,
      "outputs": []
    },
    {
      "cell_type": "code",
      "metadata": {
        "id": "vMEOZQEZKrH6",
        "colab_type": "code",
        "colab": {
          "base_uri": "https://localhost:8080/",
          "height": 1000
        },
        "outputId": "9ff86aff-7bbc-4e99-ac6b-e9b551085cd8"
      },
      "source": [
        "miScoredf.head(50)"
      ],
      "execution_count": 61,
      "outputs": [
        {
          "output_type": "execute_result",
          "data": {
            "text/html": [
              "<div>\n",
              "<style scoped>\n",
              "    .dataframe tbody tr th:only-of-type {\n",
              "        vertical-align: middle;\n",
              "    }\n",
              "\n",
              "    .dataframe tbody tr th {\n",
              "        vertical-align: top;\n",
              "    }\n",
              "\n",
              "    .dataframe thead th {\n",
              "        text-align: right;\n",
              "    }\n",
              "</style>\n",
              "<table border=\"1\" class=\"dataframe\">\n",
              "  <thead>\n",
              "    <tr style=\"text-align: right;\">\n",
              "      <th></th>\n",
              "      <th>Word</th>\n",
              "      <th>MI Score</th>\n",
              "    </tr>\n",
              "  </thead>\n",
              "  <tbody>\n",
              "    <tr>\n",
              "      <th>2</th>\n",
              "      <td>falls</td>\n",
              "      <td>0.028173</td>\n",
              "    </tr>\n",
              "    <tr>\n",
              "      <th>291</th>\n",
              "      <td>dirty</td>\n",
              "      <td>0.027975</td>\n",
              "    </tr>\n",
              "    <tr>\n",
              "      <th>95</th>\n",
              "      <td>told</td>\n",
              "      <td>0.021217</td>\n",
              "    </tr>\n",
              "    <tr>\n",
              "      <th>4</th>\n",
              "      <td>great</td>\n",
              "      <td>0.020800</td>\n",
              "    </tr>\n",
              "    <tr>\n",
              "      <th>3</th>\n",
              "      <td>view</td>\n",
              "      <td>0.016999</td>\n",
              "    </tr>\n",
              "    <tr>\n",
              "      <th>118</th>\n",
              "      <td>said</td>\n",
              "      <td>0.013796</td>\n",
              "    </tr>\n",
              "    <tr>\n",
              "      <th>73</th>\n",
              "      <td>amazing</td>\n",
              "      <td>0.012139</td>\n",
              "    </tr>\n",
              "    <tr>\n",
              "      <th>48</th>\n",
              "      <td>helpful</td>\n",
              "      <td>0.011541</td>\n",
              "    </tr>\n",
              "    <tr>\n",
              "      <th>76</th>\n",
              "      <td>excellent</td>\n",
              "      <td>0.011353</td>\n",
              "    </tr>\n",
              "    <tr>\n",
              "      <th>99</th>\n",
              "      <td>never</td>\n",
              "      <td>0.011276</td>\n",
              "    </tr>\n",
              "    <tr>\n",
              "      <th>120</th>\n",
              "      <td>wonderful</td>\n",
              "      <td>0.011160</td>\n",
              "    </tr>\n",
              "    <tr>\n",
              "      <th>130</th>\n",
              "      <td>asked</td>\n",
              "      <td>0.010989</td>\n",
              "    </tr>\n",
              "    <tr>\n",
              "      <th>140</th>\n",
              "      <td>perfect</td>\n",
              "      <td>0.010829</td>\n",
              "    </tr>\n",
              "    <tr>\n",
              "      <th>222</th>\n",
              "      <td>work</td>\n",
              "      <td>0.010557</td>\n",
              "    </tr>\n",
              "    <tr>\n",
              "      <th>197</th>\n",
              "      <td>bad</td>\n",
              "      <td>0.010536</td>\n",
              "    </tr>\n",
              "    <tr>\n",
              "      <th>101</th>\n",
              "      <td>old</td>\n",
              "      <td>0.010424</td>\n",
              "    </tr>\n",
              "    <tr>\n",
              "      <th>29</th>\n",
              "      <td>friendly</td>\n",
              "      <td>0.009947</td>\n",
              "    </tr>\n",
              "    <tr>\n",
              "      <th>149</th>\n",
              "      <td>paid</td>\n",
              "      <td>0.009319</td>\n",
              "    </tr>\n",
              "    <tr>\n",
              "      <th>484</th>\n",
              "      <td>poor</td>\n",
              "      <td>0.009286</td>\n",
              "    </tr>\n",
              "    <tr>\n",
              "      <th>183</th>\n",
              "      <td>called</td>\n",
              "      <td>0.009238</td>\n",
              "    </tr>\n",
              "    <tr>\n",
              "      <th>449</th>\n",
              "      <td>smell</td>\n",
              "      <td>0.008919</td>\n",
              "    </tr>\n",
              "    <tr>\n",
              "      <th>267</th>\n",
              "      <td>manager</td>\n",
              "      <td>0.008737</td>\n",
              "    </tr>\n",
              "    <tr>\n",
              "      <th>181</th>\n",
              "      <td>loved</td>\n",
              "      <td>0.008686</td>\n",
              "    </tr>\n",
              "    <tr>\n",
              "      <th>344</th>\n",
              "      <td>charged</td>\n",
              "      <td>0.008596</td>\n",
              "    </tr>\n",
              "    <tr>\n",
              "      <th>116</th>\n",
              "      <td>enjoyed</td>\n",
              "      <td>0.008537</td>\n",
              "    </tr>\n",
              "    <tr>\n",
              "      <th>34</th>\n",
              "      <td>like</td>\n",
              "      <td>0.008528</td>\n",
              "    </tr>\n",
              "    <tr>\n",
              "      <th>198</th>\n",
              "      <td>nothing</td>\n",
              "      <td>0.008417</td>\n",
              "    </tr>\n",
              "    <tr>\n",
              "      <th>41</th>\n",
              "      <td>comfortable</td>\n",
              "      <td>0.008156</td>\n",
              "    </tr>\n",
              "    <tr>\n",
              "      <th>19</th>\n",
              "      <td>quot</td>\n",
              "      <td>0.008125</td>\n",
              "    </tr>\n",
              "    <tr>\n",
              "      <th>365</th>\n",
              "      <td>someone</td>\n",
              "      <td>0.007898</td>\n",
              "    </tr>\n",
              "    <tr>\n",
              "      <th>57</th>\n",
              "      <td>bathroom</td>\n",
              "      <td>0.007756</td>\n",
              "    </tr>\n",
              "    <tr>\n",
              "      <th>253</th>\n",
              "      <td>highly</td>\n",
              "      <td>0.007522</td>\n",
              "    </tr>\n",
              "    <tr>\n",
              "      <th>132</th>\n",
              "      <td>another</td>\n",
              "      <td>0.007431</td>\n",
              "    </tr>\n",
              "    <tr>\n",
              "      <th>437</th>\n",
              "      <td>loud</td>\n",
              "      <td>0.007384</td>\n",
              "    </tr>\n",
              "    <tr>\n",
              "      <th>417</th>\n",
              "      <td>toilet</td>\n",
              "      <td>0.007049</td>\n",
              "    </tr>\n",
              "    <tr>\n",
              "      <th>8</th>\n",
              "      <td>clean</td>\n",
              "      <td>0.006999</td>\n",
              "    </tr>\n",
              "    <tr>\n",
              "      <th>318</th>\n",
              "      <td>dated</td>\n",
              "      <td>0.006898</td>\n",
              "    </tr>\n",
              "    <tr>\n",
              "      <th>493</th>\n",
              "      <td>cleaned</td>\n",
              "      <td>0.006887</td>\n",
              "    </tr>\n",
              "    <tr>\n",
              "      <th>178</th>\n",
              "      <td>fantastic</td>\n",
              "      <td>0.006783</td>\n",
              "    </tr>\n",
              "    <tr>\n",
              "      <th>35</th>\n",
              "      <td>desk</td>\n",
              "      <td>0.006674</td>\n",
              "    </tr>\n",
              "    <tr>\n",
              "      <th>208</th>\n",
              "      <td>looked</td>\n",
              "      <td>0.006528</td>\n",
              "    </tr>\n",
              "    <tr>\n",
              "      <th>302</th>\n",
              "      <td>air</td>\n",
              "      <td>0.006527</td>\n",
              "    </tr>\n",
              "    <tr>\n",
              "      <th>109</th>\n",
              "      <td>beautiful</td>\n",
              "      <td>0.006346</td>\n",
              "    </tr>\n",
              "    <tr>\n",
              "      <th>309</th>\n",
              "      <td>call</td>\n",
              "      <td>0.006315</td>\n",
              "    </tr>\n",
              "    <tr>\n",
              "      <th>14</th>\n",
              "      <td>niagara</td>\n",
              "      <td>0.006244</td>\n",
              "    </tr>\n",
              "    <tr>\n",
              "      <th>42</th>\n",
              "      <td>even</td>\n",
              "      <td>0.006211</td>\n",
              "    </tr>\n",
              "    <tr>\n",
              "      <th>248</th>\n",
              "      <td>sleep</td>\n",
              "      <td>0.006127</td>\n",
              "    </tr>\n",
              "    <tr>\n",
              "      <th>83</th>\n",
              "      <td>definitely</td>\n",
              "      <td>0.006122</td>\n",
              "    </tr>\n",
              "    <tr>\n",
              "      <th>403</th>\n",
              "      <td>phone</td>\n",
              "      <td>0.006039</td>\n",
              "    </tr>\n",
              "    <tr>\n",
              "      <th>193</th>\n",
              "      <td>left</td>\n",
              "      <td>0.006021</td>\n",
              "    </tr>\n",
              "  </tbody>\n",
              "</table>\n",
              "</div>"
            ],
            "text/plain": [
              "            Word  MI Score\n",
              "2          falls  0.028173\n",
              "291        dirty  0.027975\n",
              "95          told  0.021217\n",
              "4          great  0.020800\n",
              "3           view  0.016999\n",
              "118         said  0.013796\n",
              "73       amazing  0.012139\n",
              "48       helpful  0.011541\n",
              "76     excellent  0.011353\n",
              "99         never  0.011276\n",
              "120    wonderful  0.011160\n",
              "130        asked  0.010989\n",
              "140      perfect  0.010829\n",
              "222         work  0.010557\n",
              "197          bad  0.010536\n",
              "101          old  0.010424\n",
              "29      friendly  0.009947\n",
              "149         paid  0.009319\n",
              "484         poor  0.009286\n",
              "183       called  0.009238\n",
              "449        smell  0.008919\n",
              "267      manager  0.008737\n",
              "181        loved  0.008686\n",
              "344      charged  0.008596\n",
              "116      enjoyed  0.008537\n",
              "34          like  0.008528\n",
              "198      nothing  0.008417\n",
              "41   comfortable  0.008156\n",
              "19          quot  0.008125\n",
              "365      someone  0.007898\n",
              "57      bathroom  0.007756\n",
              "253       highly  0.007522\n",
              "132      another  0.007431\n",
              "437         loud  0.007384\n",
              "417       toilet  0.007049\n",
              "8          clean  0.006999\n",
              "318        dated  0.006898\n",
              "493      cleaned  0.006887\n",
              "178    fantastic  0.006783\n",
              "35          desk  0.006674\n",
              "208       looked  0.006528\n",
              "302          air  0.006527\n",
              "109    beautiful  0.006346\n",
              "309         call  0.006315\n",
              "14       niagara  0.006244\n",
              "42          even  0.006211\n",
              "248        sleep  0.006127\n",
              "83    definitely  0.006122\n",
              "403        phone  0.006039\n",
              "193         left  0.006021"
            ]
          },
          "metadata": {
            "tags": []
          },
          "execution_count": 61
        }
      ]
    },
    {
      "cell_type": "code",
      "metadata": {
        "id": "iEe-hEDrL7gT",
        "colab_type": "code",
        "colab": {
          "base_uri": "https://localhost:8080/",
          "height": 793
        },
        "outputId": "d52e5d3b-bf79-4475-e7c1-19bd25bd3990"
      },
      "source": [
        "miScoredf.tail(25)"
      ],
      "execution_count": 62,
      "outputs": [
        {
          "output_type": "execute_result",
          "data": {
            "text/html": [
              "<div>\n",
              "<style scoped>\n",
              "    .dataframe tbody tr th:only-of-type {\n",
              "        vertical-align: middle;\n",
              "    }\n",
              "\n",
              "    .dataframe tbody tr th {\n",
              "        vertical-align: top;\n",
              "    }\n",
              "\n",
              "    .dataframe thead th {\n",
              "        text-align: right;\n",
              "    }\n",
              "</style>\n",
              "<table border=\"1\" class=\"dataframe\">\n",
              "  <thead>\n",
              "    <tr style=\"text-align: right;\">\n",
              "      <th></th>\n",
              "      <th>Word</th>\n",
              "      <th>MI Score</th>\n",
              "    </tr>\n",
              "  </thead>\n",
              "  <tbody>\n",
              "    <tr>\n",
              "      <th>428</th>\n",
              "      <td>mini</td>\n",
              "      <td>1.069682e-05</td>\n",
              "    </tr>\n",
              "    <tr>\n",
              "      <th>391</th>\n",
              "      <td>including</td>\n",
              "      <td>9.811655e-06</td>\n",
              "    </tr>\n",
              "    <tr>\n",
              "      <th>326</th>\n",
              "      <td>higher</td>\n",
              "      <td>9.619288e-06</td>\n",
              "    </tr>\n",
              "    <tr>\n",
              "      <th>443</th>\n",
              "      <td>road</td>\n",
              "      <td>9.299725e-06</td>\n",
              "    </tr>\n",
              "    <tr>\n",
              "      <th>92</th>\n",
              "      <td>nights</td>\n",
              "      <td>7.297544e-06</td>\n",
              "    </tr>\n",
              "    <tr>\n",
              "      <th>259</th>\n",
              "      <td>busy</td>\n",
              "      <td>6.422289e-06</td>\n",
              "    </tr>\n",
              "    <tr>\n",
              "      <th>66</th>\n",
              "      <td>beds</td>\n",
              "      <td>6.343179e-06</td>\n",
              "    </tr>\n",
              "    <tr>\n",
              "      <th>490</th>\n",
              "      <td>older</td>\n",
              "      <td>5.509820e-06</td>\n",
              "    </tr>\n",
              "    <tr>\n",
              "      <th>402</th>\n",
              "      <td>bath</td>\n",
              "      <td>4.872952e-06</td>\n",
              "    </tr>\n",
              "    <tr>\n",
              "      <th>86</th>\n",
              "      <td>bit</td>\n",
              "      <td>4.644997e-06</td>\n",
              "    </tr>\n",
              "    <tr>\n",
              "      <th>325</th>\n",
              "      <td>special</td>\n",
              "      <td>3.713150e-06</td>\n",
              "    </tr>\n",
              "    <tr>\n",
              "      <th>139</th>\n",
              "      <td>expensive</td>\n",
              "      <td>3.583647e-06</td>\n",
              "    </tr>\n",
              "    <tr>\n",
              "      <th>488</th>\n",
              "      <td>self</td>\n",
              "      <td>3.350356e-06</td>\n",
              "    </tr>\n",
              "    <tr>\n",
              "      <th>100</th>\n",
              "      <td>car</td>\n",
              "      <td>3.265869e-06</td>\n",
              "    </tr>\n",
              "    <tr>\n",
              "      <th>123</th>\n",
              "      <td>side</td>\n",
              "      <td>3.082539e-06</td>\n",
              "    </tr>\n",
              "    <tr>\n",
              "      <th>359</th>\n",
              "      <td>must</td>\n",
              "      <td>2.483683e-06</td>\n",
              "    </tr>\n",
              "    <tr>\n",
              "      <th>466</th>\n",
              "      <td>complimentary</td>\n",
              "      <td>2.212475e-06</td>\n",
              "    </tr>\n",
              "    <tr>\n",
              "      <th>384</th>\n",
              "      <td>voucher</td>\n",
              "      <td>1.821005e-06</td>\n",
              "    </tr>\n",
              "    <tr>\n",
              "      <th>207</th>\n",
              "      <td>high</td>\n",
              "      <td>1.110906e-06</td>\n",
              "    </tr>\n",
              "    <tr>\n",
              "      <th>272</th>\n",
              "      <td>near</td>\n",
              "      <td>9.019961e-07</td>\n",
              "    </tr>\n",
              "    <tr>\n",
              "      <th>245</th>\n",
              "      <td>balcony</td>\n",
              "      <td>6.956942e-07</td>\n",
              "    </tr>\n",
              "    <tr>\n",
              "      <th>356</th>\n",
              "      <td>amenities</td>\n",
              "      <td>5.157499e-07</td>\n",
              "    </tr>\n",
              "    <tr>\n",
              "      <th>322</th>\n",
              "      <td>table</td>\n",
              "      <td>3.912162e-07</td>\n",
              "    </tr>\n",
              "    <tr>\n",
              "      <th>24</th>\n",
              "      <td>service</td>\n",
              "      <td>2.112540e-07</td>\n",
              "    </tr>\n",
              "    <tr>\n",
              "      <th>495</th>\n",
              "      <td>week</td>\n",
              "      <td>5.501562e-09</td>\n",
              "    </tr>\n",
              "  </tbody>\n",
              "</table>\n",
              "</div>"
            ],
            "text/plain": [
              "              Word      MI Score\n",
              "428           mini  1.069682e-05\n",
              "391      including  9.811655e-06\n",
              "326         higher  9.619288e-06\n",
              "443           road  9.299725e-06\n",
              "92          nights  7.297544e-06\n",
              "259           busy  6.422289e-06\n",
              "66            beds  6.343179e-06\n",
              "490          older  5.509820e-06\n",
              "402           bath  4.872952e-06\n",
              "86             bit  4.644997e-06\n",
              "325        special  3.713150e-06\n",
              "139      expensive  3.583647e-06\n",
              "488           self  3.350356e-06\n",
              "100            car  3.265869e-06\n",
              "123           side  3.082539e-06\n",
              "359           must  2.483683e-06\n",
              "466  complimentary  2.212475e-06\n",
              "384        voucher  1.821005e-06\n",
              "207           high  1.110906e-06\n",
              "272           near  9.019961e-07\n",
              "245        balcony  6.956942e-07\n",
              "356      amenities  5.157499e-07\n",
              "322          table  3.912162e-07\n",
              "24         service  2.112540e-07\n",
              "495           week  5.501562e-09"
            ]
          },
          "metadata": {
            "tags": []
          },
          "execution_count": 62
        }
      ]
    },
    {
      "cell_type": "markdown",
      "metadata": {
        "id": "o19eYpsuL5xF",
        "colab_type": "text"
      },
      "source": [
        "If we see the top MI words we see the words are great, dirty,old,clean. This makes sense becuase great more in appears more in positive reviews and old appears in negative reviews. we can also infer them from the top 50 positive and negative words we got earlier. If we see the word breakfast which appeared top in both lists actually has very less MI score. Overall MI is sensitive to frequency and it is giving us words which differentiate between classes\n",
        "\n",
        "We can also see some locale specific words like detroit, windsor and river appers in the list"
      ]
    },
    {
      "cell_type": "code",
      "metadata": {
        "id": "ZdrntAr1L0Jh",
        "colab_type": "code",
        "colab": {}
      },
      "source": [
        "miScoredf_phrase = getMI(topk_phrase, finaldf_phrase)"
      ],
      "execution_count": 63,
      "outputs": []
    },
    {
      "cell_type": "code",
      "metadata": {
        "id": "XUfbdv1aMTHK",
        "colab_type": "code",
        "colab": {
          "base_uri": "https://localhost:8080/",
          "height": 1000
        },
        "outputId": "2ef53b61-8f5b-4a75-d9db-ec51163ec6ec"
      },
      "source": [
        "miScoredf_phrase.head(50)"
      ],
      "execution_count": 64,
      "outputs": [
        {
          "output_type": "execute_result",
          "data": {
            "text/html": [
              "<div>\n",
              "<style scoped>\n",
              "    .dataframe tbody tr th:only-of-type {\n",
              "        vertical-align: middle;\n",
              "    }\n",
              "\n",
              "    .dataframe tbody tr th {\n",
              "        vertical-align: top;\n",
              "    }\n",
              "\n",
              "    .dataframe thead th {\n",
              "        text-align: right;\n",
              "    }\n",
              "</style>\n",
              "<table border=\"1\" class=\"dataframe\">\n",
              "  <thead>\n",
              "    <tr style=\"text-align: right;\">\n",
              "      <th></th>\n",
              "      <th>Word</th>\n",
              "      <th>MI Score</th>\n",
              "    </tr>\n",
              "  </thead>\n",
              "  <tbody>\n",
              "    <tr>\n",
              "      <th>1</th>\n",
              "      <td>front desk</td>\n",
              "      <td>0.006483</td>\n",
              "    </tr>\n",
              "    <tr>\n",
              "      <th>50</th>\n",
              "      <td>credit card</td>\n",
              "      <td>0.002693</td>\n",
              "    </tr>\n",
              "    <tr>\n",
              "      <th>14</th>\n",
              "      <td>amazing view</td>\n",
              "      <td>0.002244</td>\n",
              "    </tr>\n",
              "    <tr>\n",
              "      <th>47</th>\n",
              "      <td>great stay</td>\n",
              "      <td>0.002207</td>\n",
              "    </tr>\n",
              "    <tr>\n",
              "      <th>0</th>\n",
              "      <td>niagara fall</td>\n",
              "      <td>0.002182</td>\n",
              "    </tr>\n",
              "    <tr>\n",
              "      <th>30</th>\n",
              "      <td>next day</td>\n",
              "      <td>0.002071</td>\n",
              "    </tr>\n",
              "    <tr>\n",
              "      <th>12</th>\n",
              "      <td>horseshoe fall</td>\n",
              "      <td>0.002045</td>\n",
              "    </tr>\n",
              "    <tr>\n",
              "      <th>29</th>\n",
              "      <td>great time</td>\n",
              "      <td>0.002006</td>\n",
              "    </tr>\n",
              "    <tr>\n",
              "      <th>249</th>\n",
              "      <td>bed bug</td>\n",
              "      <td>0.001850</td>\n",
              "    </tr>\n",
              "    <tr>\n",
              "      <th>5</th>\n",
              "      <td>american fall</td>\n",
              "      <td>0.001755</td>\n",
              "    </tr>\n",
              "    <tr>\n",
              "      <th>67</th>\n",
              "      <td>good thing</td>\n",
              "      <td>0.001570</td>\n",
              "    </tr>\n",
              "    <tr>\n",
              "      <th>26</th>\n",
              "      <td>great place</td>\n",
              "      <td>0.001548</td>\n",
              "    </tr>\n",
              "    <tr>\n",
              "      <th>34</th>\n",
              "      <td>customer service</td>\n",
              "      <td>0.001537</td>\n",
              "    </tr>\n",
              "    <tr>\n",
              "      <th>258</th>\n",
              "      <td>bathroom door</td>\n",
              "      <td>0.001437</td>\n",
              "    </tr>\n",
              "    <tr>\n",
              "      <th>166</th>\n",
              "      <td>first room</td>\n",
              "      <td>0.001402</td>\n",
              "    </tr>\n",
              "    <tr>\n",
              "      <th>339</th>\n",
              "      <td>previous guest</td>\n",
              "      <td>0.001396</td>\n",
              "    </tr>\n",
              "    <tr>\n",
              "      <th>19</th>\n",
              "      <td>parking lot</td>\n",
              "      <td>0.001364</td>\n",
              "    </tr>\n",
              "    <tr>\n",
              "      <th>51</th>\n",
              "      <td>star hotel</td>\n",
              "      <td>0.001322</td>\n",
              "    </tr>\n",
              "    <tr>\n",
              "      <th>321</th>\n",
              "      <td>next room</td>\n",
              "      <td>0.001257</td>\n",
              "    </tr>\n",
              "    <tr>\n",
              "      <th>46</th>\n",
              "      <td>next morning</td>\n",
              "      <td>0.001238</td>\n",
              "    </tr>\n",
              "    <tr>\n",
              "      <th>230</th>\n",
              "      <td>wonderful stay</td>\n",
              "      <td>0.001226</td>\n",
              "    </tr>\n",
              "    <tr>\n",
              "      <th>115</th>\n",
              "      <td>perfect location</td>\n",
              "      <td>0.001219</td>\n",
              "    </tr>\n",
              "    <tr>\n",
              "      <th>496</th>\n",
              "      <td>bed sheet</td>\n",
              "      <td>0.001212</td>\n",
              "    </tr>\n",
              "    <tr>\n",
              "      <th>153</th>\n",
              "      <td>air conditioner</td>\n",
              "      <td>0.001185</td>\n",
              "    </tr>\n",
              "    <tr>\n",
              "      <th>432</th>\n",
              "      <td>non smoking room</td>\n",
              "      <td>0.001102</td>\n",
              "    </tr>\n",
              "    <tr>\n",
              "      <th>89</th>\n",
              "      <td>excellent view</td>\n",
              "      <td>0.001092</td>\n",
              "    </tr>\n",
              "    <tr>\n",
              "      <th>386</th>\n",
              "      <td>bad experience</td>\n",
              "      <td>0.001058</td>\n",
              "    </tr>\n",
              "    <tr>\n",
              "      <th>10</th>\n",
              "      <td>breakfast buffet</td>\n",
              "      <td>0.001054</td>\n",
              "    </tr>\n",
              "    <tr>\n",
              "      <th>160</th>\n",
              "      <td>new room</td>\n",
              "      <td>0.001048</td>\n",
              "    </tr>\n",
              "    <tr>\n",
              "      <th>24</th>\n",
              "      <td>canadian side</td>\n",
              "      <td>0.001037</td>\n",
              "    </tr>\n",
              "    <tr>\n",
              "      <th>33</th>\n",
              "      <td>spectacular view</td>\n",
              "      <td>0.001037</td>\n",
              "    </tr>\n",
              "    <tr>\n",
              "      <th>40</th>\n",
              "      <td>great hotel</td>\n",
              "      <td>0.001031</td>\n",
              "    </tr>\n",
              "    <tr>\n",
              "      <th>37</th>\n",
              "      <td>marriott fallsview</td>\n",
              "      <td>0.001015</td>\n",
              "    </tr>\n",
              "    <tr>\n",
              "      <th>100</th>\n",
              "      <td>hot water</td>\n",
              "      <td>0.001006</td>\n",
              "    </tr>\n",
              "    <tr>\n",
              "      <th>55</th>\n",
              "      <td>fantastic view</td>\n",
              "      <td>0.001002</td>\n",
              "    </tr>\n",
              "    <tr>\n",
              "      <th>3</th>\n",
              "      <td>great view</td>\n",
              "      <td>0.001000</td>\n",
              "    </tr>\n",
              "    <tr>\n",
              "      <th>39</th>\n",
              "      <td>rainbow bridge</td>\n",
              "      <td>0.000984</td>\n",
              "    </tr>\n",
              "    <tr>\n",
              "      <th>364</th>\n",
              "      <td>toilet paper</td>\n",
              "      <td>0.000946</td>\n",
              "    </tr>\n",
              "    <tr>\n",
              "      <th>463</th>\n",
              "      <td>bathroom floor</td>\n",
              "      <td>0.000922</td>\n",
              "    </tr>\n",
              "    <tr>\n",
              "      <th>474</th>\n",
              "      <td>musty smell</td>\n",
              "      <td>0.000882</td>\n",
              "    </tr>\n",
              "    <tr>\n",
              "      <th>355</th>\n",
              "      <td>second stay</td>\n",
              "      <td>0.000850</td>\n",
              "    </tr>\n",
              "    <tr>\n",
              "      <th>381</th>\n",
              "      <td>second room</td>\n",
              "      <td>0.000843</td>\n",
              "    </tr>\n",
              "    <tr>\n",
              "      <th>185</th>\n",
              "      <td>wonderful time</td>\n",
              "      <td>0.000841</td>\n",
              "    </tr>\n",
              "    <tr>\n",
              "      <th>4</th>\n",
              "      <td>fallsview room</td>\n",
              "      <td>0.000829</td>\n",
              "    </tr>\n",
              "    <tr>\n",
              "      <th>454</th>\n",
              "      <td>facility fee</td>\n",
              "      <td>0.000816</td>\n",
              "    </tr>\n",
              "    <tr>\n",
              "      <th>379</th>\n",
              "      <td>full price</td>\n",
              "      <td>0.000794</td>\n",
              "    </tr>\n",
              "    <tr>\n",
              "      <th>161</th>\n",
              "      <td>rex motel</td>\n",
              "      <td>0.000771</td>\n",
              "    </tr>\n",
              "    <tr>\n",
              "      <th>388</th>\n",
              "      <td>excellent value</td>\n",
              "      <td>0.000771</td>\n",
              "    </tr>\n",
              "    <tr>\n",
              "      <th>164</th>\n",
              "      <td>top notch</td>\n",
              "      <td>0.000767</td>\n",
              "    </tr>\n",
              "    <tr>\n",
              "      <th>263</th>\n",
              "      <td>different room</td>\n",
              "      <td>0.000765</td>\n",
              "    </tr>\n",
              "  </tbody>\n",
              "</table>\n",
              "</div>"
            ],
            "text/plain": [
              "                   Word  MI Score\n",
              "1            front desk  0.006483\n",
              "50          credit card  0.002693\n",
              "14         amazing view  0.002244\n",
              "47           great stay  0.002207\n",
              "0          niagara fall  0.002182\n",
              "30             next day  0.002071\n",
              "12       horseshoe fall  0.002045\n",
              "29           great time  0.002006\n",
              "249             bed bug  0.001850\n",
              "5         american fall  0.001755\n",
              "67           good thing  0.001570\n",
              "26          great place  0.001548\n",
              "34     customer service  0.001537\n",
              "258       bathroom door  0.001437\n",
              "166          first room  0.001402\n",
              "339      previous guest  0.001396\n",
              "19          parking lot  0.001364\n",
              "51           star hotel  0.001322\n",
              "321           next room  0.001257\n",
              "46         next morning  0.001238\n",
              "230      wonderful stay  0.001226\n",
              "115    perfect location  0.001219\n",
              "496           bed sheet  0.001212\n",
              "153     air conditioner  0.001185\n",
              "432    non smoking room  0.001102\n",
              "89       excellent view  0.001092\n",
              "386      bad experience  0.001058\n",
              "10     breakfast buffet  0.001054\n",
              "160            new room  0.001048\n",
              "24        canadian side  0.001037\n",
              "33     spectacular view  0.001037\n",
              "40          great hotel  0.001031\n",
              "37   marriott fallsview  0.001015\n",
              "100           hot water  0.001006\n",
              "55       fantastic view  0.001002\n",
              "3            great view  0.001000\n",
              "39       rainbow bridge  0.000984\n",
              "364        toilet paper  0.000946\n",
              "463      bathroom floor  0.000922\n",
              "474         musty smell  0.000882\n",
              "355         second stay  0.000850\n",
              "381         second room  0.000843\n",
              "185      wonderful time  0.000841\n",
              "4        fallsview room  0.000829\n",
              "454        facility fee  0.000816\n",
              "379          full price  0.000794\n",
              "161           rex motel  0.000771\n",
              "388     excellent value  0.000771\n",
              "164           top notch  0.000767\n",
              "263      different room  0.000765"
            ]
          },
          "metadata": {
            "tags": []
          },
          "execution_count": 64
        }
      ]
    },
    {
      "cell_type": "markdown",
      "metadata": {
        "id": "xKRPlf1pMY38",
        "colab_type": "text"
      },
      "source": [
        "We can see that the MI values are very low for phrases in comparision to signle words becuase MI is sensitive to frequency. some top MI phrases are great view, bed sheet and eaiser acess. means people are complementing the view of the hotel in river front and the bedsheets and its accessibility. The word crecit catd has high mi meaning poeple are complaining about it. great view and detroit river are locale specific. from phrases we can understand which issues are more important."
      ]
    },
    {
      "cell_type": "markdown",
      "metadata": {
        "id": "hPSafyccMa-X",
        "colab_type": "text"
      },
      "source": [
        "# Q4 Pointwise Mutual Information\n",
        "\n",
        "(a) For ground truth sentiment, calculate the top-50 words according to PMI of the word occuring with (i) positive reviews and (ii) negative reviews. Do you note anything interesting and/or locale-specific about these top-ranked words?\n",
        "\n",
        "(b) Repeat this analysis for the top-50 noun phrases and note any interesting results.\n",
        "\n",
        "(c) Repeat this analysis for the single top and single bottom hotel (according to the ground truth rating). Do you gain any useful hotel-specific insights about what is good and bad about these two hotels? If not, explain why not."
      ]
    },
    {
      "cell_type": "code",
      "metadata": {
        "id": "Nwx9_wG4MU5y",
        "colab_type": "code",
        "colab": {}
      },
      "source": [
        "# Simple example of getting pairwise mutual information of a term\n",
        "def pmiCal(df, x):\n",
        "  pmilist=[]\n",
        "  for i in ['positive','negative']:\n",
        "    for j in [0,1]:\n",
        "      px = sum(df['groundTruth']==i)/len(df)\n",
        "    # if px == 0:\n",
        "    #   px = 0.0001\n",
        "      py = sum(df[x]==j)/len(df)\n",
        "    # if py == 0:\n",
        "    #   py = 0.0001\n",
        "      k = px*py \n",
        "      if k == 0:#Log 0 cannot happen\n",
        "        k = 0.0001   \n",
        "      pxy = len(df[(df['groundTruth']==i) & (df[x]==j)])/len(df)\n",
        "      if pxy==0:#Log 0 cannot happen\n",
        "        pmi = math.log((pxy+0.0001)/(k))\n",
        "      else:\n",
        "        pmi = math.log(pxy/(k))\n",
        "      pmilist.append([i]+[j]+[px]+[py]+[pxy]+[pmi])\n",
        "  pmidf = pd.DataFrame(pmilist)\n",
        "  pmidf.columns = ['x','y','px','py','pxy','pmi']\n",
        "  return pmidf"
      ],
      "execution_count": 65,
      "outputs": []
    },
    {
      "cell_type": "code",
      "metadata": {
        "id": "swoXsiVvM38n",
        "colab_type": "code",
        "colab": {
          "base_uri": "https://localhost:8080/",
          "height": 166
        },
        "outputId": "0bd8f781-1770-41b2-d77e-ecc8794f3699"
      },
      "source": [
        "pmiCal(finaldf,'told')"
      ],
      "execution_count": 66,
      "outputs": [
        {
          "output_type": "execute_result",
          "data": {
            "text/html": [
              "<div>\n",
              "<style scoped>\n",
              "    .dataframe tbody tr th:only-of-type {\n",
              "        vertical-align: middle;\n",
              "    }\n",
              "\n",
              "    .dataframe tbody tr th {\n",
              "        vertical-align: top;\n",
              "    }\n",
              "\n",
              "    .dataframe thead th {\n",
              "        text-align: right;\n",
              "    }\n",
              "</style>\n",
              "<table border=\"1\" class=\"dataframe\">\n",
              "  <thead>\n",
              "    <tr style=\"text-align: right;\">\n",
              "      <th></th>\n",
              "      <th>x</th>\n",
              "      <th>y</th>\n",
              "      <th>px</th>\n",
              "      <th>py</th>\n",
              "      <th>pxy</th>\n",
              "      <th>pmi</th>\n",
              "    </tr>\n",
              "  </thead>\n",
              "  <tbody>\n",
              "    <tr>\n",
              "      <th>0</th>\n",
              "      <td>positive</td>\n",
              "      <td>0</td>\n",
              "      <td>0.699134</td>\n",
              "      <td>0.923942</td>\n",
              "      <td>0.672329</td>\n",
              "      <td>0.040011</td>\n",
              "    </tr>\n",
              "    <tr>\n",
              "      <th>1</th>\n",
              "      <td>positive</td>\n",
              "      <td>1</td>\n",
              "      <td>0.699134</td>\n",
              "      <td>0.076058</td>\n",
              "      <td>0.026805</td>\n",
              "      <td>-0.684993</td>\n",
              "    </tr>\n",
              "    <tr>\n",
              "      <th>2</th>\n",
              "      <td>negative</td>\n",
              "      <td>0</td>\n",
              "      <td>0.300866</td>\n",
              "      <td>0.923942</td>\n",
              "      <td>0.251613</td>\n",
              "      <td>-0.099666</td>\n",
              "    </tr>\n",
              "    <tr>\n",
              "      <th>3</th>\n",
              "      <td>negative</td>\n",
              "      <td>1</td>\n",
              "      <td>0.300866</td>\n",
              "      <td>0.076058</td>\n",
              "      <td>0.049253</td>\n",
              "      <td>0.766563</td>\n",
              "    </tr>\n",
              "  </tbody>\n",
              "</table>\n",
              "</div>"
            ],
            "text/plain": [
              "          x  y        px        py       pxy       pmi\n",
              "0  positive  0  0.699134  0.923942  0.672329  0.040011\n",
              "1  positive  1  0.699134  0.076058  0.026805 -0.684993\n",
              "2  negative  0  0.300866  0.923942  0.251613 -0.099666\n",
              "3  negative  1  0.300866  0.076058  0.049253  0.766563"
            ]
          },
          "metadata": {
            "tags": []
          },
          "execution_count": 66
        }
      ]
    },
    {
      "cell_type": "code",
      "metadata": {
        "id": "tujLpQkJPF_K",
        "colab_type": "code",
        "colab": {}
      },
      "source": [
        "#pmiCal(finaldf,'told')['pmi'].sum()"
      ],
      "execution_count": 67,
      "outputs": []
    },
    {
      "cell_type": "code",
      "metadata": {
        "id": "IKp94hyLPGPp",
        "colab_type": "code",
        "colab": {}
      },
      "source": [
        "#pmiCal(finaldf,'hampton')"
      ],
      "execution_count": 68,
      "outputs": []
    },
    {
      "cell_type": "code",
      "metadata": {
        "id": "t0leGSEEM4Fc",
        "colab_type": "code",
        "colab": {}
      },
      "source": [
        "def pmiIndivCal(df,x,gt, label_column='groundTruth'):\n",
        "  px = sum(df[label_column]==gt)/len(df)\n",
        "  #     if px == 0:\n",
        "  #         px = 0.0001\n",
        "  py = sum(df[x]==1)/len(df)\n",
        "  #     if py == 0:\n",
        "  #         py = 0.0001\n",
        "  k = px*py \n",
        "  if k == 0:#Log 0 cannot happen\n",
        "      k = 0.0001   \n",
        "  pxy = len(df[(df[label_column]==gt) & (df[x]==1)])/len(df)\n",
        "  if pxy==0:#Log 0 cannot happen\n",
        "      pmi = math.log((pxy+0.0001)/(k))\n",
        "  else:\n",
        "      pmi = math.log(pxy/(k))\n",
        "  return pmi"
      ],
      "execution_count": 69,
      "outputs": []
    },
    {
      "cell_type": "code",
      "metadata": {
        "id": "sz9VnWe_OBD1",
        "colab_type": "code",
        "colab": {}
      },
      "source": [
        "# Compute PMI for all terms and all possible labels\n",
        "def pmiForAllCal(df, label_column='groundTruth', topk=topk):\n",
        "  #Try calculate all the pmi for top k and store them into one pmidf dataframe\n",
        "  pmilist = []\n",
        "  pmiposlist = []\n",
        "  pmineglist = []\n",
        "  for word in tqdm(topk):\n",
        "      pmilist.append([word[0]]+[pmiCal(df,word[0])])\n",
        "      pmiposlist.append([word[0]]+[pmiIndivCal(df,word[0],'positive',label_column)])\n",
        "      pmineglist.append([word[0]]+[pmiIndivCal(df,word[0],'negative',label_column)])\n",
        "  pmidf = pd.DataFrame(pmilist)\n",
        "  pmiposlist = pd.DataFrame(pmiposlist)\n",
        "  pmineglist = pd.DataFrame(pmineglist)\n",
        "  pmiposlist.columns = ['word','pmi']\n",
        "  pmineglist.columns = ['word','pmi']\n",
        "  pmidf.columns = ['word','pmi']\n",
        "  return pmiposlist, pmineglist, pmidf"
      ],
      "execution_count": 70,
      "outputs": []
    },
    {
      "cell_type": "code",
      "metadata": {
        "id": "2LNHFm3TOBJp",
        "colab_type": "code",
        "colab": {
          "base_uri": "https://localhost:8080/",
          "height": 33
        },
        "outputId": "dd615b85-3df9-45b8-8266-8a1b743a2996"
      },
      "source": [
        "pmiposlist, pmineglist, pmidf = pmiForAllCal(finaldf)"
      ],
      "execution_count": 71,
      "outputs": [
        {
          "output_type": "stream",
          "text": [
            "100%|██████████| 500/500 [00:40<00:00, 12.39it/s]\n"
          ],
          "name": "stderr"
        }
      ]
    },
    {
      "cell_type": "code",
      "metadata": {
        "id": "oH3wHsleOBHj",
        "colab_type": "code",
        "colab": {
          "base_uri": "https://localhost:8080/",
          "height": 1000
        },
        "outputId": "4fa2ba34-0841-4c91-f5ae-83b9d00c7053"
      },
      "source": [
        "#Sorted top pmi words for positive reviews\n",
        "pmiposlist.sort_values('pmi',ascending=0).head(50)"
      ],
      "execution_count": 72,
      "outputs": [
        {
          "output_type": "execute_result",
          "data": {
            "text/html": [
              "<div>\n",
              "<style scoped>\n",
              "    .dataframe tbody tr th:only-of-type {\n",
              "        vertical-align: middle;\n",
              "    }\n",
              "\n",
              "    .dataframe tbody tr th {\n",
              "        vertical-align: top;\n",
              "    }\n",
              "\n",
              "    .dataframe thead th {\n",
              "        text-align: right;\n",
              "    }\n",
              "</style>\n",
              "<table border=\"1\" class=\"dataframe\">\n",
              "  <thead>\n",
              "    <tr style=\"text-align: right;\">\n",
              "      <th></th>\n",
              "      <th>word</th>\n",
              "      <th>pmi</th>\n",
              "    </tr>\n",
              "  </thead>\n",
              "  <tbody>\n",
              "    <tr>\n",
              "      <th>418</th>\n",
              "      <td>delicious</td>\n",
              "      <td>0.299838</td>\n",
              "    </tr>\n",
              "    <tr>\n",
              "      <th>253</th>\n",
              "      <td>highly</td>\n",
              "      <td>0.274873</td>\n",
              "    </tr>\n",
              "    <tr>\n",
              "      <th>140</th>\n",
              "      <td>perfect</td>\n",
              "      <td>0.268722</td>\n",
              "    </tr>\n",
              "    <tr>\n",
              "      <th>181</th>\n",
              "      <td>loved</td>\n",
              "      <td>0.267418</td>\n",
              "    </tr>\n",
              "    <tr>\n",
              "      <th>120</th>\n",
              "      <td>wonderful</td>\n",
              "      <td>0.261582</td>\n",
              "    </tr>\n",
              "    <tr>\n",
              "      <th>275</th>\n",
              "      <td>awesome</td>\n",
              "      <td>0.242630</td>\n",
              "    </tr>\n",
              "    <tr>\n",
              "      <th>178</th>\n",
              "      <td>fantastic</td>\n",
              "      <td>0.241469</td>\n",
              "    </tr>\n",
              "    <tr>\n",
              "      <th>220</th>\n",
              "      <td>fireworks</td>\n",
              "      <td>0.234629</td>\n",
              "    </tr>\n",
              "    <tr>\n",
              "      <th>73</th>\n",
              "      <td>amazing</td>\n",
              "      <td>0.234235</td>\n",
              "    </tr>\n",
              "    <tr>\n",
              "      <th>76</th>\n",
              "      <td>excellent</td>\n",
              "      <td>0.233947</td>\n",
              "    </tr>\n",
              "    <tr>\n",
              "      <th>116</th>\n",
              "      <td>enjoyed</td>\n",
              "      <td>0.232225</td>\n",
              "    </tr>\n",
              "    <tr>\n",
              "      <th>375</th>\n",
              "      <td>love</td>\n",
              "      <td>0.223876</td>\n",
              "    </tr>\n",
              "    <tr>\n",
              "      <th>423</th>\n",
              "      <td>mist</td>\n",
              "      <td>0.221827</td>\n",
              "    </tr>\n",
              "    <tr>\n",
              "      <th>192</th>\n",
              "      <td>spacious</td>\n",
              "      <td>0.221359</td>\n",
              "    </tr>\n",
              "    <tr>\n",
              "      <th>247</th>\n",
              "      <td>horseshoe</td>\n",
              "      <td>0.212693</td>\n",
              "    </tr>\n",
              "    <tr>\n",
              "      <th>212</th>\n",
              "      <td>lovely</td>\n",
              "      <td>0.204464</td>\n",
              "    </tr>\n",
              "    <tr>\n",
              "      <th>109</th>\n",
              "      <td>beautiful</td>\n",
              "      <td>0.201876</td>\n",
              "    </tr>\n",
              "    <tr>\n",
              "      <th>233</th>\n",
              "      <td>spectacular</td>\n",
              "      <td>0.201812</td>\n",
              "    </tr>\n",
              "    <tr>\n",
              "      <th>363</th>\n",
              "      <td>overlooking</td>\n",
              "      <td>0.201039</td>\n",
              "    </tr>\n",
              "    <tr>\n",
              "      <th>462</th>\n",
              "      <td>rainbow</td>\n",
              "      <td>0.199237</td>\n",
              "    </tr>\n",
              "    <tr>\n",
              "      <th>48</th>\n",
              "      <td>helpful</td>\n",
              "      <td>0.196229</td>\n",
              "    </tr>\n",
              "    <tr>\n",
              "      <th>399</th>\n",
              "      <td>bridge</td>\n",
              "      <td>0.192833</td>\n",
              "    </tr>\n",
              "    <tr>\n",
              "      <th>371</th>\n",
              "      <td>comfy</td>\n",
              "      <td>0.190859</td>\n",
              "    </tr>\n",
              "    <tr>\n",
              "      <th>386</th>\n",
              "      <td>wego</td>\n",
              "      <td>0.188836</td>\n",
              "    </tr>\n",
              "    <tr>\n",
              "      <th>213</th>\n",
              "      <td>fireplace</td>\n",
              "      <td>0.183664</td>\n",
              "    </tr>\n",
              "    <tr>\n",
              "      <th>83</th>\n",
              "      <td>definitely</td>\n",
              "      <td>0.180147</td>\n",
              "    </tr>\n",
              "    <tr>\n",
              "      <th>163</th>\n",
              "      <td>easy</td>\n",
              "      <td>0.177743</td>\n",
              "    </tr>\n",
              "    <tr>\n",
              "      <th>171</th>\n",
              "      <td>american</td>\n",
              "      <td>0.172949</td>\n",
              "    </tr>\n",
              "    <tr>\n",
              "      <th>416</th>\n",
              "      <td>pricey</td>\n",
              "      <td>0.168915</td>\n",
              "    </tr>\n",
              "    <tr>\n",
              "      <th>412</th>\n",
              "      <td>thank</td>\n",
              "      <td>0.168754</td>\n",
              "    </tr>\n",
              "    <tr>\n",
              "      <th>453</th>\n",
              "      <td>accommodating</td>\n",
              "      <td>0.168063</td>\n",
              "    </tr>\n",
              "    <tr>\n",
              "      <th>383</th>\n",
              "      <td>fresh</td>\n",
              "      <td>0.162016</td>\n",
              "    </tr>\n",
              "    <tr>\n",
              "      <th>454</th>\n",
              "      <td>visiting</td>\n",
              "      <td>0.157479</td>\n",
              "    </tr>\n",
              "    <tr>\n",
              "      <th>41</th>\n",
              "      <td>comfortable</td>\n",
              "      <td>0.157042</td>\n",
              "    </tr>\n",
              "    <tr>\n",
              "      <th>168</th>\n",
              "      <td>canadian</td>\n",
              "      <td>0.156634</td>\n",
              "    </tr>\n",
              "    <tr>\n",
              "      <th>29</th>\n",
              "      <td>friendly</td>\n",
              "      <td>0.154618</td>\n",
              "    </tr>\n",
              "    <tr>\n",
              "      <th>4</th>\n",
              "      <td>great</td>\n",
              "      <td>0.153497</td>\n",
              "    </tr>\n",
              "    <tr>\n",
              "      <th>81</th>\n",
              "      <td>views</td>\n",
              "      <td>0.153144</td>\n",
              "    </tr>\n",
              "    <tr>\n",
              "      <th>107</th>\n",
              "      <td>attractions</td>\n",
              "      <td>0.152340</td>\n",
              "    </tr>\n",
              "    <tr>\n",
              "      <th>56</th>\n",
              "      <td>recommend</td>\n",
              "      <td>0.148205</td>\n",
              "    </tr>\n",
              "    <tr>\n",
              "      <th>185</th>\n",
              "      <td>within</td>\n",
              "      <td>0.146340</td>\n",
              "    </tr>\n",
              "    <tr>\n",
              "      <th>196</th>\n",
              "      <td>bus</td>\n",
              "      <td>0.145854</td>\n",
              "    </tr>\n",
              "    <tr>\n",
              "      <th>110</th>\n",
              "      <td>restaurants</td>\n",
              "      <td>0.143373</td>\n",
              "    </tr>\n",
              "    <tr>\n",
              "      <th>406</th>\n",
              "      <td>ate</td>\n",
              "      <td>0.142722</td>\n",
              "    </tr>\n",
              "    <tr>\n",
              "      <th>316</th>\n",
              "      <td>quick</td>\n",
              "      <td>0.142042</td>\n",
              "    </tr>\n",
              "    <tr>\n",
              "      <th>157</th>\n",
              "      <td>visit</td>\n",
              "      <td>0.140500</td>\n",
              "    </tr>\n",
              "    <tr>\n",
              "      <th>129</th>\n",
              "      <td>distance</td>\n",
              "      <td>0.139829</td>\n",
              "    </tr>\n",
              "    <tr>\n",
              "      <th>447</th>\n",
              "      <td>rock</td>\n",
              "      <td>0.139505</td>\n",
              "    </tr>\n",
              "    <tr>\n",
              "      <th>200</th>\n",
              "      <td>quiet</td>\n",
              "      <td>0.138623</td>\n",
              "    </tr>\n",
              "    <tr>\n",
              "      <th>301</th>\n",
              "      <td>everyone</td>\n",
              "      <td>0.137809</td>\n",
              "    </tr>\n",
              "  </tbody>\n",
              "</table>\n",
              "</div>"
            ],
            "text/plain": [
              "              word       pmi\n",
              "418      delicious  0.299838\n",
              "253         highly  0.274873\n",
              "140        perfect  0.268722\n",
              "181          loved  0.267418\n",
              "120      wonderful  0.261582\n",
              "275        awesome  0.242630\n",
              "178      fantastic  0.241469\n",
              "220      fireworks  0.234629\n",
              "73         amazing  0.234235\n",
              "76       excellent  0.233947\n",
              "116        enjoyed  0.232225\n",
              "375           love  0.223876\n",
              "423           mist  0.221827\n",
              "192       spacious  0.221359\n",
              "247      horseshoe  0.212693\n",
              "212         lovely  0.204464\n",
              "109      beautiful  0.201876\n",
              "233    spectacular  0.201812\n",
              "363    overlooking  0.201039\n",
              "462        rainbow  0.199237\n",
              "48         helpful  0.196229\n",
              "399         bridge  0.192833\n",
              "371          comfy  0.190859\n",
              "386           wego  0.188836\n",
              "213      fireplace  0.183664\n",
              "83      definitely  0.180147\n",
              "163           easy  0.177743\n",
              "171       american  0.172949\n",
              "416         pricey  0.168915\n",
              "412          thank  0.168754\n",
              "453  accommodating  0.168063\n",
              "383          fresh  0.162016\n",
              "454       visiting  0.157479\n",
              "41     comfortable  0.157042\n",
              "168       canadian  0.156634\n",
              "29        friendly  0.154618\n",
              "4            great  0.153497\n",
              "81           views  0.153144\n",
              "107    attractions  0.152340\n",
              "56       recommend  0.148205\n",
              "185         within  0.146340\n",
              "196            bus  0.145854\n",
              "110    restaurants  0.143373\n",
              "406            ate  0.142722\n",
              "316          quick  0.142042\n",
              "157          visit  0.140500\n",
              "129       distance  0.139829\n",
              "447           rock  0.139505\n",
              "200          quiet  0.138623\n",
              "301       everyone  0.137809"
            ]
          },
          "metadata": {
            "tags": []
          },
          "execution_count": 72
        }
      ]
    },
    {
      "cell_type": "code",
      "metadata": {
        "id": "cbRF1Es1OBBU",
        "colab_type": "code",
        "colab": {
          "base_uri": "https://localhost:8080/",
          "height": 1000
        },
        "outputId": "1d1430fe-7d8a-4203-9d4f-6c627a519bce"
      },
      "source": [
        "#Sorted top pmi words for negative reviews\n",
        "pmineglist.sort_values('pmi',ascending=0).head(50)"
      ],
      "execution_count": 73,
      "outputs": [
        {
          "output_type": "execute_result",
          "data": {
            "text/html": [
              "<div>\n",
              "<style scoped>\n",
              "    .dataframe tbody tr th:only-of-type {\n",
              "        vertical-align: middle;\n",
              "    }\n",
              "\n",
              "    .dataframe tbody tr th {\n",
              "        vertical-align: top;\n",
              "    }\n",
              "\n",
              "    .dataframe thead th {\n",
              "        text-align: right;\n",
              "    }\n",
              "</style>\n",
              "<table border=\"1\" class=\"dataframe\">\n",
              "  <thead>\n",
              "    <tr style=\"text-align: right;\">\n",
              "      <th></th>\n",
              "      <th>word</th>\n",
              "      <th>pmi</th>\n",
              "    </tr>\n",
              "  </thead>\n",
              "  <tbody>\n",
              "    <tr>\n",
              "      <th>291</th>\n",
              "      <td>dirty</td>\n",
              "      <td>1.070540</td>\n",
              "    </tr>\n",
              "    <tr>\n",
              "      <th>484</th>\n",
              "      <td>poor</td>\n",
              "      <td>0.894486</td>\n",
              "    </tr>\n",
              "    <tr>\n",
              "      <th>449</th>\n",
              "      <td>smell</td>\n",
              "      <td>0.882027</td>\n",
              "    </tr>\n",
              "    <tr>\n",
              "      <th>493</th>\n",
              "      <td>cleaned</td>\n",
              "      <td>0.815428</td>\n",
              "    </tr>\n",
              "    <tr>\n",
              "      <th>437</th>\n",
              "      <td>loud</td>\n",
              "      <td>0.796719</td>\n",
              "    </tr>\n",
              "    <tr>\n",
              "      <th>417</th>\n",
              "      <td>toilet</td>\n",
              "      <td>0.793360</td>\n",
              "    </tr>\n",
              "    <tr>\n",
              "      <th>344</th>\n",
              "      <td>charged</td>\n",
              "      <td>0.767942</td>\n",
              "    </tr>\n",
              "    <tr>\n",
              "      <th>95</th>\n",
              "      <td>told</td>\n",
              "      <td>0.766563</td>\n",
              "    </tr>\n",
              "    <tr>\n",
              "      <th>365</th>\n",
              "      <td>someone</td>\n",
              "      <td>0.758263</td>\n",
              "    </tr>\n",
              "    <tr>\n",
              "      <th>403</th>\n",
              "      <td>phone</td>\n",
              "      <td>0.737960</td>\n",
              "    </tr>\n",
              "    <tr>\n",
              "      <th>267</th>\n",
              "      <td>manager</td>\n",
              "      <td>0.731677</td>\n",
              "    </tr>\n",
              "    <tr>\n",
              "      <th>441</th>\n",
              "      <td>tried</td>\n",
              "      <td>0.719988</td>\n",
              "    </tr>\n",
              "    <tr>\n",
              "      <th>390</th>\n",
              "      <td>average</td>\n",
              "      <td>0.707556</td>\n",
              "    </tr>\n",
              "    <tr>\n",
              "      <th>222</th>\n",
              "      <td>work</td>\n",
              "      <td>0.700096</td>\n",
              "    </tr>\n",
              "    <tr>\n",
              "      <th>118</th>\n",
              "      <td>said</td>\n",
              "      <td>0.685927</td>\n",
              "    </tr>\n",
              "    <tr>\n",
              "      <th>420</th>\n",
              "      <td>later</td>\n",
              "      <td>0.679570</td>\n",
              "    </tr>\n",
              "    <tr>\n",
              "      <th>388</th>\n",
              "      <td>working</td>\n",
              "      <td>0.676893</td>\n",
              "    </tr>\n",
              "    <tr>\n",
              "      <th>197</th>\n",
              "      <td>bad</td>\n",
              "      <td>0.676080</td>\n",
              "    </tr>\n",
              "    <tr>\n",
              "      <th>309</th>\n",
              "      <td>call</td>\n",
              "      <td>0.666822</td>\n",
              "    </tr>\n",
              "    <tr>\n",
              "      <th>318</th>\n",
              "      <td>dated</td>\n",
              "      <td>0.662298</td>\n",
              "    </tr>\n",
              "    <tr>\n",
              "      <th>302</th>\n",
              "      <td>air</td>\n",
              "      <td>0.659540</td>\n",
              "    </tr>\n",
              "    <tr>\n",
              "      <th>421</th>\n",
              "      <td>credit</td>\n",
              "      <td>0.652918</td>\n",
              "    </tr>\n",
              "    <tr>\n",
              "      <th>183</th>\n",
              "      <td>called</td>\n",
              "      <td>0.648106</td>\n",
              "    </tr>\n",
              "    <tr>\n",
              "      <th>477</th>\n",
              "      <td>non</td>\n",
              "      <td>0.638564</td>\n",
              "    </tr>\n",
              "    <tr>\n",
              "      <th>444</th>\n",
              "      <td>fees</td>\n",
              "      <td>0.637323</td>\n",
              "    </tr>\n",
              "    <tr>\n",
              "      <th>431</th>\n",
              "      <td>wall</td>\n",
              "      <td>0.623628</td>\n",
              "    </tr>\n",
              "    <tr>\n",
              "      <th>198</th>\n",
              "      <td>nothing</td>\n",
              "      <td>0.619274</td>\n",
              "    </tr>\n",
              "    <tr>\n",
              "      <th>366</th>\n",
              "      <td>least</td>\n",
              "      <td>0.619169</td>\n",
              "    </tr>\n",
              "    <tr>\n",
              "      <th>130</th>\n",
              "      <td>asked</td>\n",
              "      <td>0.616691</td>\n",
              "    </tr>\n",
              "    <tr>\n",
              "      <th>248</th>\n",
              "      <td>sleep</td>\n",
              "      <td>0.594143</td>\n",
              "    </tr>\n",
              "    <tr>\n",
              "      <th>149</th>\n",
              "      <td>paid</td>\n",
              "      <td>0.591163</td>\n",
              "    </tr>\n",
              "    <tr>\n",
              "      <th>99</th>\n",
              "      <td>never</td>\n",
              "      <td>0.576893</td>\n",
              "    </tr>\n",
              "    <tr>\n",
              "      <th>208</th>\n",
              "      <td>looked</td>\n",
              "      <td>0.571569</td>\n",
              "    </tr>\n",
              "    <tr>\n",
              "      <th>101</th>\n",
              "      <td>old</td>\n",
              "      <td>0.568883</td>\n",
              "    </tr>\n",
              "    <tr>\n",
              "      <th>458</th>\n",
              "      <td>half</td>\n",
              "      <td>0.560819</td>\n",
              "    </tr>\n",
              "    <tr>\n",
              "      <th>293</th>\n",
              "      <td>put</td>\n",
              "      <td>0.559372</td>\n",
              "    </tr>\n",
              "    <tr>\n",
              "      <th>424</th>\n",
              "      <td>either</td>\n",
              "      <td>0.554644</td>\n",
              "    </tr>\n",
              "    <tr>\n",
              "      <th>300</th>\n",
              "      <td>card</td>\n",
              "      <td>0.544693</td>\n",
              "    </tr>\n",
              "    <tr>\n",
              "      <th>193</th>\n",
              "      <td>left</td>\n",
              "      <td>0.544311</td>\n",
              "    </tr>\n",
              "    <tr>\n",
              "      <th>469</th>\n",
              "      <td>ended</td>\n",
              "      <td>0.534612</td>\n",
              "    </tr>\n",
              "    <tr>\n",
              "      <th>132</th>\n",
              "      <td>another</td>\n",
              "      <td>0.521247</td>\n",
              "    </tr>\n",
              "    <tr>\n",
              "      <th>340</th>\n",
              "      <td>bill</td>\n",
              "      <td>0.520799</td>\n",
              "    </tr>\n",
              "    <tr>\n",
              "      <th>306</th>\n",
              "      <td>booking</td>\n",
              "      <td>0.515434</td>\n",
              "    </tr>\n",
              "    <tr>\n",
              "      <th>492</th>\n",
              "      <td>tell</td>\n",
              "      <td>0.515146</td>\n",
              "    </tr>\n",
              "    <tr>\n",
              "      <th>252</th>\n",
              "      <td>towels</td>\n",
              "      <td>0.513220</td>\n",
              "    </tr>\n",
              "    <tr>\n",
              "      <th>158</th>\n",
              "      <td>charge</td>\n",
              "      <td>0.511560</td>\n",
              "    </tr>\n",
              "    <tr>\n",
              "      <th>485</th>\n",
              "      <td>point</td>\n",
              "      <td>0.510283</td>\n",
              "    </tr>\n",
              "    <tr>\n",
              "      <th>405</th>\n",
              "      <td>ihop</td>\n",
              "      <td>0.510082</td>\n",
              "    </tr>\n",
              "    <tr>\n",
              "      <th>310</th>\n",
              "      <td>upon</td>\n",
              "      <td>0.500508</td>\n",
              "    </tr>\n",
              "    <tr>\n",
              "      <th>327</th>\n",
              "      <td>let</td>\n",
              "      <td>0.500441</td>\n",
              "    </tr>\n",
              "  </tbody>\n",
              "</table>\n",
              "</div>"
            ],
            "text/plain": [
              "        word       pmi\n",
              "291    dirty  1.070540\n",
              "484     poor  0.894486\n",
              "449    smell  0.882027\n",
              "493  cleaned  0.815428\n",
              "437     loud  0.796719\n",
              "417   toilet  0.793360\n",
              "344  charged  0.767942\n",
              "95      told  0.766563\n",
              "365  someone  0.758263\n",
              "403    phone  0.737960\n",
              "267  manager  0.731677\n",
              "441    tried  0.719988\n",
              "390  average  0.707556\n",
              "222     work  0.700096\n",
              "118     said  0.685927\n",
              "420    later  0.679570\n",
              "388  working  0.676893\n",
              "197      bad  0.676080\n",
              "309     call  0.666822\n",
              "318    dated  0.662298\n",
              "302      air  0.659540\n",
              "421   credit  0.652918\n",
              "183   called  0.648106\n",
              "477      non  0.638564\n",
              "444     fees  0.637323\n",
              "431     wall  0.623628\n",
              "198  nothing  0.619274\n",
              "366    least  0.619169\n",
              "130    asked  0.616691\n",
              "248    sleep  0.594143\n",
              "149     paid  0.591163\n",
              "99     never  0.576893\n",
              "208   looked  0.571569\n",
              "101      old  0.568883\n",
              "458     half  0.560819\n",
              "293      put  0.559372\n",
              "424   either  0.554644\n",
              "300     card  0.544693\n",
              "193     left  0.544311\n",
              "469    ended  0.534612\n",
              "132  another  0.521247\n",
              "340     bill  0.520799\n",
              "306  booking  0.515434\n",
              "492     tell  0.515146\n",
              "252   towels  0.513220\n",
              "158   charge  0.511560\n",
              "485    point  0.510283\n",
              "405     ihop  0.510082\n",
              "310     upon  0.500508\n",
              "327      let  0.500441"
            ]
          },
          "metadata": {
            "tags": []
          },
          "execution_count": 73
        }
      ]
    },
    {
      "cell_type": "code",
      "metadata": {
        "id": "SgG7D2vGOOEF",
        "colab_type": "code",
        "colab": {
          "base_uri": "https://localhost:8080/",
          "height": 196
        },
        "outputId": "25068c0d-0cc2-42f1-f935-bc449aaa4a68"
      },
      "source": [
        "#Complete pmi dataframe\n",
        "pmidf.head()"
      ],
      "execution_count": 74,
      "outputs": [
        {
          "output_type": "execute_result",
          "data": {
            "text/html": [
              "<div>\n",
              "<style scoped>\n",
              "    .dataframe tbody tr th:only-of-type {\n",
              "        vertical-align: middle;\n",
              "    }\n",
              "\n",
              "    .dataframe tbody tr th {\n",
              "        vertical-align: top;\n",
              "    }\n",
              "\n",
              "    .dataframe thead th {\n",
              "        text-align: right;\n",
              "    }\n",
              "</style>\n",
              "<table border=\"1\" class=\"dataframe\">\n",
              "  <thead>\n",
              "    <tr style=\"text-align: right;\">\n",
              "      <th></th>\n",
              "      <th>word</th>\n",
              "      <th>pmi</th>\n",
              "    </tr>\n",
              "  </thead>\n",
              "  <tbody>\n",
              "    <tr>\n",
              "      <th>0</th>\n",
              "      <td>room</td>\n",
              "      <td>x  y        px        py       pxy  ...</td>\n",
              "    </tr>\n",
              "    <tr>\n",
              "      <th>1</th>\n",
              "      <td>hotel</td>\n",
              "      <td>x  y        px        py       pxy  ...</td>\n",
              "    </tr>\n",
              "    <tr>\n",
              "      <th>2</th>\n",
              "      <td>falls</td>\n",
              "      <td>x  y        px        py       pxy  ...</td>\n",
              "    </tr>\n",
              "    <tr>\n",
              "      <th>3</th>\n",
              "      <td>view</td>\n",
              "      <td>x  y        px        py       pxy  ...</td>\n",
              "    </tr>\n",
              "    <tr>\n",
              "      <th>4</th>\n",
              "      <td>great</td>\n",
              "      <td>x  y        px        py       pxy  ...</td>\n",
              "    </tr>\n",
              "  </tbody>\n",
              "</table>\n",
              "</div>"
            ],
            "text/plain": [
              "    word                                                pmi\n",
              "0   room            x  y        px        py       pxy  ...\n",
              "1  hotel            x  y        px        py       pxy  ...\n",
              "2  falls            x  y        px        py       pxy  ...\n",
              "3   view            x  y        px        py       pxy  ...\n",
              "4  great            x  y        px        py       pxy  ..."
            ]
          },
          "metadata": {
            "tags": []
          },
          "execution_count": 74
        }
      ]
    },
    {
      "cell_type": "markdown",
      "metadata": {
        "id": "aRzHlBwVPc9x",
        "colab_type": "text"
      },
      "source": [
        "For the positive reviews we can see the top positive are \"loved\",\"wonderful\",\"highly\",\"excellent\" and this appear mostly in positive reviews. and as PMI is insensitive to frequency and even the relative frequency of the words they can have high pmi. we can see the word river and detroit appearing are locale specific.\n",
        "For the negative reviews we can see the top words are \"terrible\",\"dirty\",\"sheets\",\"rude\" which means people are complaining about sheets and rude ness and also the word terrible is moslty used in the negative reviews. we do not get get any locale specific words.\n"
      ]
    },
    {
      "cell_type": "code",
      "metadata": {
        "id": "EWQh7MLtPt5p",
        "colab_type": "code",
        "colab": {}
      },
      "source": [
        "#To access pmi matrix for a specific word\n",
        "#pmidf[pmidf['word']=='room']['pmi']"
      ],
      "execution_count": 75,
      "outputs": []
    },
    {
      "cell_type": "code",
      "metadata": {
        "id": "ZYX4MakCOOJF",
        "colab_type": "code",
        "colab": {}
      },
      "source": [
        "# Compute PMI for all terms and all possible labels\n",
        "def pmiForAllCal_phrase(df, label_column='groundTruth', topk=topk_phrase):\n",
        "  #Try calculate all the pmi for top k and store them into one pmidf dataframe\n",
        "  pmilist = []\n",
        "  pmiposlist = []\n",
        "  pmineglist = []\n",
        "  for word in tqdm(topk_phrase):\n",
        "      pmilist.append([word[0]]+[pmiCal(df,word[0])])\n",
        "      pmiposlist.append([word[0]]+[pmiIndivCal(df,word[0],'positive',label_column)])\n",
        "      pmineglist.append([word[0]]+[pmiIndivCal(df,word[0],'negative',label_column)])\n",
        "  pmidf = pd.DataFrame(pmilist)\n",
        "  pmiposlist = pd.DataFrame(pmiposlist)\n",
        "  pmineglist = pd.DataFrame(pmineglist)\n",
        "  pmiposlist.columns = ['word','pmi']\n",
        "  pmineglist.columns = ['word','pmi']\n",
        "  pmidf.columns = ['word','pmi']\n",
        "  return pmiposlist, pmineglist, pmidf"
      ],
      "execution_count": 76,
      "outputs": []
    },
    {
      "cell_type": "code",
      "metadata": {
        "id": "VXhT6e0ROcqe",
        "colab_type": "code",
        "colab": {
          "base_uri": "https://localhost:8080/",
          "height": 33
        },
        "outputId": "d38b81ae-7900-4b68-afa0-9592ad3cb20c"
      },
      "source": [
        "pmiposlist_phrase, pmineglist_phrase, pmidf_phrase = pmiForAllCal_phrase(finaldf_phrase)"
      ],
      "execution_count": 77,
      "outputs": [
        {
          "output_type": "stream",
          "text": [
            "100%|██████████| 500/500 [00:35<00:00, 14.00it/s]\n"
          ],
          "name": "stderr"
        }
      ]
    },
    {
      "cell_type": "code",
      "metadata": {
        "id": "gG6U4enJOc7j",
        "colab_type": "code",
        "colab": {
          "base_uri": "https://localhost:8080/",
          "height": 1000
        },
        "outputId": "376238f6-04f4-4c78-d97f-bacf1d85d9a6"
      },
      "source": [
        "#Sorted top pmi words for positive reviews\n",
        "pmiposlist_phrase.sort_values('pmi',ascending=0).head(50)"
      ],
      "execution_count": 78,
      "outputs": [
        {
          "output_type": "execute_result",
          "data": {
            "text/html": [
              "<div>\n",
              "<style scoped>\n",
              "    .dataframe tbody tr th:only-of-type {\n",
              "        vertical-align: middle;\n",
              "    }\n",
              "\n",
              "    .dataframe tbody tr th {\n",
              "        vertical-align: top;\n",
              "    }\n",
              "\n",
              "    .dataframe thead th {\n",
              "        text-align: right;\n",
              "    }\n",
              "</style>\n",
              "<table border=\"1\" class=\"dataframe\">\n",
              "  <thead>\n",
              "    <tr style=\"text-align: right;\">\n",
              "      <th></th>\n",
              "      <th>word</th>\n",
              "      <th>pmi</th>\n",
              "    </tr>\n",
              "  </thead>\n",
              "  <tbody>\n",
              "    <tr>\n",
              "      <th>317</th>\n",
              "      <td>always inn</td>\n",
              "      <td>0.357913</td>\n",
              "    </tr>\n",
              "    <tr>\n",
              "      <th>230</th>\n",
              "      <td>wonderful stay</td>\n",
              "      <td>0.357913</td>\n",
              "    </tr>\n",
              "    <tr>\n",
              "      <th>355</th>\n",
              "      <td>second stay</td>\n",
              "      <td>0.357913</td>\n",
              "    </tr>\n",
              "    <tr>\n",
              "      <th>475</th>\n",
              "      <td>wonderful hotel</td>\n",
              "      <td>0.357913</td>\n",
              "    </tr>\n",
              "    <tr>\n",
              "      <th>388</th>\n",
              "      <td>excellent value</td>\n",
              "      <td>0.357913</td>\n",
              "    </tr>\n",
              "    <tr>\n",
              "      <th>478</th>\n",
              "      <td>excellent hotel</td>\n",
              "      <td>0.357913</td>\n",
              "    </tr>\n",
              "    <tr>\n",
              "      <th>344</th>\n",
              "      <td>perfect place</td>\n",
              "      <td>0.334923</td>\n",
              "    </tr>\n",
              "    <tr>\n",
              "      <th>467</th>\n",
              "      <td>breathtaking view</td>\n",
              "      <td>0.328060</td>\n",
              "    </tr>\n",
              "    <tr>\n",
              "      <th>490</th>\n",
              "      <td>entire staff</td>\n",
              "      <td>0.326164</td>\n",
              "    </tr>\n",
              "    <tr>\n",
              "      <th>316</th>\n",
              "      <td>niagara river</td>\n",
              "      <td>0.315353</td>\n",
              "    </tr>\n",
              "    <tr>\n",
              "      <th>185</th>\n",
              "      <td>wonderful time</td>\n",
              "      <td>0.314110</td>\n",
              "    </tr>\n",
              "    <tr>\n",
              "      <th>161</th>\n",
              "      <td>rex motel</td>\n",
              "      <td>0.311393</td>\n",
              "    </tr>\n",
              "    <tr>\n",
              "      <th>115</th>\n",
              "      <td>perfect location</td>\n",
              "      <td>0.309594</td>\n",
              "    </tr>\n",
              "    <tr>\n",
              "      <th>47</th>\n",
              "      <td>great stay</td>\n",
              "      <td>0.306088</td>\n",
              "    </tr>\n",
              "    <tr>\n",
              "      <th>412</th>\n",
              "      <td>great restaurant</td>\n",
              "      <td>0.302343</td>\n",
              "    </tr>\n",
              "    <tr>\n",
              "      <th>257</th>\n",
              "      <td>terrapin grill</td>\n",
              "      <td>0.301823</td>\n",
              "    </tr>\n",
              "    <tr>\n",
              "      <th>448</th>\n",
              "      <td>good selection</td>\n",
              "      <td>0.299072</td>\n",
              "    </tr>\n",
              "    <tr>\n",
              "      <th>439</th>\n",
              "      <td>nice size</td>\n",
              "      <td>0.299072</td>\n",
              "    </tr>\n",
              "    <tr>\n",
              "      <th>299</th>\n",
              "      <td>wonderful experience</td>\n",
              "      <td>0.296037</td>\n",
              "    </tr>\n",
              "    <tr>\n",
              "      <th>479</th>\n",
              "      <td>french door</td>\n",
              "      <td>0.293374</td>\n",
              "    </tr>\n",
              "    <tr>\n",
              "      <th>164</th>\n",
              "      <td>top notch</td>\n",
              "      <td>0.292530</td>\n",
              "    </tr>\n",
              "    <tr>\n",
              "      <th>488</th>\n",
              "      <td>butterfly conservatory</td>\n",
              "      <td>0.291221</td>\n",
              "    </tr>\n",
              "    <tr>\n",
              "      <th>487</th>\n",
              "      <td>indoor walkway</td>\n",
              "      <td>0.288920</td>\n",
              "    </tr>\n",
              "    <tr>\n",
              "      <th>326</th>\n",
              "      <td>visitor center</td>\n",
              "      <td>0.285592</td>\n",
              "    </tr>\n",
              "    <tr>\n",
              "      <th>187</th>\n",
              "      <td>helpful staff</td>\n",
              "      <td>0.284888</td>\n",
              "    </tr>\n",
              "    <tr>\n",
              "      <th>147</th>\n",
              "      <td>17th floor</td>\n",
              "      <td>0.284709</td>\n",
              "    </tr>\n",
              "    <tr>\n",
              "      <th>89</th>\n",
              "      <td>excellent view</td>\n",
              "      <td>0.282563</td>\n",
              "    </tr>\n",
              "    <tr>\n",
              "      <th>252</th>\n",
              "      <td>adventure pas</td>\n",
              "      <td>0.282405</td>\n",
              "    </tr>\n",
              "    <tr>\n",
              "      <th>182</th>\n",
              "      <td>corner suite</td>\n",
              "      <td>0.281540</td>\n",
              "    </tr>\n",
              "    <tr>\n",
              "      <th>163</th>\n",
              "      <td>good food</td>\n",
              "      <td>0.279951</td>\n",
              "    </tr>\n",
              "    <tr>\n",
              "      <th>146</th>\n",
              "      <td>15th floor</td>\n",
              "      <td>0.274031</td>\n",
              "    </tr>\n",
              "    <tr>\n",
              "      <th>419</th>\n",
              "      <td>light show</td>\n",
              "      <td>0.273355</td>\n",
              "    </tr>\n",
              "    <tr>\n",
              "      <th>320</th>\n",
              "      <td>fresh fruit</td>\n",
              "      <td>0.270901</td>\n",
              "    </tr>\n",
              "    <tr>\n",
              "      <th>319</th>\n",
              "      <td>great choice</td>\n",
              "      <td>0.270901</td>\n",
              "    </tr>\n",
              "    <tr>\n",
              "      <th>29</th>\n",
              "      <td>great time</td>\n",
              "      <td>0.269145</td>\n",
              "    </tr>\n",
              "    <tr>\n",
              "      <th>450</th>\n",
              "      <td>large bathroom</td>\n",
              "      <td>0.268301</td>\n",
              "    </tr>\n",
              "    <tr>\n",
              "      <th>417</th>\n",
              "      <td>clear view</td>\n",
              "      <td>0.268301</td>\n",
              "    </tr>\n",
              "    <tr>\n",
              "      <th>253</th>\n",
              "      <td>comfortable room</td>\n",
              "      <td>0.267762</td>\n",
              "    </tr>\n",
              "    <tr>\n",
              "      <th>335</th>\n",
              "      <td>next year</td>\n",
              "      <td>0.266941</td>\n",
              "    </tr>\n",
              "    <tr>\n",
              "      <th>422</th>\n",
              "      <td>table rock</td>\n",
              "      <td>0.265539</td>\n",
              "    </tr>\n",
              "    <tr>\n",
              "      <th>209</th>\n",
              "      <td>little pricey</td>\n",
              "      <td>0.262603</td>\n",
              "    </tr>\n",
              "    <tr>\n",
              "      <th>277</th>\n",
              "      <td>great food</td>\n",
              "      <td>0.262603</td>\n",
              "    </tr>\n",
              "    <tr>\n",
              "      <th>124</th>\n",
              "      <td>perfect view</td>\n",
              "      <td>0.260539</td>\n",
              "    </tr>\n",
              "    <tr>\n",
              "      <th>217</th>\n",
              "      <td>short drive</td>\n",
              "      <td>0.257829</td>\n",
              "    </tr>\n",
              "    <tr>\n",
              "      <th>148</th>\n",
              "      <td>awesome view</td>\n",
              "      <td>0.257829</td>\n",
              "    </tr>\n",
              "    <tr>\n",
              "      <th>113</th>\n",
              "      <td>incline railway</td>\n",
              "      <td>0.255783</td>\n",
              "    </tr>\n",
              "    <tr>\n",
              "      <th>227</th>\n",
              "      <td>21st floor</td>\n",
              "      <td>0.254372</td>\n",
              "    </tr>\n",
              "    <tr>\n",
              "      <th>392</th>\n",
              "      <td>unobstructed view</td>\n",
              "      <td>0.252552</td>\n",
              "    </tr>\n",
              "    <tr>\n",
              "      <th>385</th>\n",
              "      <td>great breakfast</td>\n",
              "      <td>0.249699</td>\n",
              "    </tr>\n",
              "    <tr>\n",
              "      <th>369</th>\n",
              "      <td>added bonus</td>\n",
              "      <td>0.249699</td>\n",
              "    </tr>\n",
              "  </tbody>\n",
              "</table>\n",
              "</div>"
            ],
            "text/plain": [
              "                       word       pmi\n",
              "317              always inn  0.357913\n",
              "230          wonderful stay  0.357913\n",
              "355             second stay  0.357913\n",
              "475         wonderful hotel  0.357913\n",
              "388         excellent value  0.357913\n",
              "478         excellent hotel  0.357913\n",
              "344           perfect place  0.334923\n",
              "467       breathtaking view  0.328060\n",
              "490            entire staff  0.326164\n",
              "316           niagara river  0.315353\n",
              "185          wonderful time  0.314110\n",
              "161               rex motel  0.311393\n",
              "115        perfect location  0.309594\n",
              "47               great stay  0.306088\n",
              "412        great restaurant  0.302343\n",
              "257          terrapin grill  0.301823\n",
              "448          good selection  0.299072\n",
              "439               nice size  0.299072\n",
              "299    wonderful experience  0.296037\n",
              "479             french door  0.293374\n",
              "164               top notch  0.292530\n",
              "488  butterfly conservatory  0.291221\n",
              "487          indoor walkway  0.288920\n",
              "326          visitor center  0.285592\n",
              "187           helpful staff  0.284888\n",
              "147              17th floor  0.284709\n",
              "89           excellent view  0.282563\n",
              "252           adventure pas  0.282405\n",
              "182            corner suite  0.281540\n",
              "163               good food  0.279951\n",
              "146              15th floor  0.274031\n",
              "419              light show  0.273355\n",
              "320             fresh fruit  0.270901\n",
              "319            great choice  0.270901\n",
              "29               great time  0.269145\n",
              "450          large bathroom  0.268301\n",
              "417              clear view  0.268301\n",
              "253        comfortable room  0.267762\n",
              "335               next year  0.266941\n",
              "422              table rock  0.265539\n",
              "209           little pricey  0.262603\n",
              "277              great food  0.262603\n",
              "124            perfect view  0.260539\n",
              "217             short drive  0.257829\n",
              "148            awesome view  0.257829\n",
              "113         incline railway  0.255783\n",
              "227              21st floor  0.254372\n",
              "392       unobstructed view  0.252552\n",
              "385         great breakfast  0.249699\n",
              "369             added bonus  0.249699"
            ]
          },
          "metadata": {
            "tags": []
          },
          "execution_count": 78
        }
      ]
    },
    {
      "cell_type": "code",
      "metadata": {
        "id": "luRNXZSpOc3j",
        "colab_type": "code",
        "colab": {
          "base_uri": "https://localhost:8080/",
          "height": 1000
        },
        "outputId": "40c2538b-7708-40c8-f0a9-a340aaed3f5d"
      },
      "source": [
        "#Sorted top pmi words for negative reviews\n",
        "pmineglist_phrase.sort_values('pmi',ascending=0).head(50)"
      ],
      "execution_count": 79,
      "outputs": [
        {
          "output_type": "execute_result",
          "data": {
            "text/html": [
              "<div>\n",
              "<style scoped>\n",
              "    .dataframe tbody tr th:only-of-type {\n",
              "        vertical-align: middle;\n",
              "    }\n",
              "\n",
              "    .dataframe tbody tr th {\n",
              "        vertical-align: top;\n",
              "    }\n",
              "\n",
              "    .dataframe thead th {\n",
              "        text-align: right;\n",
              "    }\n",
              "</style>\n",
              "<table border=\"1\" class=\"dataframe\">\n",
              "  <thead>\n",
              "    <tr style=\"text-align: right;\">\n",
              "      <th></th>\n",
              "      <th>word</th>\n",
              "      <th>pmi</th>\n",
              "    </tr>\n",
              "  </thead>\n",
              "  <tbody>\n",
              "    <tr>\n",
              "      <th>249</th>\n",
              "      <td>bed bug</td>\n",
              "      <td>1.064515</td>\n",
              "    </tr>\n",
              "    <tr>\n",
              "      <th>496</th>\n",
              "      <td>bed sheet</td>\n",
              "      <td>1.062940</td>\n",
              "    </tr>\n",
              "    <tr>\n",
              "      <th>432</th>\n",
              "      <td>non smoking room</td>\n",
              "      <td>1.006935</td>\n",
              "    </tr>\n",
              "    <tr>\n",
              "      <th>339</th>\n",
              "      <td>previous guest</td>\n",
              "      <td>1.000420</td>\n",
              "    </tr>\n",
              "    <tr>\n",
              "      <th>474</th>\n",
              "      <td>musty smell</td>\n",
              "      <td>0.977947</td>\n",
              "    </tr>\n",
              "    <tr>\n",
              "      <th>463</th>\n",
              "      <td>bathroom floor</td>\n",
              "      <td>0.962680</td>\n",
              "    </tr>\n",
              "    <tr>\n",
              "      <th>321</th>\n",
              "      <td>next room</td>\n",
              "      <td>0.955968</td>\n",
              "    </tr>\n",
              "    <tr>\n",
              "      <th>386</th>\n",
              "      <td>bad experience</td>\n",
              "      <td>0.946198</td>\n",
              "    </tr>\n",
              "    <tr>\n",
              "      <th>454</th>\n",
              "      <td>facility fee</td>\n",
              "      <td>0.945157</td>\n",
              "    </tr>\n",
              "    <tr>\n",
              "      <th>258</th>\n",
              "      <td>bathroom door</td>\n",
              "      <td>0.936939</td>\n",
              "    </tr>\n",
              "    <tr>\n",
              "      <th>364</th>\n",
              "      <td>toilet paper</td>\n",
              "      <td>0.913408</td>\n",
              "    </tr>\n",
              "    <tr>\n",
              "      <th>381</th>\n",
              "      <td>second room</td>\n",
              "      <td>0.879507</td>\n",
              "    </tr>\n",
              "    <tr>\n",
              "      <th>379</th>\n",
              "      <td>full price</td>\n",
              "      <td>0.869733</td>\n",
              "    </tr>\n",
              "    <tr>\n",
              "      <th>166</th>\n",
              "      <td>first room</td>\n",
              "      <td>0.856250</td>\n",
              "    </tr>\n",
              "    <tr>\n",
              "      <th>402</th>\n",
              "      <td>general manager</td>\n",
              "      <td>0.811626</td>\n",
              "    </tr>\n",
              "    <tr>\n",
              "      <th>50</th>\n",
              "      <td>credit card</td>\n",
              "      <td>0.804675</td>\n",
              "    </tr>\n",
              "    <tr>\n",
              "      <th>449</th>\n",
              "      <td>hair dryer</td>\n",
              "      <td>0.795625</td>\n",
              "    </tr>\n",
              "    <tr>\n",
              "      <th>153</th>\n",
              "      <td>air conditioner</td>\n",
              "      <td>0.782886</td>\n",
              "    </tr>\n",
              "    <tr>\n",
              "      <th>160</th>\n",
              "      <td>new room</td>\n",
              "      <td>0.774572</td>\n",
              "    </tr>\n",
              "    <tr>\n",
              "      <th>263</th>\n",
              "      <td>different room</td>\n",
              "      <td>0.767455</td>\n",
              "    </tr>\n",
              "    <tr>\n",
              "      <th>407</th>\n",
              "      <td>fire alarm</td>\n",
              "      <td>0.765772</td>\n",
              "    </tr>\n",
              "    <tr>\n",
              "      <th>406</th>\n",
              "      <td>small window</td>\n",
              "      <td>0.753066</td>\n",
              "    </tr>\n",
              "    <tr>\n",
              "      <th>362</th>\n",
              "      <td>small room</td>\n",
              "      <td>0.721517</td>\n",
              "    </tr>\n",
              "    <tr>\n",
              "      <th>429</th>\n",
              "      <td>room door</td>\n",
              "      <td>0.708614</td>\n",
              "    </tr>\n",
              "    <tr>\n",
              "      <th>100</th>\n",
              "      <td>hot water</td>\n",
              "      <td>0.690265</td>\n",
              "    </tr>\n",
              "    <tr>\n",
              "      <th>441</th>\n",
              "      <td>first impression</td>\n",
              "      <td>0.690265</td>\n",
              "    </tr>\n",
              "    <tr>\n",
              "      <th>67</th>\n",
              "      <td>good thing</td>\n",
              "      <td>0.681512</td>\n",
              "    </tr>\n",
              "    <tr>\n",
              "      <th>237</th>\n",
              "      <td>last time</td>\n",
              "      <td>0.662094</td>\n",
              "    </tr>\n",
              "    <tr>\n",
              "      <th>324</th>\n",
              "      <td>ihop restaurant</td>\n",
              "      <td>0.662094</td>\n",
              "    </tr>\n",
              "    <tr>\n",
              "      <th>225</th>\n",
              "      <td>air conditioning</td>\n",
              "      <td>0.633107</td>\n",
              "    </tr>\n",
              "    <tr>\n",
              "      <th>30</th>\n",
              "      <td>next day</td>\n",
              "      <td>0.629304</td>\n",
              "    </tr>\n",
              "    <tr>\n",
              "      <th>51</th>\n",
              "      <td>star hotel</td>\n",
              "      <td>0.605318</td>\n",
              "    </tr>\n",
              "    <tr>\n",
              "      <th>437</th>\n",
              "      <td>hour drive</td>\n",
              "      <td>0.590181</td>\n",
              "    </tr>\n",
              "    <tr>\n",
              "      <th>34</th>\n",
              "      <td>customer service</td>\n",
              "      <td>0.585905</td>\n",
              "    </tr>\n",
              "    <tr>\n",
              "      <th>169</th>\n",
              "      <td>different hotel</td>\n",
              "      <td>0.583929</td>\n",
              "    </tr>\n",
              "    <tr>\n",
              "      <th>327</th>\n",
              "      <td>common area</td>\n",
              "      <td>0.572482</td>\n",
              "    </tr>\n",
              "    <tr>\n",
              "      <th>220</th>\n",
              "      <td>room key</td>\n",
              "      <td>0.570464</td>\n",
              "    </tr>\n",
              "    <tr>\n",
              "      <th>443</th>\n",
              "      <td>balcony door</td>\n",
              "      <td>0.568568</td>\n",
              "    </tr>\n",
              "    <tr>\n",
              "      <th>46</th>\n",
              "      <td>next morning</td>\n",
              "      <td>0.567961</td>\n",
              "    </tr>\n",
              "    <tr>\n",
              "      <th>289</th>\n",
              "      <td>entire stay</td>\n",
              "      <td>0.563003</td>\n",
              "    </tr>\n",
              "    <tr>\n",
              "      <th>472</th>\n",
              "      <td>gift card</td>\n",
              "      <td>0.544311</td>\n",
              "    </tr>\n",
              "    <tr>\n",
              "      <th>447</th>\n",
              "      <td>half hour</td>\n",
              "      <td>0.537796</td>\n",
              "    </tr>\n",
              "    <tr>\n",
              "      <th>415</th>\n",
              "      <td>coffee pot</td>\n",
              "      <td>0.537796</td>\n",
              "    </tr>\n",
              "    <tr>\n",
              "      <th>442</th>\n",
              "      <td>star rating</td>\n",
              "      <td>0.536114</td>\n",
              "    </tr>\n",
              "    <tr>\n",
              "      <th>372</th>\n",
              "      <td>great wolf lodge</td>\n",
              "      <td>0.533261</td>\n",
              "    </tr>\n",
              "    <tr>\n",
              "      <th>120</th>\n",
              "      <td>ice machine</td>\n",
              "      <td>0.527361</td>\n",
              "    </tr>\n",
              "    <tr>\n",
              "      <th>276</th>\n",
              "      <td>desk clerk</td>\n",
              "      <td>0.526636</td>\n",
              "    </tr>\n",
              "    <tr>\n",
              "      <th>190</th>\n",
              "      <td>standard room</td>\n",
              "      <td>0.522758</td>\n",
              "    </tr>\n",
              "    <tr>\n",
              "      <th>446</th>\n",
              "      <td>large hotel</td>\n",
              "      <td>0.507943</td>\n",
              "    </tr>\n",
              "    <tr>\n",
              "      <th>459</th>\n",
              "      <td>phone call</td>\n",
              "      <td>0.507943</td>\n",
              "    </tr>\n",
              "  </tbody>\n",
              "</table>\n",
              "</div>"
            ],
            "text/plain": [
              "                 word       pmi\n",
              "249           bed bug  1.064515\n",
              "496         bed sheet  1.062940\n",
              "432  non smoking room  1.006935\n",
              "339    previous guest  1.000420\n",
              "474       musty smell  0.977947\n",
              "463    bathroom floor  0.962680\n",
              "321         next room  0.955968\n",
              "386    bad experience  0.946198\n",
              "454      facility fee  0.945157\n",
              "258     bathroom door  0.936939\n",
              "364      toilet paper  0.913408\n",
              "381       second room  0.879507\n",
              "379        full price  0.869733\n",
              "166        first room  0.856250\n",
              "402   general manager  0.811626\n",
              "50        credit card  0.804675\n",
              "449        hair dryer  0.795625\n",
              "153   air conditioner  0.782886\n",
              "160          new room  0.774572\n",
              "263    different room  0.767455\n",
              "407        fire alarm  0.765772\n",
              "406      small window  0.753066\n",
              "362        small room  0.721517\n",
              "429         room door  0.708614\n",
              "100         hot water  0.690265\n",
              "441  first impression  0.690265\n",
              "67         good thing  0.681512\n",
              "237         last time  0.662094\n",
              "324   ihop restaurant  0.662094\n",
              "225  air conditioning  0.633107\n",
              "30           next day  0.629304\n",
              "51         star hotel  0.605318\n",
              "437        hour drive  0.590181\n",
              "34   customer service  0.585905\n",
              "169   different hotel  0.583929\n",
              "327       common area  0.572482\n",
              "220          room key  0.570464\n",
              "443      balcony door  0.568568\n",
              "46       next morning  0.567961\n",
              "289       entire stay  0.563003\n",
              "472         gift card  0.544311\n",
              "447         half hour  0.537796\n",
              "415        coffee pot  0.537796\n",
              "442       star rating  0.536114\n",
              "372  great wolf lodge  0.533261\n",
              "120       ice machine  0.527361\n",
              "276        desk clerk  0.526636\n",
              "190     standard room  0.522758\n",
              "446       large hotel  0.507943\n",
              "459        phone call  0.507943"
            ]
          },
          "metadata": {
            "tags": []
          },
          "execution_count": 79
        }
      ]
    },
    {
      "cell_type": "markdown",
      "metadata": {
        "id": "1P13TSJFO5aB",
        "colab_type": "text"
      },
      "source": [
        "Always phrases give us more sense because we can derive the issue\n",
        "\n",
        "We can see in the top positive phrases we can all of them have same pmi score. this is becuase as long as they appear only in positive irrespective of their relative frequency they have same pmi. we can see that peopl are liking the hampton suit and view of the river.\n",
        "\n",
        "the phrasesdavinshor mall and hampton inn are locale to windsor.\n",
        "\n",
        "For negative reviews we can see for the same reason some of them have same pmi and also we know sheets appeared in the negative word list but from phrase list we can see they are talking about bedsheet and same for thin wall. for most of psotive phrases are abstract like great, wonder and awesome but we can clearly dientify the issue \"toliet seat\",\"fresh towel\" in the negative.\n",
        "\n",
        "No locale specific in the negativ list."
      ]
    },
    {
      "cell_type": "markdown",
      "metadata": {
        "id": "kfLKI1iUB8QM",
        "colab_type": "text"
      },
      "source": [
        "# Q5. General Plots\n",
        "\n",
        "**(a) Histogram**\n",
        "\n",
        "(a) Show separate histograms of ground truth and Vader sentiment scores (ignore hotel ID). Do you notice any interesting differences?\n",
        "\n",
        "(b) Show a histogram of the number of reviews per hotel. Do you notice any interesting trends? Are these expected?\n",
        "\n",
        "**(b) Boxplots**\n",
        "\n",
        "(a) In two plots, one for ground truth star rating and one for Vader sentiment, show a plot of 5 side-by-side boxplots of these scores.\n",
        "\n",
        "(b) Report the mean and variance of the ground truth and Vader sentiment scores for the top-5 ranked hotels according to star rating.\n",
        "\n",
        "(c) Which do you find more informative, the boxplots or the mean and variance, or are they equally informative? Why?\n",
        "\n",
        "**(c) Scatterplots and heatmaps**\n",
        "\n",
        "(a) Show both a scatterplot and heatmap of ground truth score (star rating) versus Vader sentiment score. Each review is a point on the scatterplot. Do you notice anything interesting? What does this tell you about star ratings vs. Vader sentiment scores? What does this tell you about human ratings and/or Vader sentiment analysis?\n",
        "\n",
        "(b) Show two scatterplots and two heatmaps of the length of reviews versus each of ground truth score and Vader sentiment score. Each review is a point on the scatterplot. Are there any trends?\n",
        "\n",
        "(c) Show two scatterplots of the number of reviews per hotel versus each of average ground truth score and average Vader sentiment score. In this case, each hotel is a single point on the scatterplot. Are there any trends?"
      ]
    },
    {
      "cell_type": "markdown",
      "metadata": {
        "id": "MiUJ2iMVDF7E",
        "colab_type": "text"
      },
      "source": [
        "**(a) Histogram**"
      ]
    },
    {
      "cell_type": "code",
      "metadata": {
        "id": "eytinCMRO_9S",
        "colab_type": "code",
        "colab": {}
      },
      "source": [
        "def getHistogram(measure, title):\n",
        "  if measure=='both':\n",
        "    x = [finaldf['ratingScore'].values/5]\n",
        "    y = [finaldf['vader'].values]\n",
        "    bins = np.linspace(-1, 1, 100)\n",
        "    plt.title(title)\n",
        "    plt.hist(x, bins, label='x')\n",
        "    plt.hist(y, bins, label='y')\n",
        "    plt.legend(loc='upper right')\n",
        "    plt.show()\n",
        "\n",
        "  else:\n",
        "    plt.hist(finaldf[measure].values)\n",
        "    plt.title(title)\n",
        "    plt.xlabel(\"Value\")\n",
        "    plt.ylabel(\"Frequency\")\n",
        "    fig = plt.gcf()"
      ],
      "execution_count": 80,
      "outputs": []
    },
    {
      "cell_type": "code",
      "metadata": {
        "id": "jtJ-RhCVQ6wz",
        "colab_type": "code",
        "colab": {}
      },
      "source": [
        "#df = finaldf.groupby('ratingScore').count()"
      ],
      "execution_count": 81,
      "outputs": []
    },
    {
      "cell_type": "code",
      "metadata": {
        "id": "CfpYnmC1O_64",
        "colab_type": "code",
        "colab": {
          "base_uri": "https://localhost:8080/",
          "height": 295
        },
        "outputId": "64d8c8b2-0acc-40ef-b9ee-4d7aab97dda8"
      },
      "source": [
        "getHistogram('ratingScore', 'Ground Truth')"
      ],
      "execution_count": 82,
      "outputs": [
        {
          "output_type": "display_data",
          "data": {
            "image/png": "[encoded data removed]",
            "text/plain": [
              "<Figure size 432x288 with 1 Axes>"
            ]
          },
          "metadata": {
            "tags": [],
            "needs_background": "light"
          }
        }
      ]
    },
    {
      "cell_type": "code",
      "metadata": {
        "id": "YcD2o6E6CwQP",
        "colab_type": "code",
        "colab": {
          "base_uri": "https://localhost:8080/",
          "height": 295
        },
        "outputId": "11b8c048-321a-41fa-a91a-01792ce774e8"
      },
      "source": [
        "getHistogram('vader', 'Vadar Sentiment Analysis')"
      ],
      "execution_count": 83,
      "outputs": [
        {
          "output_type": "display_data",
          "data": {
            "image/png": "[encoded data removed]",
            "text/plain": [
              "<Figure size 432x288 with 1 Axes>"
            ]
          },
          "metadata": {
            "tags": [],
            "needs_background": "light"
          }
        }
      ]
    },
    {
      "cell_type": "markdown",
      "metadata": {
        "id": "Zza1rutGC1YW",
        "colab_type": "text"
      },
      "source": [
        "FREQUENCY OF rviews for ratings ascending : 183,217,447,805,849\n",
        "\n",
        "we can see that the distributions are slightly different we can see that the vader is giving mostly giving positive values even for the negative reviews. if see the example 2324 of the top hotel I described above the user gave 3 rating but vader gave 0.98. The vader can be tricked by long legnthy reviews which have very high postive reviws and one negative word. It is catching in some instances but not all.\n"
      ]
    },
    {
      "cell_type": "code",
      "metadata": {
        "id": "7jhTyGUWC4FH",
        "colab_type": "code",
        "colab": {
          "base_uri": "https://localhost:8080/",
          "height": 282
        },
        "outputId": "c576a3a0-b4e2-4dce-d658-c5d673a0fc30"
      },
      "source": [
        "df = finaldf.groupby('hotelName').count() \n",
        "plt.hist(df['ratingScore'])\n",
        "plt.xlabel(\"Value\")\n",
        "plt.ylabel(\"Frequency\")\n",
        "fig = plt.gcf()"
      ],
      "execution_count": 84,
      "outputs": [
        {
          "output_type": "display_data",
          "data": {
            "image/png": "[encoded data removed]",
            "text/plain": [
              "<Figure size 432x288 with 1 Axes>"
            ]
          },
          "metadata": {
            "tags": [],
            "needs_background": "light"
          }
        }
      ]
    },
    {
      "cell_type": "markdown",
      "metadata": {
        "id": "p5VP1VLLRA8u",
        "colab_type": "text"
      },
      "source": [
        "Yes the graph is skewed and there are more hotels in the low ratings side. This can be genrally expected becuase users tend to go to hotels with very positive reviews and also not all hotels have same strategic location, capacity.\n"
      ]
    },
    {
      "cell_type": "code",
      "metadata": {
        "id": "rMzZH2SKC6p2",
        "colab_type": "code",
        "colab": {
          "base_uri": "https://localhost:8080/",
          "height": 281
        },
        "outputId": "bf43f266-0ae3-4167-bf61-9cc4e02f8641"
      },
      "source": [
        "getHistogram('both', 'Ground Truth v.s Vader')"
      ],
      "execution_count": 85,
      "outputs": [
        {
          "output_type": "display_data",
          "data": {
            "image/png": "[encoded data removed]",
            "text/plain": [
              "<Figure size 432x288 with 1 Axes>"
            ]
          },
          "metadata": {
            "tags": [],
            "needs_background": "light"
          }
        }
      ]
    },
    {
      "cell_type": "code",
      "metadata": {
        "id": "sx_EWNUlC6sv",
        "colab_type": "code",
        "colab": {}
      },
      "source": [
        "tpdf = pd.DataFrame(topkGroundPos[0:10])\n",
        "tndf = pd.DataFrame(topkGroundNeg[0:10])\n",
        "tpdf.columns =['word','count']\n",
        "tndf.columns =['word','count']\n",
        "tpdf['type'] = 'Positive'\n",
        "tndf['type'] = 'Negative'\n",
        "overlayhist = pd.concat([tpdf,tndf])"
      ],
      "execution_count": 86,
      "outputs": []
    },
    {
      "cell_type": "code",
      "metadata": {
        "id": "JTPn0co7C67l",
        "colab_type": "code",
        "colab": {
          "base_uri": "https://localhost:8080/",
          "height": 296
        },
        "outputId": "7c62df9d-fb4c-4fdf-fe75-e9a97c985018"
      },
      "source": [
        "sns.barplot(x=\"count\", y='word', hue='type', data=overlayhist)"
      ],
      "execution_count": 87,
      "outputs": [
        {
          "output_type": "execute_result",
          "data": {
            "text/plain": [
              "<matplotlib.axes._subplots.AxesSubplot at 0x7f8dc9e81978>"
            ]
          },
          "metadata": {
            "tags": []
          },
          "execution_count": 87
        },
        {
          "output_type": "display_data",
          "data": {
            "image/png": "[encoded data removed]",
            "text/plain": [
              "<Figure size 432x288 with 1 Axes>"
            ]
          },
          "metadata": {
            "tags": [],
            "needs_background": "light"
          }
        }
      ]
    },
    {
      "cell_type": "markdown",
      "metadata": {
        "id": "oUV1LNrODJBx",
        "colab_type": "text"
      },
      "source": [
        "**(b) Boxplots**"
      ]
    },
    {
      "cell_type": "code",
      "metadata": {
        "id": "KPic_jc8C7CM",
        "colab_type": "code",
        "colab": {
          "base_uri": "https://localhost:8080/",
          "height": 265
        },
        "outputId": "5ed02119-5732-4435-96c3-dab9876f4e30"
      },
      "source": [
        "#Plot top 5 side-by-side boxplot for top 5 ground truth rated hotel\n",
        "tp5gthotel = hotelRatingDfGt.sort_values('avgRatingScore',ascending=0).head(5)\n",
        "tp5gthotel['hotelName'].values\n",
        "\n",
        "hampton = finaldf.loc[finaldf['hotelName'] == tp5gthotel['hotelName'].values[0]]['ratingScore']\n",
        "towneplace = finaldf.loc[finaldf['hotelName'] == tp5gthotel['hotelName'].values[1]]['ratingScore']\n",
        "hiltonGarden = finaldf.loc[finaldf['hotelName'] == tp5gthotel['hotelName'].values[2]]['ratingScore']\n",
        "homewood = finaldf.loc[finaldf['hotelName'] == tp5gthotel['hotelName'].values[3]]['ratingScore']\n",
        "courtyard = finaldf.loc[finaldf['hotelName'] == tp5gthotel['hotelName'].values[4]]['ratingScore']\n",
        "\n",
        "data = [hampton, towneplace, hiltonGarden, homewood, courtyard]\n",
        "# multiple box plots on one figure\n",
        "plt.figure()\n",
        "plt.boxplot(data)\n",
        "plt.show()"
      ],
      "execution_count": 88,
      "outputs": [
        {
          "output_type": "display_data",
          "data": {
            "image/png": "[encoded data removed]",
            "text/plain": [
              "<Figure size 432x288 with 1 Axes>"
            ]
          },
          "metadata": {
            "tags": [],
            "needs_background": "light"
          }
        }
      ]
    },
    {
      "cell_type": "code",
      "metadata": {
        "id": "Kde-bjJCC651",
        "colab_type": "code",
        "colab": {
          "base_uri": "https://localhost:8080/",
          "height": 265
        },
        "outputId": "02e81927-679a-434b-f37e-7dca201eb057"
      },
      "source": [
        "#Plot top 5 side-by-side boxplot for top 5 ground truth rated hotel\n",
        "tp5gthotel = hotelRatingDfGt.sort_values('avgRatingScore',ascending=0).head(5)\n",
        "tp5gthotel['hotelName'].values\n",
        "\n",
        "hampton = finaldf.loc[finaldf['hotelName'] == tp5gthotel['hotelName'].values[0]]['vader']\n",
        "towneplace = finaldf.loc[finaldf['hotelName'] == tp5gthotel['hotelName'].values[1]]['vader']\n",
        "hiltonGarden = finaldf.loc[finaldf['hotelName'] == tp5gthotel['hotelName'].values[2]]['vader']\n",
        "homewood = finaldf.loc[finaldf['hotelName'] == tp5gthotel['hotelName'].values[3]]['vader']\n",
        "courtyard = finaldf.loc[finaldf['hotelName'] == tp5gthotel['hotelName'].values[4]]['vader']\n",
        "\n",
        "data = [hampton, towneplace, hiltonGarden, homewood, courtyard]\n",
        "# multiple box plots on one figure\n",
        "plt.figure()\n",
        "plt.boxplot(data)\n",
        "plt.show()"
      ],
      "execution_count": 89,
      "outputs": [
        {
          "output_type": "display_data",
          "data": {
            "image/png": "[encoded data removed]",
            "text/plain": [
              "<Figure size 432x288 with 1 Axes>"
            ]
          },
          "metadata": {
            "tags": [],
            "needs_background": "light"
          }
        }
      ]
    },
    {
      "cell_type": "markdown",
      "metadata": {
        "id": "vbNFVbODDSxp",
        "colab_type": "text"
      },
      "source": [
        "THese box plots compare top five hotels picked according to the ground truth and compared the distribtuions for ratings and vader score. For the same hotels we can clearly see the vader sentiment scores are moved towards the top means vader is slighly biased towards the positive as said earlier."
      ]
    },
    {
      "cell_type": "code",
      "metadata": {
        "id": "AoVIs8PFC64Q",
        "colab_type": "code",
        "colab": {
          "base_uri": "https://localhost:8080/",
          "height": 50
        },
        "outputId": "c2de69c2-ef01-4b24-9fad-d4cdef2942c0"
      },
      "source": [
        "tp5gthotel = hotelRatingDfVd.sort_values('avgvadersentiment',ascending=0).head(5)\n",
        "tp5gthotel['hotelName'].values"
      ],
      "execution_count": 90,
      "outputs": [
        {
          "output_type": "execute_result",
          "data": {
            "text/plain": [
              "array(['Serene Niagara Inn', 'Wenxin Bed &amp; Breakfast', 'Sharp Motel',\n",
              "       'Two Rivers Bed &amp; Breakfast', 'Rockwell Resort'], dtype=object)"
            ]
          },
          "metadata": {
            "tags": []
          },
          "execution_count": 90
        }
      ]
    },
    {
      "cell_type": "code",
      "metadata": {
        "id": "K_G-ZMOiC62i",
        "colab_type": "code",
        "colab": {
          "base_uri": "https://localhost:8080/",
          "height": 265
        },
        "outputId": "d9164c75-1bd6-46e5-b7a2-c89496919c02"
      },
      "source": [
        "#Plot top 5 side-by-side boxplot for top 5 ground truth rated hotel\n",
        "tp5gthotel = hotelRatingDfVd.sort_values('avgvadersentiment',ascending=0).head(5)\n",
        "tp5gthotel['hotelName'].values\n",
        "\n",
        "hampton = finaldf.loc[finaldf['hotelName'] == tp5gthotel['hotelName'].values[0]]['vader']\n",
        "towneplace = finaldf.loc[finaldf['hotelName'] == tp5gthotel['hotelName'].values[1]]['vader']\n",
        "hiltonGarden = finaldf.loc[finaldf['hotelName'] == tp5gthotel['hotelName'].values[2]]['vader']\n",
        "homewood = finaldf.loc[finaldf['hotelName'] == tp5gthotel['hotelName'].values[3]]['vader']\n",
        "courtyard = finaldf.loc[finaldf['hotelName'] == tp5gthotel['hotelName'].values[4]]['vader']\n",
        "\n",
        "\n",
        "data = [hampton, towneplace, hiltonGarden, homewood, courtyard]\n",
        "# multiple box plots on one figure\n",
        "plt.figure()\n",
        "plt.boxplot(data)\n",
        "plt.show()"
      ],
      "execution_count": 91,
      "outputs": [
        {
          "output_type": "display_data",
          "data": {
            "image/png": "[encoded data removed]",
            "text/plain": [
              "<Figure size 432x288 with 1 Axes>"
            ]
          },
          "metadata": {
            "tags": [],
            "needs_background": "light"
          }
        }
      ]
    },
    {
      "cell_type": "markdown",
      "metadata": {
        "id": "00HxbD1EDYRC",
        "colab_type": "text"
      },
      "source": [
        "Aging the vader distributiosn are less spread incoparision to average rating and they are towards the higher vader values."
      ]
    },
    {
      "cell_type": "code",
      "metadata": {
        "id": "3-_XqWamC60r",
        "colab_type": "code",
        "colab": {
          "base_uri": "https://localhost:8080/",
          "height": 196
        },
        "outputId": "299cde32-f4e4-4aa3-d17f-ff946b25f25f"
      },
      "source": [
        "hotelNames = finaldf['hotelName'].unique()\n",
        "hotelRating = []\n",
        "for hotel in hotelNames:\n",
        "  itemDf = finaldf.loc[finaldf['hotelName']==hotel]\n",
        "  hotelRating.append([hotel,itemDf['ratingScore'].count(),itemDf['ratingScore'].mean(),itemDf['ratingScore'].var(),itemDf['vader'].mean(),itemDf['vader'].var()])\n",
        "hotelRatingDf = pd.DataFrame(hotelRating)\n",
        "hotelRatingDf.columns=['hotelName','Number of Reviews','RatingScoreMean','RatingScoreVariance','VaderMean','VaderVariance']\n",
        "hotelRatingDf = hotelRatingDf.sort_values('RatingScoreMean',ascending=0)\n",
        "hotelRatingDf.head()"
      ],
      "execution_count": 92,
      "outputs": [
        {
          "output_type": "execute_result",
          "data": {
            "text/html": [
              "<div>\n",
              "<style scoped>\n",
              "    .dataframe tbody tr th:only-of-type {\n",
              "        vertical-align: middle;\n",
              "    }\n",
              "\n",
              "    .dataframe tbody tr th {\n",
              "        vertical-align: top;\n",
              "    }\n",
              "\n",
              "    .dataframe thead th {\n",
              "        text-align: right;\n",
              "    }\n",
              "</style>\n",
              "<table border=\"1\" class=\"dataframe\">\n",
              "  <thead>\n",
              "    <tr style=\"text-align: right;\">\n",
              "      <th></th>\n",
              "      <th>hotelName</th>\n",
              "      <th>Number of Reviews</th>\n",
              "      <th>RatingScoreMean</th>\n",
              "      <th>RatingScoreVariance</th>\n",
              "      <th>VaderMean</th>\n",
              "      <th>VaderVariance</th>\n",
              "    </tr>\n",
              "  </thead>\n",
              "  <tbody>\n",
              "    <tr>\n",
              "      <th>10</th>\n",
              "      <td>Sharp Motel</td>\n",
              "      <td>1</td>\n",
              "      <td>5.000000</td>\n",
              "      <td>NaN</td>\n",
              "      <td>0.964700</td>\n",
              "      <td>NaN</td>\n",
              "    </tr>\n",
              "    <tr>\n",
              "      <th>28</th>\n",
              "      <td>Serene Niagara Inn</td>\n",
              "      <td>2</td>\n",
              "      <td>5.000000</td>\n",
              "      <td>0.000000</td>\n",
              "      <td>0.981600</td>\n",
              "      <td>0.000010</td>\n",
              "    </tr>\n",
              "    <tr>\n",
              "      <th>24</th>\n",
              "      <td>Ascot Manor</td>\n",
              "      <td>3</td>\n",
              "      <td>5.000000</td>\n",
              "      <td>0.000000</td>\n",
              "      <td>0.926933</td>\n",
              "      <td>0.001824</td>\n",
              "    </tr>\n",
              "    <tr>\n",
              "      <th>11</th>\n",
              "      <td>Wenxin Bed &amp;amp; Breakfast</td>\n",
              "      <td>1</td>\n",
              "      <td>5.000000</td>\n",
              "      <td>NaN</td>\n",
              "      <td>0.976900</td>\n",
              "      <td>NaN</td>\n",
              "    </tr>\n",
              "    <tr>\n",
              "      <th>29</th>\n",
              "      <td>Two Rivers Bed &amp;amp; Breakfast</td>\n",
              "      <td>115</td>\n",
              "      <td>4.921739</td>\n",
              "      <td>0.090313</td>\n",
              "      <td>0.960105</td>\n",
              "      <td>0.004504</td>\n",
              "    </tr>\n",
              "  </tbody>\n",
              "</table>\n",
              "</div>"
            ],
            "text/plain": [
              "                         hotelName  Number of Reviews  ...  VaderMean  VaderVariance\n",
              "10                     Sharp Motel                  1  ...   0.964700            NaN\n",
              "28              Serene Niagara Inn                  2  ...   0.981600       0.000010\n",
              "24                     Ascot Manor                  3  ...   0.926933       0.001824\n",
              "11      Wenxin Bed &amp; Breakfast                  1  ...   0.976900            NaN\n",
              "29  Two Rivers Bed &amp; Breakfast                115  ...   0.960105       0.004504\n",
              "\n",
              "[5 rows x 6 columns]"
            ]
          },
          "metadata": {
            "tags": []
          },
          "execution_count": 92
        }
      ]
    },
    {
      "cell_type": "markdown",
      "metadata": {
        "id": "eR7TFsLsRQXW",
        "colab_type": "text"
      },
      "source": [
        "In general boxplots are more informative becuase we can geet the sense of destribution (becuase not all are gaussian) and also the onutliers. In this case we can see the outlier in the box plot and also distributiosn are more clear in the boxplots.\n"
      ]
    },
    {
      "cell_type": "markdown",
      "metadata": {
        "id": "NqPTA-siDfkU",
        "colab_type": "text"
      },
      "source": [
        "**(c) Scatterplots and heatmaps**"
      ]
    },
    {
      "cell_type": "code",
      "metadata": {
        "id": "KUuq5wy3DcIr",
        "colab_type": "code",
        "colab": {
          "base_uri": "https://localhost:8080/",
          "height": 296
        },
        "outputId": "2e235cdd-48be-44cc-d407-f867478a33ba"
      },
      "source": [
        "y = finaldf['ratingScore'].values\n",
        "x = finaldf['vader'].values\n",
        "plt.plot(x, y,\"o\")\n",
        "plt.ylabel('Rating')\n",
        "plt.xlabel('Vader Score')"
      ],
      "execution_count": 93,
      "outputs": [
        {
          "output_type": "execute_result",
          "data": {
            "text/plain": [
              "Text(0.5, 0, 'Vader Score')"
            ]
          },
          "metadata": {
            "tags": []
          },
          "execution_count": 93
        },
        {
          "output_type": "display_data",
          "data": {
            "image/png": "[encoded data removed]",
            "text/plain": [
              "<Figure size 432x288 with 1 Axes>"
            ]
          },
          "metadata": {
            "tags": [],
            "needs_background": "light"
          }
        }
      ]
    },
    {
      "cell_type": "markdown",
      "metadata": {
        "id": "8fuhB01gDpDc",
        "colab_type": "text"
      },
      "source": [
        "we can see that the in higer ground truth ratings the vader score is performing more better than the negative ground truth ratings. in case of lower ratings the vader has uniform distribution clealry meaning the vader is giving postive values for lower ratings and this can be due to the more subtle negative reviews. in case of positive raings the ratings are subjective eventhough two users right same review they can still give different ratings becuase it is subjective to them."
      ]
    },
    {
      "cell_type": "code",
      "metadata": {
        "id": "xoBbur7BDh4p",
        "colab_type": "code",
        "colab": {}
      },
      "source": [
        "from scipy.stats.kde import gaussian_kde\n",
        "\n",
        "k = gaussian_kde(np.vstack([x, y]))\n",
        "xi, yi = np.mgrid[x.min():x.max():x.size**0.5*1j,y.min():y.max():y.size**0.5*1j]\n",
        "zi = k(np.vstack([xi.flatten(), yi.flatten()]))"
      ],
      "execution_count": 94,
      "outputs": []
    },
    {
      "cell_type": "code",
      "metadata": {
        "id": "_ijL1Q_XDkAo",
        "colab_type": "code",
        "colab": {
          "base_uri": "https://localhost:8080/",
          "height": 518
        },
        "outputId": "0bfa5fc0-3ef0-4524-e26a-0cfe1b20b784"
      },
      "source": [
        "cmap = sns.cubehelix_palette(light=1, as_cmap=True)\n",
        "fig = plt.figure(figsize=(6,8))\n",
        "ax1 = fig.add_subplot(211)\n",
        "ax2 = fig.add_subplot(212)\n",
        "\n",
        "ax1.pcolormesh(xi, yi, np.log10(zi.reshape(xi.shape)), cmap=cmap)\n",
        "ax2.contourf(xi, yi, np.log10(zi.reshape(xi.shape)), cmap=cmap)\n",
        "\n",
        "ax1.set_xlim(x.min(), x.max())\n",
        "ax1.set_ylim(y.min(), y.max())\n",
        "ax2.set_xlim(x.min(), x.max())\n",
        "ax2.set_ylim(y.min(), y.max())\n",
        "\n",
        "ax1.set_xlabel('Vader Score')\n",
        "ax1.set_ylabel('Rating')\n",
        "\n",
        "ax2.set_xlabel('Vader Score')\n",
        "ax2.set_ylabel('Rating')"
      ],
      "execution_count": 95,
      "outputs": [
        {
          "output_type": "execute_result",
          "data": {
            "text/plain": [
              "Text(0, 0.5, 'Rating')"
            ]
          },
          "metadata": {
            "tags": []
          },
          "execution_count": 95
        },
        {
          "output_type": "display_data",
          "data": {
            "image/png": "[encoded data removed]",
            "text/plain": [
              "<Figure size 432x576 with 2 Axes>"
            ]
          },
          "metadata": {
            "tags": [],
            "needs_background": "light"
          }
        }
      ]
    },
    {
      "cell_type": "code",
      "metadata": {
        "id": "YJThqbO3DlhB",
        "colab_type": "code",
        "colab": {
          "base_uri": "https://localhost:8080/",
          "height": 296
        },
        "outputId": "f3e92ec2-d271-4602-a34c-9eeab3ecd603"
      },
      "source": [
        "x = finaldf['reviewCol'].apply(len).values\n",
        "y = finaldf['ratingScore'].values\n",
        "plt.plot(x, y,\"o\")\n",
        "plt.ylabel('Rating Score')\n",
        "plt.xlabel('Length of Reviews')"
      ],
      "execution_count": 96,
      "outputs": [
        {
          "output_type": "execute_result",
          "data": {
            "text/plain": [
              "Text(0.5, 0, 'Length of Reviews')"
            ]
          },
          "metadata": {
            "tags": []
          },
          "execution_count": 96
        },
        {
          "output_type": "display_data",
          "data": {
            "image/png": "[encoded data removed]",
            "text/plain": [
              "<Figure size 432x288 with 1 Axes>"
            ]
          },
          "metadata": {
            "tags": [],
            "needs_background": "light"
          }
        }
      ]
    },
    {
      "cell_type": "markdown",
      "metadata": {
        "id": "WCVFEkjTDx52",
        "colab_type": "text"
      },
      "source": [
        "we can see that the lenght review has no speicfic effect on the raing the distribution is almost uniform.\n",
        "\n"
      ]
    },
    {
      "cell_type": "code",
      "metadata": {
        "id": "jixUlXtaDrdH",
        "colab_type": "code",
        "colab": {}
      },
      "source": [
        "from scipy.stats.kde import gaussian_kde\n",
        "\n",
        "k = gaussian_kde(np.vstack([x, y]))\n",
        "xi, yi = np.mgrid[x.min():x.max():x.size**0.5*1j,y.min():y.max():y.size**0.5*1j]\n",
        "zi = k(np.vstack([xi.flatten(), yi.flatten()]))"
      ],
      "execution_count": 97,
      "outputs": []
    },
    {
      "cell_type": "code",
      "metadata": {
        "id": "Z0T1WKUVDrkF",
        "colab_type": "code",
        "colab": {
          "base_uri": "https://localhost:8080/",
          "height": 518
        },
        "outputId": "80045190-c84e-4630-c162-e9050b574b50"
      },
      "source": [
        "cmap = sns.cubehelix_palette(light=1, as_cmap=True)\n",
        "fig = plt.figure(figsize=(6,8))\n",
        "ax1 = fig.add_subplot(211)\n",
        "ax2 = fig.add_subplot(212)\n",
        "\n",
        "ax1.pcolormesh(xi, yi, np.log10(zi.reshape(xi.shape)), cmap=cmap)\n",
        "ax2.contourf(xi, yi, np.log10(zi.reshape(xi.shape)), cmap=cmap)\n",
        "\n",
        "ax1.set_xlim(x.min(), x.max())\n",
        "ax1.set_ylim(y.min(), y.max())\n",
        "ax2.set_xlim(x.min(), x.max())\n",
        "ax2.set_ylim(y.min(), y.max())\n",
        "\n",
        "ax1.set_xlabel('Vader Score')\n",
        "ax1.set_ylabel('Rating')\n",
        "\n",
        "ax2.set_xlabel('Vader Score')\n",
        "ax2.set_ylabel('Rating')"
      ],
      "execution_count": 98,
      "outputs": [
        {
          "output_type": "execute_result",
          "data": {
            "text/plain": [
              "Text(0, 0.5, 'Rating')"
            ]
          },
          "metadata": {
            "tags": []
          },
          "execution_count": 98
        },
        {
          "output_type": "display_data",
          "data": {
            "image/png": "[encoded data removed]",
            "text/plain": [
              "<Figure size 432x576 with 2 Axes>"
            ]
          },
          "metadata": {
            "tags": [],
            "needs_background": "light"
          }
        }
      ]
    },
    {
      "cell_type": "code",
      "metadata": {
        "id": "7IfSXQ2rDroJ",
        "colab_type": "code",
        "colab": {
          "base_uri": "https://localhost:8080/",
          "height": 296
        },
        "outputId": "1df93d50-878a-4faa-a704-f6bbe4f9e5ab"
      },
      "source": [
        "x = finaldf['reviewCol'].apply(len).values\n",
        "y = finaldf['vader'].values\n",
        "plt.plot(x, y,\"o\")\n",
        "plt.ylabel('Vader Scores')\n",
        "plt.xlabel('Length of Reviews')"
      ],
      "execution_count": 99,
      "outputs": [
        {
          "output_type": "execute_result",
          "data": {
            "text/plain": [
              "Text(0.5, 0, 'Length of Reviews')"
            ]
          },
          "metadata": {
            "tags": []
          },
          "execution_count": 99
        },
        {
          "output_type": "display_data",
          "data": {
            "image/png": "[encoded data removed]",
            "text/plain": [
              "<Figure size 432x288 with 1 Axes>"
            ]
          },
          "metadata": {
            "tags": [],
            "needs_background": "light"
          }
        }
      ]
    },
    {
      "cell_type": "markdown",
      "metadata": {
        "id": "MXevRR4TD5Km",
        "colab_type": "text"
      },
      "source": [
        "We can see that this distribution is different from the above uniform distribution. The vader is getting more wrong in specific the 3 rating and 2 rating reviews which are larger. it means the reviews where the rater is writing more lenghtly reviews but only very few negative words and also the subjectiviey of the rater comes in to the part.\n",
        "\n",
        "For lenghty reviews with mixed words may get the vader wrong. becuase during normalization of the vader score the lenghty reviews clearly get towards the positive side and this can be partially tuned."
      ]
    },
    {
      "cell_type": "code",
      "metadata": {
        "id": "LcjrbbD7Drgs",
        "colab_type": "code",
        "colab": {}
      },
      "source": [
        "from scipy.stats.kde import gaussian_kde\n",
        "\n",
        "k = gaussian_kde(np.vstack([x, y]))\n",
        "xi, yi = np.mgrid[x.min():x.max():x.size**0.5*1j,y.min():y.max():y.size**0.5*1j]\n",
        "zi = k(np.vstack([xi.flatten(), yi.flatten()]))"
      ],
      "execution_count": 100,
      "outputs": []
    },
    {
      "cell_type": "code",
      "metadata": {
        "id": "Ixr7uRUTD8yH",
        "colab_type": "code",
        "colab": {
          "base_uri": "https://localhost:8080/",
          "height": 513
        },
        "outputId": "dff41c2f-1b4a-4417-8d45-19775eda254c"
      },
      "source": [
        "cmap = sns.cubehelix_palette(light=1, as_cmap=True)\n",
        "fig = plt.figure(figsize=(6,8))\n",
        "ax1 = fig.add_subplot(211)\n",
        "ax2 = fig.add_subplot(212)\n",
        "\n",
        "ax1.pcolormesh(xi, yi, np.log10(zi.reshape(xi.shape)), cmap=cmap)\n",
        "ax2.contourf(xi, yi, np.log10(zi.reshape(xi.shape)), cmap=cmap)\n",
        "\n",
        "ax1.set_xlim(x.min(), x.max())\n",
        "ax1.set_ylim(y.min(), y.max())\n",
        "ax2.set_xlim(x.min(), x.max())\n",
        "ax2.set_ylim(y.min(), y.max())\n",
        "\n",
        "ax1.set_xlabel('Vader Score')\n",
        "ax1.set_ylabel('Rating')\n",
        "\n",
        "ax2.set_xlabel('Vader Score')\n",
        "ax2.set_ylabel('Rating')"
      ],
      "execution_count": 101,
      "outputs": [
        {
          "output_type": "execute_result",
          "data": {
            "text/plain": [
              "Text(0, 0.5, 'Rating')"
            ]
          },
          "metadata": {
            "tags": []
          },
          "execution_count": 101
        },
        {
          "output_type": "display_data",
          "data": {
            "image/png": "[encoded data removed]",
            "text/plain": [
              "<Figure size 432x576 with 2 Axes>"
            ]
          },
          "metadata": {
            "tags": [],
            "needs_background": "light"
          }
        }
      ]
    },
    {
      "cell_type": "code",
      "metadata": {
        "id": "f1ufi_00D_zA",
        "colab_type": "code",
        "colab": {
          "base_uri": "https://localhost:8080/",
          "height": 296
        },
        "outputId": "56f66b1a-3eef-4470-e506-122664be6de5"
      },
      "source": [
        "x = finaldf['reviewCol'].apply(len).values\n",
        "y = finaldf['vader'].values\n",
        "plt.plot(x, y,\"o\")\n",
        "plt.ylabel('Vader Scores')\n",
        "plt.xlabel('Length of Reviews')"
      ],
      "execution_count": 102,
      "outputs": [
        {
          "output_type": "execute_result",
          "data": {
            "text/plain": [
              "Text(0.5, 0, 'Length of Reviews')"
            ]
          },
          "metadata": {
            "tags": []
          },
          "execution_count": 102
        },
        {
          "output_type": "display_data",
          "data": {
            "image/png": "[encoded data removed]",
            "text/plain": [
              "<Figure size 432x288 with 1 Axes>"
            ]
          },
          "metadata": {
            "tags": [],
            "needs_background": "light"
          }
        }
      ]
    },
    {
      "cell_type": "markdown",
      "metadata": {
        "id": "5YoplvaLRj8v",
        "colab_type": "text"
      },
      "source": [
        "We can see that this distribution is different from the above uniform distribution. The vader is getting more wrong in specific the 3 rating and 2 rating reviews which are larger. it means the reviews where the rater is writing more lenghtly reviews but only very few negative words and also the subjectiviey of the rater comes in to the part.\n",
        "For lenghty reviews with mixed words may get the vader wrong. becuase during normalization of the vader score the lenghty reviews clearly get towards the positive side and this can be partially tuned.\n"
      ]
    },
    {
      "cell_type": "markdown",
      "metadata": {
        "id": "UgTXNh_uEDBE",
        "colab_type": "text"
      },
      "source": [
        "We can see that the lower number of reviews the ratings are spread and for hihger reviews they are moslty positive. I cannot generalize anything becuase I have less number of hotels and only these two hotels may have strategic advatage."
      ]
    },
    {
      "cell_type": "code",
      "metadata": {
        "id": "H4no6sBUEEqM",
        "colab_type": "code",
        "colab": {
          "base_uri": "https://localhost:8080/",
          "height": 296
        },
        "outputId": "eb628a13-b1ea-4a6f-f592-29ba9871c80e"
      },
      "source": [
        "x = hotelRatingDf['Number of Reviews'].values\n",
        "y = hotelRatingDf['VaderMean'].values\n",
        "plt.plot(x, y,\"o\")\n",
        "plt.ylabel('RatingScoreMean')\n",
        "plt.xlabel('Number of Reviews')"
      ],
      "execution_count": 103,
      "outputs": [
        {
          "output_type": "execute_result",
          "data": {
            "text/plain": [
              "Text(0.5, 0, 'Number of Reviews')"
            ]
          },
          "metadata": {
            "tags": []
          },
          "execution_count": 103
        },
        {
          "output_type": "display_data",
          "data": {
            "image/png": "[encoded data removed]",
            "text/plain": [
              "<Figure size 432x288 with 1 Axes>"
            ]
          },
          "metadata": {
            "tags": [],
            "needs_background": "light"
          }
        }
      ]
    },
    {
      "cell_type": "markdown",
      "metadata": {
        "id": "Ie4OiMv_EGfy",
        "colab_type": "text"
      },
      "source": [
        "I cannot generalize thisto becuase the hotels can have strategic advantage. and also the outlier for the one vader is due to the hotel has only one review."
      ]
    },
    {
      "cell_type": "code",
      "metadata": {
        "id": "ZnRKMRazECdv",
        "colab_type": "code",
        "colab": {
          "base_uri": "https://localhost:8080/",
          "height": 33
        },
        "outputId": "a7f555c6-0fbd-4048-a0ce-ec510175ca6b"
      },
      "source": [
        "finaldf_phrase.shape"
      ],
      "execution_count": 104,
      "outputs": [
        {
          "output_type": "execute_result",
          "data": {
            "text/plain": [
              "(18131, 505)"
            ]
          },
          "metadata": {
            "tags": []
          },
          "execution_count": 104
        }
      ]
    },
    {
      "cell_type": "code",
      "metadata": {
        "id": "PFwBWoZ1EAJm",
        "colab_type": "code",
        "colab": {}
      },
      "source": [
        "mldf = finaldf_phrase.iloc[:,0:55]"
      ],
      "execution_count": 105,
      "outputs": []
    },
    {
      "cell_type": "code",
      "metadata": {
        "id": "yz9AQz0eEANQ",
        "colab_type": "code",
        "colab": {
          "base_uri": "https://localhost:8080/",
          "height": 601
        },
        "outputId": "22f9f179-d359-4303-90f4-72c9d79526d3"
      },
      "source": [
        "mldf.head()"
      ],
      "execution_count": 106,
      "outputs": [
        {
          "output_type": "execute_result",
          "data": {
            "text/html": [
              "<div>\n",
              "<style scoped>\n",
              "    .dataframe tbody tr th:only-of-type {\n",
              "        vertical-align: middle;\n",
              "    }\n",
              "\n",
              "    .dataframe tbody tr th {\n",
              "        vertical-align: top;\n",
              "    }\n",
              "\n",
              "    .dataframe thead th {\n",
              "        text-align: right;\n",
              "    }\n",
              "</style>\n",
              "<table border=\"1\" class=\"dataframe\">\n",
              "  <thead>\n",
              "    <tr style=\"text-align: right;\">\n",
              "      <th></th>\n",
              "      <th>hotelName</th>\n",
              "      <th>ratingScore</th>\n",
              "      <th>groundTruth</th>\n",
              "      <th>reviewCol</th>\n",
              "      <th>vader</th>\n",
              "      <th>niagara fall</th>\n",
              "      <th>front desk</th>\n",
              "      <th>clifton hill</th>\n",
              "      <th>great view</th>\n",
              "      <th>fallsview room</th>\n",
              "      <th>american fall</th>\n",
              "      <th>minute walk</th>\n",
              "      <th>great location</th>\n",
              "      <th>water park</th>\n",
              "      <th>hotel room</th>\n",
              "      <th>breakfast buffet</th>\n",
              "      <th>nthe room</th>\n",
              "      <th>horseshoe fall</th>\n",
              "      <th>hot tub</th>\n",
              "      <th>amazing view</th>\n",
              "      <th>hotel staff</th>\n",
              "      <th>short walk</th>\n",
              "      <th>falls view room</th>\n",
              "      <th>first time</th>\n",
              "      <th>parking lot</th>\n",
              "      <th>nthe hotel</th>\n",
              "      <th>room service</th>\n",
              "      <th>fall view</th>\n",
              "      <th>queen bed</th>\n",
              "      <th>canadian side</th>\n",
              "      <th>night stay</th>\n",
              "      <th>great place</th>\n",
              "      <th>front desk staff</th>\n",
              "      <th>crowne plaza</th>\n",
              "      <th>great time</th>\n",
              "      <th>next day</th>\n",
              "      <th>indoor pool</th>\n",
              "      <th>valet parking</th>\n",
              "      <th>spectacular view</th>\n",
              "      <th>customer service</th>\n",
              "      <th>pool area</th>\n",
              "      <th>fall view room</th>\n",
              "      <th>marriott fallsview</th>\n",
              "      <th>next time</th>\n",
              "      <th>rainbow bridge</th>\n",
              "      <th>great hotel</th>\n",
              "      <th>beautiful view</th>\n",
              "      <th>nice hotel</th>\n",
              "      <th>buffet breakfast</th>\n",
              "      <th>first night</th>\n",
              "      <th>free wifi</th>\n",
              "      <th>next morning</th>\n",
              "      <th>great stay</th>\n",
              "      <th>canadian fall</th>\n",
              "      <th>good view</th>\n",
              "    </tr>\n",
              "  </thead>\n",
              "  <tbody>\n",
              "    <tr>\n",
              "      <th>0</th>\n",
              "      <td>E-Lodge Near the Falls</td>\n",
              "      <td>4</td>\n",
              "      <td>positive</td>\n",
              "      <td>\"my husband son and I came for Canada Day.  We...</td>\n",
              "      <td>0.9017</td>\n",
              "      <td>0</td>\n",
              "      <td>0</td>\n",
              "      <td>1</td>\n",
              "      <td>0</td>\n",
              "      <td>0</td>\n",
              "      <td>0</td>\n",
              "      <td>0</td>\n",
              "      <td>0</td>\n",
              "      <td>0</td>\n",
              "      <td>0</td>\n",
              "      <td>0</td>\n",
              "      <td>0</td>\n",
              "      <td>0</td>\n",
              "      <td>0</td>\n",
              "      <td>0</td>\n",
              "      <td>0</td>\n",
              "      <td>0</td>\n",
              "      <td>0</td>\n",
              "      <td>0</td>\n",
              "      <td>0</td>\n",
              "      <td>0</td>\n",
              "      <td>1</td>\n",
              "      <td>0</td>\n",
              "      <td>0</td>\n",
              "      <td>0</td>\n",
              "      <td>0</td>\n",
              "      <td>0</td>\n",
              "      <td>0</td>\n",
              "      <td>0</td>\n",
              "      <td>0</td>\n",
              "      <td>0</td>\n",
              "      <td>0</td>\n",
              "      <td>0</td>\n",
              "      <td>0</td>\n",
              "      <td>0</td>\n",
              "      <td>0</td>\n",
              "      <td>0</td>\n",
              "      <td>0</td>\n",
              "      <td>0</td>\n",
              "      <td>0</td>\n",
              "      <td>0</td>\n",
              "      <td>0</td>\n",
              "      <td>0</td>\n",
              "      <td>0</td>\n",
              "      <td>0</td>\n",
              "      <td>0</td>\n",
              "      <td>0</td>\n",
              "      <td>0</td>\n",
              "      <td>0</td>\n",
              "      <td>0</td>\n",
              "    </tr>\n",
              "    <tr>\n",
              "      <th>1</th>\n",
              "      <td>E-Lodge Near the Falls</td>\n",
              "      <td>5</td>\n",
              "      <td>positive</td>\n",
              "      <td>\"Smashing!! We were welcomed to the Motel by e...</td>\n",
              "      <td>0.9114</td>\n",
              "      <td>0</td>\n",
              "      <td>0</td>\n",
              "      <td>0</td>\n",
              "      <td>0</td>\n",
              "      <td>0</td>\n",
              "      <td>0</td>\n",
              "      <td>0</td>\n",
              "      <td>0</td>\n",
              "      <td>0</td>\n",
              "      <td>0</td>\n",
              "      <td>0</td>\n",
              "      <td>0</td>\n",
              "      <td>0</td>\n",
              "      <td>0</td>\n",
              "      <td>0</td>\n",
              "      <td>0</td>\n",
              "      <td>0</td>\n",
              "      <td>0</td>\n",
              "      <td>0</td>\n",
              "      <td>0</td>\n",
              "      <td>0</td>\n",
              "      <td>0</td>\n",
              "      <td>0</td>\n",
              "      <td>0</td>\n",
              "      <td>0</td>\n",
              "      <td>0</td>\n",
              "      <td>0</td>\n",
              "      <td>0</td>\n",
              "      <td>0</td>\n",
              "      <td>0</td>\n",
              "      <td>0</td>\n",
              "      <td>0</td>\n",
              "      <td>0</td>\n",
              "      <td>0</td>\n",
              "      <td>0</td>\n",
              "      <td>0</td>\n",
              "      <td>0</td>\n",
              "      <td>0</td>\n",
              "      <td>0</td>\n",
              "      <td>0</td>\n",
              "      <td>0</td>\n",
              "      <td>0</td>\n",
              "      <td>0</td>\n",
              "      <td>0</td>\n",
              "      <td>0</td>\n",
              "      <td>0</td>\n",
              "      <td>0</td>\n",
              "      <td>0</td>\n",
              "      <td>0</td>\n",
              "      <td>0</td>\n",
              "    </tr>\n",
              "    <tr>\n",
              "      <th>2</th>\n",
              "      <td>E-Lodge Near the Falls</td>\n",
              "      <td>2</td>\n",
              "      <td>negative</td>\n",
              "      <td>\"We chose this hotel as we had a car and did n...</td>\n",
              "      <td>0.5951</td>\n",
              "      <td>0</td>\n",
              "      <td>0</td>\n",
              "      <td>0</td>\n",
              "      <td>0</td>\n",
              "      <td>0</td>\n",
              "      <td>0</td>\n",
              "      <td>0</td>\n",
              "      <td>0</td>\n",
              "      <td>0</td>\n",
              "      <td>0</td>\n",
              "      <td>0</td>\n",
              "      <td>0</td>\n",
              "      <td>0</td>\n",
              "      <td>0</td>\n",
              "      <td>0</td>\n",
              "      <td>0</td>\n",
              "      <td>0</td>\n",
              "      <td>0</td>\n",
              "      <td>0</td>\n",
              "      <td>0</td>\n",
              "      <td>0</td>\n",
              "      <td>0</td>\n",
              "      <td>0</td>\n",
              "      <td>0</td>\n",
              "      <td>0</td>\n",
              "      <td>0</td>\n",
              "      <td>0</td>\n",
              "      <td>0</td>\n",
              "      <td>0</td>\n",
              "      <td>0</td>\n",
              "      <td>0</td>\n",
              "      <td>0</td>\n",
              "      <td>0</td>\n",
              "      <td>0</td>\n",
              "      <td>0</td>\n",
              "      <td>0</td>\n",
              "      <td>0</td>\n",
              "      <td>0</td>\n",
              "      <td>0</td>\n",
              "      <td>0</td>\n",
              "      <td>0</td>\n",
              "      <td>0</td>\n",
              "      <td>0</td>\n",
              "      <td>0</td>\n",
              "      <td>0</td>\n",
              "      <td>0</td>\n",
              "      <td>0</td>\n",
              "      <td>0</td>\n",
              "      <td>0</td>\n",
              "      <td>0</td>\n",
              "    </tr>\n",
              "    <tr>\n",
              "      <th>3</th>\n",
              "      <td>E-Lodge Near the Falls</td>\n",
              "      <td>4</td>\n",
              "      <td>positive</td>\n",
              "      <td>\"Very affordable rooms in the Niagara Falls ar...</td>\n",
              "      <td>0.0129</td>\n",
              "      <td>0</td>\n",
              "      <td>0</td>\n",
              "      <td>0</td>\n",
              "      <td>0</td>\n",
              "      <td>0</td>\n",
              "      <td>0</td>\n",
              "      <td>0</td>\n",
              "      <td>0</td>\n",
              "      <td>0</td>\n",
              "      <td>0</td>\n",
              "      <td>0</td>\n",
              "      <td>0</td>\n",
              "      <td>0</td>\n",
              "      <td>0</td>\n",
              "      <td>0</td>\n",
              "      <td>0</td>\n",
              "      <td>0</td>\n",
              "      <td>0</td>\n",
              "      <td>0</td>\n",
              "      <td>0</td>\n",
              "      <td>0</td>\n",
              "      <td>0</td>\n",
              "      <td>0</td>\n",
              "      <td>0</td>\n",
              "      <td>0</td>\n",
              "      <td>0</td>\n",
              "      <td>0</td>\n",
              "      <td>0</td>\n",
              "      <td>0</td>\n",
              "      <td>0</td>\n",
              "      <td>0</td>\n",
              "      <td>0</td>\n",
              "      <td>0</td>\n",
              "      <td>0</td>\n",
              "      <td>0</td>\n",
              "      <td>0</td>\n",
              "      <td>0</td>\n",
              "      <td>0</td>\n",
              "      <td>0</td>\n",
              "      <td>0</td>\n",
              "      <td>0</td>\n",
              "      <td>0</td>\n",
              "      <td>0</td>\n",
              "      <td>0</td>\n",
              "      <td>0</td>\n",
              "      <td>0</td>\n",
              "      <td>0</td>\n",
              "      <td>0</td>\n",
              "      <td>0</td>\n",
              "      <td>0</td>\n",
              "    </tr>\n",
              "    <tr>\n",
              "      <th>4</th>\n",
              "      <td>E-Lodge Near the Falls</td>\n",
              "      <td>1</td>\n",
              "      <td>negative</td>\n",
              "      <td>\"I booked this hotel online, without having se...</td>\n",
              "      <td>-0.7219</td>\n",
              "      <td>1</td>\n",
              "      <td>0</td>\n",
              "      <td>0</td>\n",
              "      <td>0</td>\n",
              "      <td>0</td>\n",
              "      <td>0</td>\n",
              "      <td>0</td>\n",
              "      <td>0</td>\n",
              "      <td>0</td>\n",
              "      <td>0</td>\n",
              "      <td>0</td>\n",
              "      <td>0</td>\n",
              "      <td>0</td>\n",
              "      <td>0</td>\n",
              "      <td>0</td>\n",
              "      <td>0</td>\n",
              "      <td>0</td>\n",
              "      <td>0</td>\n",
              "      <td>0</td>\n",
              "      <td>0</td>\n",
              "      <td>0</td>\n",
              "      <td>0</td>\n",
              "      <td>0</td>\n",
              "      <td>0</td>\n",
              "      <td>0</td>\n",
              "      <td>0</td>\n",
              "      <td>0</td>\n",
              "      <td>0</td>\n",
              "      <td>0</td>\n",
              "      <td>0</td>\n",
              "      <td>0</td>\n",
              "      <td>0</td>\n",
              "      <td>0</td>\n",
              "      <td>0</td>\n",
              "      <td>0</td>\n",
              "      <td>0</td>\n",
              "      <td>0</td>\n",
              "      <td>0</td>\n",
              "      <td>0</td>\n",
              "      <td>0</td>\n",
              "      <td>0</td>\n",
              "      <td>0</td>\n",
              "      <td>0</td>\n",
              "      <td>0</td>\n",
              "      <td>0</td>\n",
              "      <td>0</td>\n",
              "      <td>0</td>\n",
              "      <td>0</td>\n",
              "      <td>0</td>\n",
              "      <td>0</td>\n",
              "    </tr>\n",
              "  </tbody>\n",
              "</table>\n",
              "</div>"
            ],
            "text/plain": [
              "                hotelName  ratingScore  ... canadian fall good view\n",
              "0  E-Lodge Near the Falls            4  ...             0         0\n",
              "1  E-Lodge Near the Falls            5  ...             0         0\n",
              "2  E-Lodge Near the Falls            2  ...             0         0\n",
              "3  E-Lodge Near the Falls            4  ...             0         0\n",
              "4  E-Lodge Near the Falls            1  ...             0         0\n",
              "\n",
              "[5 rows x 55 columns]"
            ]
          },
          "metadata": {
            "tags": []
          },
          "execution_count": 106
        }
      ]
    },
    {
      "cell_type": "code",
      "metadata": {
        "id": "T4PcENG3EAHB",
        "colab_type": "code",
        "colab": {}
      },
      "source": [
        "from sklearn.linear_model import LogisticRegression\n",
        "from sklearn.naive_bayes import GaussianNB, BernoulliNB, MultinomialNB\n",
        "from sklearn.model_selection import train_test_split\n",
        "from sklearn.metrics import accuracy_score, confusion_matrix\n",
        "from sklearn.exceptions import ConvergenceWarning\n",
        "import numpy as np\n",
        "from scipy import stats"
      ],
      "execution_count": 107,
      "outputs": []
    },
    {
      "cell_type": "code",
      "metadata": {
        "id": "IESdWIwREAEx",
        "colab_type": "code",
        "colab": {
          "base_uri": "https://localhost:8080/",
          "height": 50
        },
        "outputId": "e6f384d1-3660-4cec-a65f-2586251e5a47"
      },
      "source": [
        "# get the baseline data\n",
        "X =  mldf.iloc[:,5:55]\n",
        "y = [1 if word == 'positive' else 0 for word in mldf['groundTruth'].values ]\n",
        "\n",
        "\n",
        "\n",
        "# split to train and test set\n",
        "X_train, X_test, y_train, y_test = train_test_split(X, y, test_size=0.3, random_state=42)\n",
        "\n",
        "# train a logistic regression classifier\n",
        "clf = LogisticRegression(C=1.0).fit(X_train, y_train)\n",
        "\n",
        "# predict on train and test set\n",
        "y_train_predict = clf.predict(X_train)\n",
        "y_test_predict = clf.predict(X_test)\n",
        "\n",
        "# calculate train and test accuracy\n",
        "train_accuracy = accuracy_score(y_train, y_train_predict)\n",
        "test_accuracy = accuracy_score(y_test, y_test_predict)\n",
        "\n",
        "# report results\n",
        "print(\"Train accuracy: {}\".format(train_accuracy))\n",
        "print(\"Test accuracy: {}\".format(test_accuracy))"
      ],
      "execution_count": 108,
      "outputs": [
        {
          "output_type": "stream",
          "text": [
            "Train accuracy: 0.7108186904105271\n",
            "Test accuracy: 0.70625\n"
          ],
          "name": "stdout"
        }
      ]
    },
    {
      "cell_type": "code",
      "metadata": {
        "id": "NMTQfHZ-EABx",
        "colab_type": "code",
        "colab": {}
      },
      "source": [
        "def random_mean_ci(X, y, num_tests):\n",
        "  # train_results is a list of train accuracy results for the differrent random splits of the dataset\n",
        "  train_results = []\n",
        "\n",
        "  # test_results is a list of test accuracy results for the differrent random splits of the dataset\n",
        "  test_results = []\n",
        "\n",
        "  for i in range(0,num_tests):\n",
        "\n",
        "    # split to train and test set\n",
        "    X_train, X_test, y_train, y_test = train_test_split(X, y, test_size=0.3, random_state=random.randint(1,1000))\n",
        "\n",
        "    # train a logistic regression classifier\n",
        "    clf = LogisticRegression(C=1.0).fit(X_train, y_train)\n",
        "\n",
        "    # predict on train and test set\n",
        "    y_train_predict = clf.predict(X_train)\n",
        "    y_test_predict = clf.predict(X_test)\n",
        "\n",
        "    # calculate train and test accuracy\n",
        "    train_accuracy = accuracy_score(y_train, y_train_predict)\n",
        "    test_accuracy = accuracy_score(y_test, y_test_predict)\n",
        "\n",
        "    train_results.append(train_accuracy)\n",
        "    test_results.append(test_accuracy)\n",
        "    \n",
        "\n",
        "  train_mean = np.mean(train_results)\n",
        "  train_ci_low, train_ci_high = stats.t.interval(0.95, len(train_results)-1, loc=train_mean, scale=stats.sem(train_results))\n",
        "\n",
        "  test_mean = np.mean(test_results)\n",
        "  test_ci_low, test_ci_high = stats.t.interval(0.95, len(test_results)-1, loc=test_mean, scale=stats.sem(test_results))\n",
        "\n",
        "\n",
        "  assert isinstance(train_mean, float) and isinstance(train_ci_low, float) and isinstance(train_ci_high, float), \"return types\"\n",
        "  assert isinstance(test_mean, float) and isinstance(test_ci_low, float) and isinstance(test_ci_high, float), \"return types\"\n",
        "\n",
        "  return train_mean, train_ci_low, train_ci_high, test_mean, test_ci_low, test_ci_high"
      ],
      "execution_count": 109,
      "outputs": []
    },
    {
      "cell_type": "code",
      "metadata": {
        "id": "99y4P5giD_63",
        "colab_type": "code",
        "colab": {
          "base_uri": "https://localhost:8080/",
          "height": 84
        },
        "outputId": "3b601c97-da23-43cb-a5d6-03a89715287d"
      },
      "source": [
        "train_mean10, train_low10, train_high10, test_mean10, test_low10, test_high10 = random_mean_ci(X, y, num_tests = 10)\n",
        "print(\"Train mean accuracy over 10 random splits: {}\".format(train_mean10))\n",
        "print(\"Train confidence interval over 10 random splits: [{}, {}]\".format(train_low10, train_high10))\n",
        "print(\"Test mean accuracy over 10 random splits: {}\".format(test_mean10))\n",
        "print(\"Test confidence interval over 10 random splits: [{}, {}]\".format(test_low10, test_high10))"
      ],
      "execution_count": 110,
      "outputs": [
        {
          "output_type": "stream",
          "text": [
            "Train mean accuracy over 10 random splits: 0.7103301552281145\n",
            "Train confidence interval over 10 random splits: [0.708423308198707, 0.712237002257522]\n",
            "Test mean accuracy over 10 random splits: 0.7073345588235294\n",
            "Test confidence interval over 10 random splits: [0.702736693960649, 0.7119324236864097]\n"
          ],
          "name": "stdout"
        }
      ]
    },
    {
      "cell_type": "code",
      "metadata": {
        "id": "5FafrRgVET4_",
        "colab_type": "code",
        "colab": {}
      },
      "source": [
        "reviews = reviewDF['reviewCol'].values  \n",
        "topk = miScoredf_phrase['Word'].values[0:50]        \n",
        "#Find out if a particular review has the word from topk list\n",
        "freqReview = []\n",
        "for i in range(len(reviews)):\n",
        "  tempCounter = Counter(flatten([word \n",
        "                                  for word \n",
        "                                  in get_terms(chunker.parse(nltk.pos_tag(re.findall(r'\\w+',reviews[i]))))]))\n",
        "  topkinReview = [1 if tempCounter[word] > 0 else 0 for word in topk]\n",
        "  freqReview.append(topkinReview)   \n",
        "#Prepare freqReviewDf\n",
        "MIReviewDf = pd.DataFrame(freqReview)"
      ],
      "execution_count": 111,
      "outputs": []
    },
    {
      "cell_type": "code",
      "metadata": {
        "id": "F6O_tCvdET8l",
        "colab_type": "code",
        "colab": {
          "base_uri": "https://localhost:8080/",
          "height": 50
        },
        "outputId": "330bb6fc-75f6-4aab-9e77-721d0ad9e9b9"
      },
      "source": [
        "X =  MIReviewDf\n",
        "y = [1 if word == 'positive' else 0 for word in mldf['groundTruth'].values ]\n",
        "\n",
        "X_train, X_test, y_train, y_test = train_test_split(X, y, test_size=0.3, random_state=42)\n",
        "\n",
        "clf = LogisticRegression(C=1.0).fit(X_train, y_train)\n",
        "\n",
        "y_train_predict = clf.predict(X_train)\n",
        "y_test_predict = clf.predict(X_test)\n",
        "\n",
        "train_accuracy = accuracy_score(y_train, y_train_predict)\n",
        "test_accuracy = accuracy_score(y_test, y_test_predict)\n",
        "\n",
        "print(\"Train accuracy: {}\".format(train_accuracy))\n",
        "print(\"Test accuracy: {}\".format(test_accuracy))"
      ],
      "execution_count": 112,
      "outputs": [
        {
          "output_type": "stream",
          "text": [
            "Train accuracy: 0.726341501851706\n",
            "Test accuracy: 0.7306985294117647\n"
          ],
          "name": "stdout"
        }
      ]
    },
    {
      "cell_type": "code",
      "metadata": {
        "id": "0fIO7sqgEUBE",
        "colab_type": "code",
        "colab": {
          "base_uri": "https://localhost:8080/",
          "height": 84
        },
        "outputId": "af82c16e-5ed1-47c2-f320-092ab59ed686"
      },
      "source": [
        "train_mean10, train_low10, train_high10, test_mean10, test_low10, test_high10 = random_mean_ci(X, y, num_tests = 10)\n",
        "print(\"Train mean accuracy over 10 random splits: {}\".format(train_mean10))\n",
        "print(\"Train confidence interval over 10 random splits: [{}, {}]\".format(train_low10, train_high10))\n",
        "print(\"Test mean accuracy over 10 random splits: {}\".format(test_mean10))\n",
        "print(\"Test confidence interval over 10 random splits: [{}, {}]\".format(test_low10, test_high10))"
      ],
      "execution_count": 113,
      "outputs": [
        {
          "output_type": "stream",
          "text": [
            "Train mean accuracy over 10 random splits: 0.7275234418091561\n",
            "Train confidence interval over 10 random splits: [0.7264052148620032, 0.728641668756309]\n",
            "Test mean accuracy over 10 random splits: 0.7263419117647059\n",
            "Test confidence interval over 10 random splits: [0.723719202209428, 0.7289646213199837]\n"
          ],
          "name": "stdout"
        }
      ]
    },
    {
      "cell_type": "code",
      "metadata": {
        "id": "rOk-CaFbEaEW",
        "colab_type": "code",
        "colab": {}
      },
      "source": [
        "#clf = BernoulliNB().fit(X_train, y_train)\n",
        "#clf = GaussianNB().fit(X_train, y_train)\n",
        "clf = MultinomialNB().fit(X_train, y_train)\n",
        "#clf = LogisticRegression(C=1.0).fit(X_train, y_train)"
      ],
      "execution_count": 114,
      "outputs": []
    },
    {
      "cell_type": "code",
      "metadata": {
        "id": "4OBXunYoEce-",
        "colab_type": "code",
        "colab": {
          "base_uri": "https://localhost:8080/",
          "height": 50
        },
        "outputId": "acf00a94-c3b6-4955-c0d6-d10df91202db"
      },
      "source": [
        "# get the baseline data\n",
        "X =  MIReviewDf\n",
        "y = [1 if word == 'positive' else 0 for word in mldf['groundTruth'].values ]\n",
        "\n",
        "X_train, X_test, y_train, y_test = train_test_split(X, y, test_size=0.3, random_state=42)\n",
        "\n",
        "clf = MultinomialNB().fit(X_train, y_train)\n",
        "\n",
        "y_train_predict = clf.predict(X_train)\n",
        "y_test_predict = clf.predict(X_test)\n",
        "\n",
        "train_accuracy = accuracy_score(y_train, y_train_predict)\n",
        "test_accuracy = accuracy_score(y_test, y_test_predict)\n",
        "\n",
        "print(\"Train accuracy: {}\".format(train_accuracy))\n",
        "print(\"Test accuracy: {}\".format(test_accuracy))"
      ],
      "execution_count": 115,
      "outputs": [
        {
          "output_type": "stream",
          "text": [
            "Train accuracy: 0.7246867859112757\n",
            "Test accuracy: 0.7261029411764706\n"
          ],
          "name": "stdout"
        }
      ]
    },
    {
      "cell_type": "code",
      "metadata": {
        "id": "UOkbRwanEcoc",
        "colab_type": "code",
        "colab": {
          "base_uri": "https://localhost:8080/",
          "height": 84
        },
        "outputId": "95cf9e25-6a81-44ed-e689-ffe134466fe9"
      },
      "source": [
        "train_mean10, train_low10, train_high10, test_mean10, test_low10, test_high10 = random_mean_ci(X, y, num_tests = 10)\n",
        "print(\"Train mean accuracy over 10 random splits: {}\".format(train_mean10))\n",
        "print(\"Train confidence interval over 10 random splits: [{}, {}]\".format(train_low10, train_high10))\n",
        "print(\"Test mean accuracy over 10 random splits: {}\".format(test_mean10))\n",
        "print(\"Test confidence interval over 10 random splits: [{}, {}]\".format(test_low10, test_high10))"
      ],
      "execution_count": 116,
      "outputs": [
        {
          "output_type": "stream",
          "text": [
            "Train mean accuracy over 10 random splits: 0.7279410605941218\n",
            "Train confidence interval over 10 random splits: [0.7265806865844779, 0.7293014346037656]\n",
            "Test mean accuracy over 10 random splits: 0.7256433823529411\n",
            "Test confidence interval over 10 random splits: [0.7225805463344603, 0.7287062183714219]\n"
          ],
          "name": "stdout"
        }
      ]
    }
  ]
}